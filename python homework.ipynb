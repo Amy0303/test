{
 "cells": [
  {
   "cell_type": "markdown",
   "metadata": {},
   "source": [
    "# Homework"
   ]
  },
  {
   "cell_type": "code",
   "execution_count": 10,
   "metadata": {},
   "outputs": [],
   "source": [
    "\"\"\"\n",
    " 王者农药\n",
    " 人机对战\n",
    " 1.点击人机对战的按钮(输入)\n",
    " 2.挑选人物(典韦,赵云,鲁班)\n",
    " 3.显示战力,技能,防御\n",
    " 4.人物确定,随机出1个人机，包括战力,名字...等信息显示\n",
    " 5.点击开始按钮..\n",
    " 6.进入加载页面...\n",
    "\"\"\"\n",
    "import numpy as np\n",
    "class wangzhe(object):\n",
    "    def duizhan(self):\n",
    "        choose = input('请选择对战模式：人机 or 多人')\n",
    "        print(choose)\n",
    "    def tiaoxuan(self):\n",
    "        a = input('请选择人物：典韦，赵云，鲁班')\n",
    "        if a == '典韦':\n",
    "            print(a ,\":战力--1500，防御--1647\")\n",
    "        elif a == '赵云':\n",
    "            print(a , \":战力--1700，防御--1541\")\n",
    "        else:\n",
    "            print(a , \":战力--2453，防御--876\")\n",
    "    def renwu(self):\n",
    "        res = np.random.choice(['典韦','赵云','鲁班'])\n",
    "        if res == '典韦':\n",
    "            print(res,\":战力--1500，防御--1647\")\n",
    "        elif res == '赵云':\n",
    "            print(res , \":战力--1700，防御--1541\")\n",
    "        else:\n",
    "            print(res , \":战力--2453，防御--876\")\n",
    "    def start(self):\n",
    "        b = input('请输入开始:')\n",
    "        print(b,\"进入加载项......\")"
   ]
  },
  {
   "cell_type": "code",
   "execution_count": 11,
   "metadata": {},
   "outputs": [
    {
     "name": "stdout",
     "output_type": "stream",
     "text": [
      "请选择对战模式：人机 or 多人人机\n",
      "人机\n",
      "请选择人物：典韦，赵云，鲁班赵云\n",
      "赵云 :战力--1700，防御--1541\n",
      "鲁班 :战力--2453，防御--876\n",
      "请输入开始:11\n",
      "11 进入加载项......\n"
     ]
    }
   ],
   "source": [
    "a = wangzhe()\n",
    "a.duizhan()\n",
    "a.tiaoxuan()\n",
    "a.renwu()\n",
    "a.start()"
   ]
  },
  {
   "cell_type": "markdown",
   "metadata": {},
   "source": [
    "## 1.一个五角数被定义为n(3n-1)/2,编写一个测试程序使用这个函数显示前100个五角数，每行显示10个"
   ]
  },
  {
   "cell_type": "code",
   "execution_count": 6,
   "metadata": {},
   "outputs": [
    {
     "name": "stdout",
     "output_type": "stream",
     "text": [
      "1\t5\t12\t22\t35\t51\t70\t92\t117\t145\t\n",
      "176\t210\t247\t287\t330\t376\t425\t477\t532\t590\t\n",
      "651\t715\t782\t852\t925\t1001\t1080\t1162\t1247\t1335\t\n",
      "1426\t1520\t1617\t1717\t1820\t1926\t2035\t2147\t2262\t2380\t\n",
      "2501\t2625\t2752\t2882\t3015\t3151\t3290\t3432\t3577\t3725\t\n",
      "3876\t4030\t4187\t4347\t4510\t4676\t4845\t5017\t5192\t5370\t\n",
      "5551\t5735\t5922\t6112\t6305\t6501\t6700\t6902\t7107\t7315\t\n",
      "7526\t7740\t7957\t8177\t8400\t8626\t8855\t9087\t9322\t9560\t\n",
      "9801\t10045\t10292\t10542\t10795\t11051\t11310\t11572\t11837\t12105\t\n",
      "12376\t12650\t12927\t13207\t13490\t13776\t14065\t14357\t14652\t14950\t\n"
     ]
    }
   ],
   "source": [
    "def getPentagonalNumber(n):\n",
    "    c = int(n * (3 * n - 1) / 2)\n",
    "    print(c,end = '\\t')\n",
    "    if n % 10 == 0:\n",
    "        print() \n",
    "\n",
    "for i in range(1,101):\n",
    "    getPentagonalNumber(i)"
   ]
  },
  {
   "cell_type": "markdown",
   "metadata": {},
   "source": [
    "## 2.计算一个整数各个数字的和"
   ]
  },
  {
   "cell_type": "code",
   "execution_count": 1,
   "metadata": {},
   "outputs": [
    {
     "name": "stdout",
     "output_type": "stream",
     "text": [
      "输入数字：345\n",
      "12\n"
     ]
    }
   ],
   "source": [
    "# 输入三个数求和\n",
    "def sumDigits():\n",
    "    # 输入任意数字并赋值给input_num\n",
    "    input_num = input('输入数字：')\n",
    "    # 声明一个变量用于存放相加计算后的数字，初始值设定为0\n",
    "    sum_num = 0\n",
    "    # 判断输入的内容是否为数字\n",
    "    if input_num.isdigit():\n",
    "        # 循环input_num字符长度次，其中range()为python中生成数字序列的函数，len()为python获取字符串长度的函数\n",
    "        for i in range(len(input_num)):\n",
    "            # python中截取字符串中某一位的字符，方法为str[0:2](即：截取出名称为str的字符串的第0位到第2位之间的字符)\n",
    "            # 此处的意思是，截取输入的字符中第i个到第i+1个字符之间的字符，并赋值给cut_num\n",
    "            cut_num = input_num[i:i + 1]\n",
    "            # 重新给变量sum_num赋值为sum_num+截取到的数字的和\n",
    "            sum_num = sum_num + int(cut_num)\n",
    "            a = sum_num\n",
    "        # 打印（即：在控制台输出）输入的数字中各个数位数字相加的总和\n",
    "        print(a)\n",
    "    else:\n",
    "        print('你输入的不是数字，我不能计算，再见')\n",
    "    \n",
    "sumDigits()"
   ]
  },
  {
   "cell_type": "code",
   "execution_count": 16,
   "metadata": {},
   "outputs": [
    {
     "name": "stdout",
     "output_type": "stream",
     "text": [
      "12\n"
     ]
    }
   ],
   "source": [
    "def sumDigits(n):\n",
    "    #str 将括号中的内容强制转换为字符串\n",
    "    str_ = str(n)\n",
    "    int_ = 0\n",
    "    for i in str_:\n",
    "        int_ += int(i)\n",
    "    print(int_)\n",
    "\n",
    "sumDigits(345)"
   ]
  },
  {
   "cell_type": "markdown",
   "metadata": {},
   "source": [
    "## 3. 提醒用户输入三个整数，然后调用函数按升序显示三个数"
   ]
  },
  {
   "cell_type": "code",
   "execution_count": 5,
   "metadata": {},
   "outputs": [
    {
     "name": "stdout",
     "output_type": "stream",
     "text": [
      "请输入第一个整数：12\n",
      "请输入第二个整数：25\n",
      "请输入第三个整数：10\n",
      "10 12 25\n"
     ]
    }
   ],
   "source": [
    "a = int(input('请输入第一个整数：'))\n",
    "b = int(input('请输入第二个整数：'))\n",
    "c = int(input('请输入第三个整数：'))\n",
    "if a >  b > c:\n",
    "    print(c,b,a)\n",
    "elif a > c > b:\n",
    "    print(b, c, a)\n",
    "elif b > a > c:\n",
    "    print(c, a, b)\n",
    "elif b > c > a:\n",
    "    print(a, c, b)\n",
    "elif c > a > b:\n",
    "    print(b, a, c)\n",
    "else:\n",
    "    print(a, b, c)"
   ]
  },
  {
   "cell_type": "code",
   "execution_count": 9,
   "metadata": {},
   "outputs": [
    {
     "name": "stdout",
     "output_type": "stream",
     "text": [
      "[1, 2, 3]\n"
     ]
    }
   ],
   "source": [
    "def displaySortedNumbers(num1,num2,num3):\n",
    "    res = [num1,num2,num3]\n",
    "    res.sort()\n",
    "    print(res)\n",
    "\n",
    "displaySortedNumbers(3,2,1)"
   ]
  },
  {
   "cell_type": "markdown",
   "metadata": {},
   "source": [
    "## 4.编写一个程序提示用户输入投资额和百分比格式的年利率，然后输出一份表格显示年份从1到30年的未来值。"
   ]
  },
  {
   "cell_type": "code",
   "execution_count": 12,
   "metadata": {},
   "outputs": [
    {
     "name": "stdout",
     "output_type": "stream",
     "text": [
      "1 1050.0\t2 1050.0\t3 1050.0\t4 1050.0\t5 1050.0\t6 1050.0\t7 1050.0\t8 1050.0\t9 1050.0\t10 1050.0\t11 1050.0\t12 1050.0\t13 1050.0\t14 1050.0\t15 1050.0\t16 1050.0\t17 1050.0\t18 1050.0\t19 1050.0\t20 1050.0\t21 1050.0\t22 1050.0\t23 1050.0\t24 1050.0\t25 1050.0\t26 1050.0\t27 1050.0\t28 1050.0\t29 1050.0\t30 1050.0\t"
     ]
    }
   ],
   "source": [
    "def futureInvestmentValue(investmentAmount,monthlyInterestRate,years):\n",
    "    years = years + 1\n",
    "    for i in range(1,years):\n",
    "        value = investmentAmount + investmentAmount * monthlyInterestRate\n",
    "        print (i,value,end='\\t')\n",
    "\n",
    "futureInvestmentValue(1000,0.05,30)"
   ]
  },
  {
   "cell_type": "markdown",
   "metadata": {},
   "source": [
    "## 5.打印ch1到ch2之间的字符，按每行指定某个数来打印。编写一个测试程序，打印“1”到“Z”的字符，每行打印10个"
   ]
  },
  {
   "cell_type": "code",
   "execution_count": 33,
   "metadata": {},
   "outputs": [],
   "source": [
    "def printChar(ch1,ch2):\n",
    "    count = 0\n",
    "    #print(ord(\"1\"),ord(\"Z\"))\n",
    "    for i in range(49,91):\n",
    "        count += 1\n",
    "        if count % 10 != 0:\n",
    "            print(chr(i),end = '\\t')\n",
    "        else:\n",
    "            print(chr(i))"
   ]
  },
  {
   "cell_type": "code",
   "execution_count": 34,
   "metadata": {},
   "outputs": [
    {
     "name": "stdout",
     "output_type": "stream",
     "text": [
      "1\t2\t3\t4\t5\t6\t7\t8\t9\t:\n",
      ";\t<\t=\t>\t?\t@\tA\tB\tC\tD\n",
      "E\tF\tG\tH\tI\tJ\tK\tL\tM\tN\n",
      "O\tP\tQ\tR\tS\tT\tU\tV\tW\tX\n",
      "Y\tZ\t"
     ]
    }
   ],
   "source": [
    "printChar(1,2)"
   ]
  },
  {
   "cell_type": "markdown",
   "metadata": {},
   "source": [
    "## 6.编写一个程序测试，显示从2010年到2020年每年的天数"
   ]
  },
  {
   "cell_type": "code",
   "execution_count": 10,
   "metadata": {},
   "outputs": [],
   "source": [
    "def numberOfDaysInAYear():\n",
    "    for i in range(2010,2021):\n",
    "        if i % 4 == 0 and i%100 != 0:\n",
    "            print(i , '年',':366天')\n",
    "        else:\n",
    "            print(i , '年',':365天')"
   ]
  },
  {
   "cell_type": "code",
   "execution_count": 11,
   "metadata": {},
   "outputs": [
    {
     "name": "stdout",
     "output_type": "stream",
     "text": [
      "2010 年 :365天\n",
      "2011 年 :365天\n",
      "2012 年 :366天\n",
      "2013 年 :365天\n",
      "2014 年 :365天\n",
      "2015 年 :365天\n",
      "2016 年 :366天\n",
      "2017 年 :365天\n",
      "2018 年 :365天\n",
      "2019 年 :365天\n",
      "2020 年 :366天\n"
     ]
    }
   ],
   "source": [
    "numberOfDaysInAYear()"
   ]
  },
  {
   "cell_type": "markdown",
   "metadata": {},
   "source": [
    "## 7.计算两点间距离"
   ]
  },
  {
   "cell_type": "code",
   "execution_count": 39,
   "metadata": {},
   "outputs": [
    {
     "name": "stdout",
     "output_type": "stream",
     "text": [
      "(3, 5)\n",
      "(2, 4)\n",
      "1.4142135623730951\n"
     ]
    }
   ],
   "source": [
    "from math import sqrt\n",
    "class Point(object):\n",
    "    def __init__(self, x=0, y=0):\n",
    "        \"\"\"\n",
    "        初始化方法\n",
    "        :param x: 横坐标\n",
    "        :param y: 纵坐标\n",
    "        \"\"\"\n",
    "        self.x = x\n",
    "        self.y = y\n",
    "    def distance_to(self, other):\n",
    "        \"\"\"\n",
    "        计算与另一个点的距离\n",
    "        :param other: 另一个点\n",
    "        \"\"\"\n",
    "        dx = self.x - other.x\n",
    "        dy = self.y - other.y\n",
    "        return sqrt(dx ** 2 + dy ** 2)\n",
    "    def __str__(self):\n",
    "        return '(%s, %s)' % (str(self.x), str(self.y))\n",
    "    \n",
    "p1 = Point(3,5)\n",
    "p2 = Point(2,4)\n",
    "print(p1)\n",
    "print(p2)\n",
    "print(p1.distance_to(p2))"
   ]
  },
  {
   "cell_type": "markdown",
   "metadata": {},
   "source": [
    "## 8.如果一个素数可以写成2**（P-1）的形式，其中p是某个正整数，那么这个数就被称作梅森素数。编写程序找出p<=31的梅森素数。"
   ]
  },
  {
   "cell_type": "code",
   "execution_count": 40,
   "metadata": {},
   "outputs": [
    {
     "name": "stdout",
     "output_type": "stream",
     "text": [
      "2 3\n",
      "3 7\n",
      "5 31\n",
      "7 127\n",
      "11 2047\n",
      "13 8191\n",
      "17 131071\n",
      "19 524287\n",
      "23 8388607\n",
      "29 536870911\n",
      "31 2147483647\n"
     ]
    }
   ],
   "source": [
    "def meisen(p):\n",
    "    q=pow(2,p)-1\n",
    "    m=2\n",
    "    if p==2:\n",
    "        print(p,q)\n",
    "    for i in range(2,p):\n",
    "        m=m+1\n",
    "        if p%i==0:\n",
    "            break\n",
    "        if m == p:\n",
    "            print(p,q)\n",
    "            \n",
    "for p in range(1,32):\n",
    "    meisen(p)"
   ]
  },
  {
   "cell_type": "markdown",
   "metadata": {},
   "source": [
    "## 9.调用time.time()返回1970年1月1日0点开始的毫秒数。"
   ]
  },
  {
   "cell_type": "code",
   "execution_count": 5,
   "metadata": {},
   "outputs": [
    {
     "name": "stdout",
     "output_type": "stream",
     "text": [
      "1565176503.8460948\n",
      "时间： 2019 年 8 月 7 日 19 : 15 : 3\n"
     ]
    }
   ],
   "source": [
    "import time\n",
    "print(time.time())\n",
    "\"\"\"\n",
    " time.localtime(time.time())输出结果为\n",
    " time.struct_time(tm_year=2019, tm_mon=8, \n",
    " tm_mday=6, tm_hour=19, tm_min=21, tm_sec=46, \n",
    " tm_wday=1, tm_yday=218, tm_isdst=0)\n",
    "\"\"\"\n",
    "time = time.localtime(time.time())\n",
    "print('时间：',time.tm_year,'年',time.tm_mon,'月',time.tm_mday,'日',time.tm_hour,':',time.tm_min,':',time.tm_sec)"
   ]
  },
  {
   "cell_type": "markdown",
   "metadata": {},
   "source": [
    "## 10.投色子"
   ]
  },
  {
   "cell_type": "code",
   "execution_count": 17,
   "metadata": {},
   "outputs": [
    {
     "name": "stdout",
     "output_type": "stream",
     "text": [
      "您第一次抛出的点数为: 6\n",
      "您第二次抛出的点数为: 4\n",
      "您抛出的两次点数之和为： 10\n",
      "您第一次抛出的点数为: 3\n",
      "您第二次抛出的点数为: 4\n",
      "您抛出的两次点数之和为： 7\n",
      "你赢了\n"
     ]
    }
   ],
   "source": [
    "import numpy as np\n",
    "def dianshu():\n",
    "    res1 = np.random.choice([1,2,3,4,5,6])\n",
    "    print(\"您第一次抛出的点数为:\",res1)\n",
    "    res2 = np.random.choice([1,2,3,4,5,6])\n",
    "    print(\"您第二次抛出的点数为:\",res2)\n",
    "    res = res1 + res2\n",
    "    print(\"您抛出的两次点数之和为：\",res)\n",
    "    return res\n",
    "res = dianshu()\n",
    "if res==2 or res==3 or res==12:\n",
    "    print(\"你输了\")\n",
    "elif res==7 or res==11:\n",
    "    print(\"你赢了\")\n",
    "else:\n",
    "    res3 = res\n",
    "    res = dianshu()\n",
    "    if res ==7 or res == res3:\n",
    "        print(\"你赢了\")\n",
    "    else:\n",
    "        print(\"请开始下一局\")"
   ]
  },
  {
   "cell_type": "code",
   "execution_count": null,
   "metadata": {},
   "outputs": [],
   "source": []
  },
  {
   "cell_type": "markdown",
   "metadata": {},
   "source": [
    "# Homework"
   ]
  },
  {
   "cell_type": "code",
   "execution_count": 16,
   "metadata": {},
   "outputs": [
    {
     "name": "stdout",
     "output_type": "stream",
     "text": [
      "请输入用户名：hahaha\n",
      "hahaha\n",
      "请输入密码：123456\n",
      "请确认密码：123456\n",
      "\n",
      " 4O0F\n",
      "请输入验证码：4002\n",
      "4002\n",
      "验证码不正确\n"
     ]
    }
   ],
   "source": [
    "# 邮箱注册\n",
    "import numpy as np\n",
    "import random\n",
    "class Zhuce(object):\n",
    "    def youxiang(self):\n",
    "        choose = input(\"请输入用户名：\")\n",
    "        print(choose)\n",
    "    def mima(self):\n",
    "        num1 = input (\"请输入密码：\")\n",
    "        num2 = input(\"请确认密码：\")\n",
    "        if num1 != num2:\n",
    "            print(\"两次密码不一致\")\n",
    "        else:\n",
    "            print()\n",
    "    def yanzheng(self):\n",
    "        temp = \" \"\n",
    "        for i  in range(4):\n",
    "            num_yanzheng = random.randrange(0,4)\n",
    "            if num_yanzheng == 3 or num_yanzheng == 1:\n",
    "                rad2 = random.randrange(0,10)\n",
    "                temp = temp + str(rad2)\n",
    "            else :\n",
    "                rad1 = random.randrange(65, 91)\n",
    "                c1 = chr(rad1)\n",
    "                temp = temp + c1\n",
    "        print(temp)\n",
    "        shuru = input(\"请输入验证码：\")\n",
    "        print(shuru)\n",
    "        if shuru != temp:\n",
    "            print(\"验证码不正确\")\n",
    "        else:\n",
    "            print()\n",
    "    def  phone(self):\n",
    "        pone_num = input(\"请输入手机号：\")\n",
    "        print(pone_num)\n",
    "\n",
    "\n",
    "a = Zhuce()\n",
    "a.youxiang()\n",
    "a.mima()\n",
    "a.yanzheng()"
   ]
  },
  {
   "cell_type": "code",
   "execution_count": null,
   "metadata": {},
   "outputs": [],
   "source": [
    "import random\n",
    "\n",
    "class Regist(object):\n",
    "    \"\"\"\n",
    "    Implementation resgist in 163.\n",
    "    \"\"\"\n",
    "    def account(self):\n",
    "        \"\"\"\n",
    "        Input account.\n",
    "        \"\"\"\n",
    "        # 检测邮箱的正确性.\n",
    "        # input 返回出来的是一个字符串\n",
    "        email = input('请输入邮箱:>>')\n",
    "        print('📮 您输入的邮箱是: %s' % email)\n",
    "        self.password()\n",
    "    def password(self):\n",
    "        \"\"\"\n",
    "        input passward,\n",
    "        \"\"\"\n",
    "        # 密码的长度必须是6-20位\n",
    "        # 密码必须含有大写小写字母以及数字.\n",
    "        for _ in range(4):\n",
    "            password_1 = input('请输入您的密码:>>')\n",
    "            password_2 = input('请输入确认密码:>>')\n",
    "            if password_1 == password_2:\n",
    "                print('密码确认成功')\n",
    "                self.verfily()\n",
    "                break\n",
    "            else:\n",
    "                print('两次密码不一致')\n",
    "        else:\n",
    "            print('您可能是一个机器人滚😡')\n",
    "\n",
    "    def verfily(self):\n",
    "        \"\"\"\n",
    "        ver...\n",
    "        \"\"\"\n",
    "        # 英文和数字的结合\n",
    "        # 给予一个简单的数学运算得到结果.\n",
    "        for _ in range(3):\n",
    "            number = random.randrange(1000,9999)\n",
    "            print('验证码是: %d'%number)\n",
    "            number_2 = input('输入验证码:>>')\n",
    "            if number == int(number_2):\n",
    "                print('注册成功')\n",
    "                break\n",
    "            else:\n",
    "                print('验证码错误')\n",
    "        else:\n",
    "            print('机器人😡')\n",
    "\n",
    "def main():\n",
    "    regist = Regist()\n",
    "    regist.account()\n",
    "\n",
    "\n",
    "main()"
   ]
  },
  {
   "cell_type": "code",
   "execution_count": 3,
   "metadata": {},
   "outputs": [
    {
     "name": "stdout",
     "output_type": "stream",
     "text": [
      "矩形面积是： 24\n",
      "矩形周长是： 20\n"
     ]
    }
   ],
   "source": [
    "# 1.矩形面积与周长\n",
    "class Rectangle(object):\n",
    "    def __init__(self,width,heigth):\n",
    "        self.width = width\n",
    "        self.heigh = heigth\n",
    "    def getArea(self):\n",
    "        a = self.heigh * self.width\n",
    "        print('矩形面积是：',a)\n",
    "    def getPerimeter(self):\n",
    "        b =  self.heigh * 2 + self.width * 2\n",
    "        print('矩形周长是：',b)\n",
    "        \n",
    "rectangle = Rectangle(4,6)\n",
    "rectangle.getArea()\n",
    "rectangle.getPerimeter()"
   ]
  },
  {
   "cell_type": "code",
   "execution_count": 4,
   "metadata": {},
   "outputs": [
    {
     "name": "stdout",
     "output_type": "stream",
     "text": [
      "请输入取钱金额\n",
      "输入500\n",
      "您成功取出 500 元\n",
      "请输入存钱金额\n",
      "输入1000\n",
      "您成功存入 1000 元\n",
      "1 您账户余额为： 10000 利息为： 500.03\n"
     ]
    }
   ],
   "source": [
    "# 2.\n",
    "class Account(object):\n",
    "    def __init__(self,id=0,balance=100,annuallnterestRate=0):\n",
    "        self.__id = id\n",
    "        self.__balance = balance\n",
    "        self.__annuallnterestRate = annuallnterestRate\n",
    "    def shuju(self,id,annuallnterestRate):\n",
    "        self.id=id\n",
    "        self.annuallnterestRate=annuallnterestRate\n",
    "    def getMonthlyInterestRate(self,id,balance,annuallnterestRate):\n",
    "        self.id = id\n",
    "        self.balance = balance\n",
    "        self.annuallnterestRate = annuallnterestRate\n",
    "    def getMonthlyInterest(self):\n",
    "        #lx = balance * annuallnterestRate\n",
    "        pass\n",
    "    def withdraw(self):\n",
    "        print(\"请输入取钱金额\")\n",
    "        res1 = input(\"输入\")\n",
    "        self.annuallnterestRate = self.annuallnterestRate - int(res1)\n",
    "        print(\"您成功取出\",res1,\"元\")\n",
    "    def deposit(self):\n",
    "        print(\"请输入存钱金额\")\n",
    "        res2=input(\"输入\")\n",
    "        self.annuallnterestRate=self.annuallnterestRate+int(res2)\n",
    "        print(\"您成功存入\",res2,\"元\")\n",
    "    def lc(self):\n",
    "        print(self.id,\"您账户余额为：\",self.balance,\"利息为：\",self.annuallnterestRate)\n",
    "        \n",
    "        \n",
    "haha = Account()\n",
    "haha.shuju(1122,20000)\n",
    "haha.getMonthlyInterestRate(1,10000,0.03)\n",
    "haha.getMonthlyInterest()\n",
    "haha.withdraw()\n",
    "haha.deposit()\n",
    "haha.lc()"
   ]
  },
  {
   "cell_type": "code",
   "execution_count": 5,
   "metadata": {},
   "outputs": [
    {
     "name": "stdout",
     "output_type": "stream",
     "text": [
      "FAST 10.0 True yellow\n",
      "MEDIUM 5.0 False blue\n"
     ]
    }
   ],
   "source": [
    "# 3.风扇\n",
    "class Fan(object):\n",
    "    def __init__(self,speed='SLOW',on=False,radius=5,color='blue'):\n",
    "        self.__speed = speed\n",
    "        self.__on = on\n",
    "        self.__radius = radius\n",
    "        self.__color = color\n",
    "    def dakai(self,speed,on,radius,color):\n",
    "        self.speed = speed\n",
    "        self.on = on\n",
    "        self.radius = radius\n",
    "        self.color = color\n",
    "    def guanbi(self):\n",
    "        if self.speed == 1:\n",
    "            speed1 = 'SLOW'\n",
    "        elif self.speed == 2:\n",
    "            speed1 = 'MEDIUM'\n",
    "        else:\n",
    "            speed1 = 'FAST'\n",
    "        print(speed1,self.on,self.radius,self.color)\n",
    "        \n",
    "fan = Fan()\n",
    "fan.dakai(3,10.0,True,'yellow')\n",
    "fan.guanbi()\n",
    "fan.dakai(2,5.0,False,'blue')\n",
    "fan.guanbi()"
   ]
  },
  {
   "cell_type": "code",
   "execution_count": 6,
   "metadata": {},
   "outputs": [
    {
     "name": "stdout",
     "output_type": "stream",
     "text": [
      "40\n",
      "123.10734148701015\n"
     ]
    }
   ],
   "source": [
    "\"\"\"\n",
    "4.正n边型的周长和面积\n",
    "\"\"\"\n",
    "import math\n",
    "class RegularPolyon(object):\n",
    "    def __init__(self,n=3,side=1,x=0,y=0):\n",
    "        self.__n = n\n",
    "        self.__side = side\n",
    "        self.__x = x\n",
    "        self.__y = y\n",
    "    def getPerimenter(self):\n",
    "        print(self.__n * self.__side)\n",
    "    def getArea(self):\n",
    "        Area = self.__n * self.__side * self.__side / (4 * math.tan(math.pi / self.__n))\n",
    "        print(Area)\n",
    "\n",
    "regularPolyon = RegularPolyon(10,4,5.6,7.8)\n",
    "regularPolyon.getPerimenter()\n",
    "regularPolyon.getArea()"
   ]
  },
  {
   "cell_type": "code",
   "execution_count": 7,
   "metadata": {},
   "outputs": [
    {
     "name": "stdout",
     "output_type": "stream",
     "text": [
      "这个方程式无解\n",
      "这个方程式无解\n"
     ]
    }
   ],
   "source": [
    "# 5.2 * 2线性方程\n",
    "class LinearEquation(object):\n",
    "    def __init__(self,a,b,c,d,e,f):\n",
    "        self.a = a\n",
    "        self.b = b\n",
    "        self.c = c\n",
    "        self.d = d\n",
    "        self.e = e\n",
    "        self.f = f \n",
    "        self.x = 0\n",
    "        self.y = 0\n",
    "        self.g = 0\n",
    "    def isSolvable(self):\n",
    "        g=self.a * self.d - self.b * self.c\n",
    "        if g != 0:\n",
    "            self.g=True\n",
    "        else:\n",
    "            print('这个方程式无解')\n",
    "    def get (self):\n",
    "        self.x=(self.e*self.d-self.b*self.f)/(self.a*self.d-self.b*self.c)\n",
    "        self.y=(self.a*self.f-self.e*self.c)/(self.a*self.d-self.b*self.c) \n",
    "    def getX(self):\n",
    "        self.isSolvable()\n",
    "        if self.g==True:\n",
    "            self.get()\n",
    "            print(self.x)\n",
    "        else:\n",
    "            pass\n",
    "    def getY(self):\n",
    "        self.isSolvable()\n",
    "        if self.g==True:\n",
    "            self.get()\n",
    "            print(self.y)\n",
    "        else:\n",
    "            pass \n",
    "        \n",
    "linearEquation=LinearEquation(3,4,6,8,2,6)\n",
    "linearEquation.getX()\n",
    "linearEquation.getY()"
   ]
  },
  {
   "cell_type": "code",
   "execution_count": 8,
   "metadata": {},
   "outputs": [
    {
     "ename": "SyntaxError",
     "evalue": "unexpected EOF while parsing (<ipython-input-8-ccf637257bac>, line 5)",
     "output_type": "error",
     "traceback": [
      "\u001b[1;36m  File \u001b[1;32m\"<ipython-input-8-ccf637257bac>\"\u001b[1;36m, line \u001b[1;32m5\u001b[0m\n\u001b[1;33m    def point1(self,x1,y1):\u001b[0m\n\u001b[1;37m                           ^\u001b[0m\n\u001b[1;31mSyntaxError\u001b[0m\u001b[1;31m:\u001b[0m unexpected EOF while parsing\n"
     ]
    }
   ],
   "source": [
    "# 6.\n",
    "class LinearEquation(object):\n",
    "    def __init__(self):\n",
    "        pass\n",
    "    def point1(self,x1,y1):"
   ]
  },
  {
   "cell_type": "code",
   "execution_count": 9,
   "metadata": {},
   "outputs": [
    {
     "name": "stdout",
     "output_type": "stream",
     "text": [
      "-2.0\n",
      "2.0\n"
     ]
    }
   ],
   "source": [
    "# 7.2 * 2线性方程\n",
    "class LinearEquation(object):\n",
    "    def __init__(self,a,b,c,d,e,f):\n",
    "        self.a = a\n",
    "        self.b = b\n",
    "        self.c = c\n",
    "        self.d = d\n",
    "        self.e = e\n",
    "        self.f = f \n",
    "        self.x = 0\n",
    "        self.y = 0\n",
    "        self.g = 0\n",
    "    def isSolvable(self):\n",
    "        g=self.a * self.d - self.b * self.c\n",
    "        if g != 0:\n",
    "            self.g=True\n",
    "        else:\n",
    "            print('这个方程式无解')\n",
    "    def get (self):\n",
    "        self.x=(self.e*self.d-self.b*self.f)/(self.a*self.d-self.b*self.c)\n",
    "        self.y=(self.a*self.f-self.e*self.c)/(self.a*self.d-self.b*self.c) \n",
    "    def getX(self):\n",
    "        self.isSolvable()\n",
    "        if self.g==True:\n",
    "            self.get()\n",
    "            print(self.x)\n",
    "        else:\n",
    "            pass\n",
    "    def getY(self):\n",
    "        self.isSolvable()\n",
    "        if self.g==True:\n",
    "            self.get()\n",
    "            print(self.y)\n",
    "        else:\n",
    "            pass \n",
    "        \n",
    "linearEquation=LinearEquation(3,4,5,8,2,6)\n",
    "linearEquation.getX()\n",
    "linearEquation.getY()"
   ]
  },
  {
   "cell_type": "code",
   "execution_count": null,
   "metadata": {},
   "outputs": [],
   "source": []
  },
  {
   "cell_type": "markdown",
   "metadata": {},
   "source": [
    "# Homework"
   ]
  },
  {
   "cell_type": "code",
   "execution_count": 1,
   "metadata": {},
   "outputs": [
    {
     "name": "stdout",
     "output_type": "stream",
     "text": [
      "█\r"
     ]
    },
    {
     "name": "stderr",
     "output_type": "stream",
     "text": [
      "Getting uuid of QR code.\n",
      "Downloading QR code.\n",
      "Please scan the QR code to log in.\n",
      "Please press confirm on your phone.\n",
      "Loading the contact, this may take a little while.\n",
      "Login successfully as 李颖超\n"
     ]
    }
   ],
   "source": [
    "# 导入模块\n",
    "from wxpy import *\n",
    "# 初始化机器人，扫码登陆\n",
    "bot = Bot()"
   ]
  },
  {
   "cell_type": "code",
   "execution_count": 16,
   "metadata": {},
   "outputs": [],
   "source": [
    "\"\"\"\n",
    "微信\n",
    "用类封装4个功能\n",
    "wxpy:用 python 玩微信\n",
    "1.对于特定好用自动回复，文本和图片\n",
    "2.封装一个统计微信性别数量和总人数的比例，男生的比例，女生的比例\n",
    "3.统计你的好友都属于哪个省份并绘制直方图\n",
    "\"\"\"\n",
    "class Wxfriend(object):\n",
    "    \n",
    "    def haoyou(self):\n",
    "        my_friend = bot.friends().search('滴滴嗒嗒')[0]  #找到好友\n",
    "        my_friend.send('hahahahahahahahahahahahaha')\n",
    "        print('消息已发送')\n",
    "        url = 'C:/F/pictures/01.jpeg'\n",
    "        self.url=url  \n",
    "        my_friend.send_image(self.url)\n",
    "        print('已发送')\n",
    "    def tongji(self):\n",
    "        my_friend = bot.friends()\n",
    "        #print(my_friend)\n",
    "        print('一共有多少人：',len(my_friend))\n",
    "        my_friend_man = bot.friends().search(sex=1)\n",
    "        print('男的人数：',len(my_friend_man))\n",
    "        my_friend_woman = bot.friends().search(sex=2)\n",
    "        print('女的人数：',len(my_friend_woman))\n",
    "        my_friend_weizhi = len(my_friend)-len(my_friend_man)-len(my_friend_woman)\n",
    "        print('未知性别的人数：',my_friend_weizhi)\n",
    "        \n",
    "        print('男性比例：',len(my_friend_man)/len(my_friend))\n",
    "        print('女性比例：',len(my_friend_woman)/len(my_friend))\n",
    "        \n",
    "    #def shengfen(self):\n",
    "        #my_friend = bot.friends()\n",
    "        #self.my_friend = len(my_friend)\n",
    "#         friend_city_1 = bot.friends().search(city=\"赤峰\")\n",
    "#         friend_city_4 = bot.friends().search(city=\"呼伦贝尔\")"
   ]
  },
  {
   "cell_type": "code",
   "execution_count": 17,
   "metadata": {},
   "outputs": [
    {
     "name": "stdout",
     "output_type": "stream",
     "text": [
      "一共有多少人： 189\n",
      "男的人数： 77\n",
      "女的人数： 97\n",
      "未知性别的人数： 15\n",
      "男性比例： 0.4074074074074074\n",
      "女性比例： 0.5132275132275133\n"
     ]
    }
   ],
   "source": [
    "wxfriend = Wxfriend()\n",
    "wxfriend.haoyou()\n",
    "wxfriend.tongji()\n"
   ]
  },
  {
   "cell_type": "code",
   "execution_count": 18,
   "metadata": {},
   "outputs": [
    {
     "name": "stdout",
     "output_type": "stream",
     "text": [
      "请输入大于12位的包含大小写字母和数字的密码：4567891233\n",
      "输入的密码小于12位\n",
      "请输入大于12位的包含大小写字母和数字的密码：123456789456\n",
      "未包含小写字母\n",
      "请输入大于12位的包含大小写字母和数字的密码：Li1234567895\n",
      "输入成功\n"
     ]
    },
    {
     "name": "stderr",
     "output_type": "stream",
     "text": [
      "LOG OUT!\n"
     ]
    }
   ],
   "source": [
    "\"\"\"\n",
    "检验密码是否合法：\n",
    "1.必须含有大写\n",
    "2.必须含有小写\n",
    "3.必须含有数字\n",
    "40还有一个装饰器统计密码输入错误的次数\n",
    "\"\"\"\n",
    "import re\n",
    "lowerRegex = re.compile('[a-z]')\n",
    "upperRegex = re.compile('[A-Z]')\n",
    "digitRegex = re.compile('[0-9]')\n",
    "wrongRegex = re.compile('[^a-zA-Z0-9]')\n",
    "\n",
    "while True:\n",
    "    password = input('请输入大于12位的包含大小写字母和数字的密码：')\n",
    "    if len(password) < 12:\n",
    "        print('输入的密码小于12位')\n",
    "    elif wrongRegex.search(password) != None:\n",
    "        print('包含无效字符')\n",
    "    else:\n",
    "        if lowerRegex.search(password) == None:\n",
    "            print('未包含小写字母')\n",
    "        elif upperRegex.search(password) == None:\n",
    "            print('未包含大写字母')\n",
    "        elif digitRegex.search(password) == None:\n",
    "            print('未包含数字')\n",
    "        else:\n",
    "            print('输入成功')\n",
    "            break"
   ]
  },
  {
   "cell_type": "markdown",
   "metadata": {},
   "source": [
    "## Homework\n",
    "    下载图片的时候,response.text ==> response.content\n",
    "    with open( mode='wb') == > open(mode='wb')\n",
    "    将所有的图片下载到本地一个文件夹内.\n",
    "    \n",
    "    homework3:\n",
    "    爬取百度搜索关键字,存入本地\n",
    "    ”https://wenku.baidu.com/view/e7a89367d5bbfd0a78567317.html“"
   ]
  },
  {
   "cell_type": "code",
   "execution_count": 13,
   "metadata": {},
   "outputs": [],
   "source": [
    "\"\"\"\n",
    "下载图片的时候,response.text ==> response.content\n",
    "with open( mode='wb') == > open(mode='wb')\n",
    "将所有的图片下载到本地一个文件夹内.\n",
    "\"\"\"\n",
    "from multiprocessing import Process\n",
    "from random import randint\n",
    "from time import time, sleep\n",
    "import os\n",
    "import requests\n",
    "from lxml import etree\n",
    "\n",
    "\n",
    "def baocun(url):#此方法是将图片保存文件到本地 只需要传入图片地址\n",
    "    try:\n",
    "        root = \"F://picture//\"#这是根文件所在\n",
    "        path=root+url.split('/')[-1]#通过’/‘把图片的url分开找到最后的那个就是带.jpg的保存起来\n",
    "\n",
    "        if not os.path.exists(root):\n",
    "            os.mkdir(root)\n",
    "            if not os.path.exists(path):\n",
    "                r = requests.get(url)\n",
    "                r.raise_for_status()\n",
    "                with open(path,'wb') as f:#模式以二进制格式打开一个文件只用于写入。如果该文件已存在则打开文件，并从开头开始编辑，即原有内容会被删除。如果该文件不存在，创建新文件。一般用于非文本文件如图片等\n",
    "                    f.write(r.content)#r.content返回二进制，像图片\n",
    "                    print('爬取成功')\n",
    "    except Exception as e:\n",
    "        print(e) \n",
    "\n",
    "\n",
    "def download_task(start,end):\n",
    "\n",
    "    for i in range(start,end):\n",
    "\n",
    "        url = 'http://op.hanhande.net/shtml/op_wz/list_2602_%d.shtml'%i\n",
    "        response = requests.get(url)\n",
    "        response.encoding = 'gbk'\n",
    "        html = etree.HTML(response.text)#etree.HTML()#是一个方法用来解析html网页的\n",
    "        imgurl=html.xpath('//*[@id=\"main\"]/div[2]/div[2]/ul/li/a/img/@src')\n",
    "        for i_ in imgurl:\n",
    "            print(i_)\n",
    "            baocun(i_)\n",
    "#print(response.status_code)\n",
    "\n",
    "\n",
    "\n",
    "def main():\n",
    "# 开启两个多进程， 函数名 传递的参数,需要注意的是,它接受的是一个元组(tuple)\n",
    "    p1 = Process(target=download_task, args=(1,3))\n",
    "    p2 = Process(target=download_task, args=(3,6))\n",
    "    # 启动进程\n",
    "    p1.start()\n",
    "    p2.start()\n",
    "\n",
    "    ##############\n",
    "    # 进程阻塞.\n",
    "    p1.join()\n",
    "    p2.join()\n",
    "    ##############\n",
    "\n",
    "\n",
    "\n",
    "\n",
    "if __name__ == '__main__':\n",
    "    main()"
   ]
  },
  {
   "cell_type": "code",
   "execution_count": null,
   "metadata": {},
   "outputs": [],
   "source": []
  }
 ],
 "metadata": {
  "kernelspec": {
   "display_name": "Python 3",
   "language": "python",
   "name": "python3"
  },
  "language_info": {
   "codemirror_mode": {
    "name": "ipython",
    "version": 3
   },
   "file_extension": ".py",
   "mimetype": "text/x-python",
   "name": "python",
   "nbconvert_exporter": "python",
   "pygments_lexer": "ipython3",
   "version": "3.7.3"
  }
 },
 "nbformat": 4,
 "nbformat_minor": 2
}
