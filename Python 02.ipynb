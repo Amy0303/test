{
 "cells": [
  {
   "cell_type": "code",
   "execution_count": 1,
   "metadata": {
    "scrolled": true
   },
   "outputs": [
    {
     "name": "stdout",
     "output_type": "stream",
     "text": [
      "1000\n",
      "1000\n",
      "1000\n",
      "None\n",
      "['B', '_A__a', '_A__c', '__class__', '__delattr__', '__dict__', '__dir__', '__doc__', '__eq__', '__format__', '__ge__', '__getattribute__', '__gt__', '__hash__', '__init__', '__init_subclass__', '__le__', '__lt__', '__module__', '__ne__', '__new__', '__reduce__', '__reduce_ex__', '__repr__', '__setattr__', '__sizeof__', '__str__', '__subclasshook__', '__weakref__', '_b']\n"
     ]
    }
   ],
   "source": [
    "class A(object):\n",
    "    def __init__(self):\n",
    "        # 私有 在变量名称前加上‘_ _’\n",
    "        # 私有 不可继承，不可在外部调用\n",
    "        # 但是可以在内部调用\n",
    "        self.__a = 1000\n",
    "        # 约定使用“_”来表示私有\n",
    "        self._b = 100\n",
    "    def B(self):\n",
    "        print(self.__a)\n",
    "        self.__c()\n",
    "    def __c(self):\n",
    "        print(self.__a)\n",
    "        \n",
    "A_ = A( )\n",
    "print(A_._A__a)\n",
    "print(A_.B())\n",
    "print(dir(A_)) # 查看该实例所有的方法和属性"
   ]
  },
  {
   "cell_type": "code",
   "execution_count": 10,
   "metadata": {},
   "outputs": [
    {
     "name": "stdout",
     "output_type": "stream",
     "text": [
      "1000\n",
      "1000\n",
      "1000\n",
      "None\n",
      "['B', '_A__a', '_A__c', '__class__', '__delattr__', '__dict__', '__dir__', '__doc__', '__eq__', '__format__', '__ge__', '__getattribute__', '__gt__', '__hash__', '__init__', '__init_subclass__', '__le__', '__lt__', '__module__', '__ne__', '__new__', '__reduce__', '__reduce_ex__', '__repr__', '__setattr__', '__sizeof__', '__str__', '__subclasshook__', '__weakref__', '_b']\n"
     ]
    }
   ],
   "source": [
    "A_ = A( )\n",
    "print(A_._A__a)\n",
    "print(A_.B())\n",
    "print(dir(A_)) # 查看该实例所有的方法和属性"
   ]
  },
  {
   "cell_type": "markdown",
   "metadata": {},
   "source": [
    "## @property装饰器\n",
    "    之前我们讨论过Python中属性和方法访问权限的问题，我们不建议将属性设置为私有的，而是将属性命名以单下划线开头，通过这种方式来暗示属性是受保护的，不建议外界直接访问，那么如果想访问属性可以通过属性的getter（访问器）和setter（修改器）方法进行对应的操作，这是就考虑使用@property包装器来包装getter和setter方法。\n",
    "    使用装饰器的时候，需要注意:\n",
    "    1.装饰器名、函数名需一致\n",
    "    2.property需要先声明，再写setter,顺序不能倒过来\n",
    "    3.如果某个变量只允许被访问不允许被修改，就可以使用访问器@property\n",
    "    4.如果需要修改访问器中的变量，可以搭建一个修改器，或者删除访问器"
   ]
  },
  {
   "cell_type": "code",
   "execution_count": 1,
   "metadata": {},
   "outputs": [
    {
     "name": "stdout",
     "output_type": "stream",
     "text": [
      "104\n"
     ]
    }
   ],
   "source": [
    "# 输入三个数字（私有）,求三个数字的和，尝试更改其中两个数字\n",
    "class A(object):\n",
    "    def __init__(self,a,b,c):\n",
    "        self.__a=a\n",
    "        self.__b=b\n",
    "        self.__c=c\n",
    "    @property\n",
    "    def B(self):\n",
    "        print(self.__a)\n",
    "    @B.setter\n",
    "    def B(self,num):\n",
    "        self.__a=num\n",
    "    def sum(self):\n",
    "        print(self.__a+self.__b+self.__c)\n",
    "a=A(12,1,4)\n",
    "a.B=99\n",
    "a.sum()   "
   ]
  },
  {
   "cell_type": "code",
   "execution_count": 2,
   "metadata": {},
   "outputs": [],
   "source": [
    "class Number(object):\n",
    "    def __init__(self,num1,num2,num3):\n",
    "        self.__num1 = num1\n",
    "        self.__num2 = num2\n",
    "        self.__num3 = num3\n",
    "        \n",
    "        @property\n",
    "        def num_1(self):\n",
    "            print(self.__num1)\n",
    "            \n",
    "        @num_1.setter\n",
    "        def num_1(self,num):\n",
    "            self.__num1 = num\n",
    "                 \n",
    "        def Sum(self):\n",
    "            print(self.__num1 + self.__num2 + self.__num3)\n",
    "        \n",
    "number = Number(1,2,3)\n",
    "number.num1 = 22\n",
    "number.Sum = 33 "
   ]
  },
  {
   "cell_type": "code",
   "execution_count": 14,
   "metadata": {},
   "outputs": [],
   "source": [
    "class Kongjian(object):\n",
    "    def __init__(self):\n",
    "        self._wenjian='重要文件，不可修改'\n",
    "    @property\n",
    "    def wenjian(self):\n",
    "        return self._wenjian\n",
    "    @wenjian.setter\n",
    "    def wenjian(self,str_):\n",
    "        self._wenjian=str_\n",
    "        \n",
    "    def look(self):\n",
    "        kongjian = Kongjian()\n",
    "        print(kongjian.wenjian)\n",
    "        \n",
    "    def change(password,str_):\n",
    "        if password == '123456':\n",
    "            kongjian = Kongjian\n",
    "            kongjian.wenjian = 'hahahaha'\n",
    "            print(kongjian.wenjian)\n",
    "        else:\n",
    "            print('密码错误')\n",
    "        "
   ]
  },
  {
   "cell_type": "code",
   "execution_count": 19,
   "metadata": {},
   "outputs": [
    {
     "name": "stdout",
     "output_type": "stream",
     "text": [
      "重要文件，不可修改\n",
      "密码错误\n"
     ]
    }
   ],
   "source": [
    "kongjian = Kongjian()\n",
    "kongjian.look()\n",
    "kongjian.change('123')"
   ]
  },
  {
   "cell_type": "markdown",
   "metadata": {},
   "source": [
    "## python是一门动态语言\n",
    "动态语言允许我们在程序运行时给对象绑定新的属性或方法，当然也可以对已经绑定的属性和方法进行解绑定"
   ]
  },
  {
   "cell_type": "code",
   "execution_count": 36,
   "metadata": {},
   "outputs": [
    {
     "name": "stdout",
     "output_type": "stream",
     "text": [
      "100000\n",
      "100000\n"
     ]
    }
   ],
   "source": [
    "class Num(object):\n",
    "    def __ini__(self):\n",
    "        self.a = 1000\n",
    "    \n",
    "    def A(self):\n",
    "        print(self.b)\n",
    "        \n",
    "num = Num()\n",
    "num.b =100000\n",
    "#print(num.a)\n",
    "print(num.b)\n",
    "num.A()"
   ]
  },
  {
   "cell_type": "markdown",
   "metadata": {},
   "source": [
    "## __slots__魔法\n",
    "    在类中定义__slots___变量来限定自定义类型的对象只能绑定某些属性\n",
    "    需要注意的是\\_\\_slots\\_\\_的限定只对当前类的对象生效，对子类并不起任何作用    "
   ]
  },
  {
   "cell_type": "code",
   "execution_count": 2,
   "metadata": {},
   "outputs": [
    {
     "name": "stdout",
     "output_type": "stream",
     "text": [
      "10000\n"
     ]
    },
    {
     "ename": "AttributeError",
     "evalue": "'Num' object has no attribute 'c'",
     "output_type": "error",
     "traceback": [
      "\u001b[1;31m---------------------------------------------------------------------------\u001b[0m",
      "\u001b[1;31mAttributeError\u001b[0m                            Traceback (most recent call last)",
      "\u001b[1;32m<ipython-input-2-913c99565e5c>\u001b[0m in \u001b[0;36m<module>\u001b[1;34m\u001b[0m\n\u001b[0;32m      7\u001b[0m \u001b[0mnum\u001b[0m\u001b[1;33m.\u001b[0m\u001b[0mb\u001b[0m \u001b[1;33m=\u001b[0m \u001b[1;36m10000\u001b[0m\u001b[1;33m\u001b[0m\u001b[1;33m\u001b[0m\u001b[0m\n\u001b[0;32m      8\u001b[0m \u001b[0mprint\u001b[0m\u001b[1;33m(\u001b[0m\u001b[0mnum\u001b[0m\u001b[1;33m.\u001b[0m\u001b[0mb\u001b[0m\u001b[1;33m)\u001b[0m\u001b[1;33m\u001b[0m\u001b[1;33m\u001b[0m\u001b[0m\n\u001b[1;32m----> 9\u001b[1;33m \u001b[0mnum\u001b[0m\u001b[1;33m.\u001b[0m\u001b[0mc\u001b[0m \u001b[1;33m=\u001b[0m \u001b[1;36m123\u001b[0m\u001b[1;33m\u001b[0m\u001b[1;33m\u001b[0m\u001b[0m\n\u001b[0m\u001b[0;32m     10\u001b[0m \u001b[0mprint\u001b[0m\u001b[1;33m(\u001b[0m\u001b[0mnum\u001b[0m\u001b[1;33m.\u001b[0m\u001b[0mc\u001b[0m\u001b[1;33m)\u001b[0m\u001b[1;33m\u001b[0m\u001b[1;33m\u001b[0m\u001b[0m\n",
      "\u001b[1;31mAttributeError\u001b[0m: 'Num' object has no attribute 'c'"
     ]
    }
   ],
   "source": [
    "class Num(object):\n",
    "    __slots__ = ('a','b')\n",
    "    def __init__(self):\n",
    "        self.a = 1000\n",
    "        \n",
    "num = Num()\n",
    "num.b = 10000\n",
    "print(num.b)\n",
    "num.c = 123\n",
    "print(num.c)"
   ]
  },
  {
   "cell_type": "markdown",
   "metadata": {},
   "source": [
    "# Homework"
   ]
  },
  {
   "cell_type": "code",
   "execution_count": 27,
   "metadata": {},
   "outputs": [],
   "source": [
    "import numpy as np\n",
    "import random\n",
    "class Zhuce(object):\n",
    "    def youxiang(self):\n",
    "        choose = input(\"请输入用户名：\")\n",
    "        print(choose)\n",
    "    def mima(self):\n",
    "        num1 = input (\"请输入密码：\")\n",
    "        num2 = input(\"请确认密码：\")\n",
    "        if num1 != num2:\n",
    "            print(\"两次密码不一致\")\n",
    "        else:\n",
    "            print()\n",
    "    def yanzheng(self):\n",
    "        temp = \" \"\n",
    "        for i  in range(4):\n",
    "            num_yanzheng = random.randrange(0,4)\n",
    "            if num_yanzheng == 3 or num_yanzheng == 1:\n",
    "                rad2 = random.randrange(0,10)\n",
    "                temp = temp + str(rad2)\n",
    "            else :\n",
    "                rad1 = random.randrange(65, 91)\n",
    "                c1 = chr(rad1)\n",
    "                temp = temp + c1\n",
    "        print(temp)\n",
    "        shuru = input(\"请输入验证码：\")\n",
    "        print(shuru)\n",
    "        if shuru != temp:\n",
    "            print(\"验证码不正确\")\n",
    "        else:\n",
    "            print()\n",
    "    def  phone(self):\n",
    "        pone_num = input(\"请输入手机号：\")\n",
    "        print(pone_num)\n",
    "    "
   ]
  },
  {
   "cell_type": "code",
   "execution_count": null,
   "metadata": {},
   "outputs": [],
   "source": [
    "a = Zhuce()\n",
    "a.youxiang()\n",
    "a.mima()\n",
    "a.yanzheng()"
   ]
  },
  {
   "cell_type": "code",
   "execution_count": 30,
   "metadata": {},
   "outputs": [],
   "source": [
    "import random\n",
    "def yanzheng(self):\n",
    "        temp = \" \"\n",
    "        for i  in range(4):\n",
    "            num_yanzheng = random.randrange(0,4)\n",
    "            if num_yanzheng == 3 or num_yanzheng == 1:\n",
    "                rad2 = random.randrange(0,10)\n",
    "                temp = temp + str(rad2)\n",
    "            else :\n",
    "                rad1 = random.randrange(65, 91)\n",
    "                c1 = chr(rad1)\n",
    "                temp = temp + c1\n",
    "        print(temp)\n",
    "        shuru = input(\"请输入验证码：\")\n",
    "        print(shuru)\n",
    "        if shuru != temp:\n",
    "            print(\"验证码不正确\")\n",
    "        else:\n",
    "            print()"
   ]
  },
  {
   "cell_type": "code",
   "execution_count": 31,
   "metadata": {},
   "outputs": [
    {
     "name": "stdout",
     "output_type": "stream",
     "text": [
      " 0C21\n",
      "请输入验证码：1234\n",
      "1234\n",
      "验证码不正确\n"
     ]
    }
   ],
   "source": [
    "yanzheng(0)"
   ]
  },
  {
   "cell_type": "code",
   "execution_count": null,
   "metadata": {},
   "outputs": [],
   "source": [
    "import random\n",
    "\n",
    "class Regist(object):\n",
    "    \"\"\"\n",
    "    Implementation resgist in 163.\n",
    "    \"\"\"\n",
    "    def account(self):\n",
    "        \"\"\"\n",
    "        Input account.\n",
    "        \"\"\"\n",
    "        # 检测邮箱的正确性.\n",
    "        # input 返回出来的是一个字符串\n",
    "        email = input('请输入邮箱:>>')\n",
    "        print('📮 您输入的邮箱是: %s' % email)\n",
    "        self.password()\n",
    "    def password(self):\n",
    "        \"\"\"\n",
    "        input passward,\n",
    "        \"\"\"\n",
    "        # 密码的长度必须是6-20位\n",
    "        # 密码必须含有大写小写字母以及数字.\n",
    "        for _ in range(4):\n",
    "            password_1 = input('请输入您的密码:>>')\n",
    "            password_2 = input('请输入确认密码:>>')\n",
    "            if password_1 == password_2:\n",
    "                print('密码确认成功')\n",
    "                self.verfily()\n",
    "                break\n",
    "            else:\n",
    "                print('两次密码不一致')\n",
    "        else:\n",
    "            print('您可能是一个机器人滚😡')\n",
    "\n",
    "    def verfily(self):\n",
    "        \"\"\"\n",
    "        ver...\n",
    "        \"\"\"\n",
    "        # 英文和数字的结合\n",
    "        # 给予一个简单的数学运算得到结果.\n",
    "        for _ in range(3):\n",
    "            number = random.randrange(1000,9999)\n",
    "            print('验证码是: %d'%number)\n",
    "            number_2 = input('输入验证码:>>')\n",
    "            if number == int(number_2):\n",
    "                print('注册成功')\n",
    "                break\n",
    "            else:\n",
    "                print('验证码错误')\n",
    "        else:\n",
    "            print('机器人😡')\n",
    "\n",
    "def main():\n",
    "    regist = Regist()\n",
    "    regist.account()\n",
    "\n",
    "\n",
    "main()"
   ]
  },
  {
   "cell_type": "code",
   "execution_count": null,
   "metadata": {},
   "outputs": [],
   "source": []
  },
  {
   "cell_type": "code",
   "execution_count": null,
   "metadata": {},
   "outputs": [],
   "source": []
  },
  {
   "cell_type": "code",
   "execution_count": 14,
   "metadata": {},
   "outputs": [
    {
     "name": "stdout",
     "output_type": "stream",
     "text": [
      "矩形面积是： 24\n",
      "矩形周长是： 20\n"
     ]
    }
   ],
   "source": [
    "# 1.矩形面积与周长\n",
    "class Rectangle(object):\n",
    "    def __init__(self,width,heigth):\n",
    "        self.width = width\n",
    "        self.heigh = heigth\n",
    "    def getArea(self):\n",
    "        a = self.heigh * self.width\n",
    "        print('矩形面积是：',a)\n",
    "    def getPerimeter(self):\n",
    "        b =  self.heigh * 2 + self.width * 2\n",
    "        print('矩形周长是：',b)\n",
    "        \n",
    "rectangle = Rectangle(4,6)\n",
    "rectangle.getArea()\n",
    "rectangle.getPerimeter()"
   ]
  },
  {
   "cell_type": "code",
   "execution_count": 38,
   "metadata": {},
   "outputs": [
    {
     "name": "stdout",
     "output_type": "stream",
     "text": [
      "请输入取钱金额\n",
      "输入500\n",
      "您成功取出 500 元\n",
      "请输入存钱金额\n",
      "输入1000\n",
      "您成功存入 1000 元\n",
      "1 您账户余额为： 10000 利息为： 500.03\n"
     ]
    }
   ],
   "source": [
    "# 2.\n",
    "class Account(object):\n",
    "    def __init__(self,id=0,balance=100,annuallnterestRate=0):\n",
    "        self.__id = id\n",
    "        self.__balance = balance\n",
    "        self.__annuallnterestRate = annuallnterestRate\n",
    "    def shuju(self,id,annuallnterestRate):\n",
    "        self.id=id\n",
    "        self.annuallnterestRate=annuallnterestRate\n",
    "    def getMonthlyInterestRate(self,id,balance,annuallnterestRate):\n",
    "        self.id = id\n",
    "        self.balance = balance\n",
    "        self.annuallnterestRate = annuallnterestRate\n",
    "    def getMonthlyInterest(self):\n",
    "        #lx = balance * annuallnterestRate\n",
    "        pass\n",
    "    def withdraw(self):\n",
    "        print(\"请输入取钱金额\")\n",
    "        res1 = input(\"输入\")\n",
    "        self.annuallnterestRate = self.annuallnterestRate - int(res1)\n",
    "        print(\"您成功取出\",res1,\"元\")\n",
    "    def deposit(self):\n",
    "        print(\"请输入存钱金额\")\n",
    "        res2=input(\"输入\")\n",
    "        self.annuallnterestRate=self.annuallnterestRate+int(res2)\n",
    "        print(\"您成功存入\",res2,\"元\")\n",
    "    def lc(self):\n",
    "        print(self.id,\"您账户余额为：\",self.balance,\"利息为：\",self.annuallnterestRate)\n",
    "        \n",
    "        \n",
    "haha = Account()\n",
    "haha.shuju(1122,20000)\n",
    "haha.getMonthlyInterestRate(1,10000,0.03)\n",
    "haha.getMonthlyInterest()\n",
    "haha.withdraw()\n",
    "haha.deposit()\n",
    "haha.lc()"
   ]
  },
  {
   "cell_type": "code",
   "execution_count": 36,
   "metadata": {},
   "outputs": [
    {
     "name": "stdout",
     "output_type": "stream",
     "text": [
      "FAST 10.0 True yellow\n",
      "MEDIUM 5.0 False blue\n"
     ]
    }
   ],
   "source": [
    "# 3.风扇\n",
    "class Fan(object):\n",
    "    def __init__(self,speed='SLOW',on=False,radius=5,color='blue'):\n",
    "        self.__speed = speed\n",
    "        self.__on = on\n",
    "        self.__radius = radius\n",
    "        self.__color = color\n",
    "    def dakai(self,speed,on,radius,color):\n",
    "        self.speed = speed\n",
    "        self.on = on\n",
    "        self.radius = radius\n",
    "        self.color = color\n",
    "    def guanbi(self):\n",
    "        if self.speed == 1:\n",
    "            speed1 = 'SLOW'\n",
    "        elif self.speed == 2:\n",
    "            speed1 = 'MEDIUM'\n",
    "        else:\n",
    "            speed1 = 'FAST'\n",
    "        print(speed1,self.on,self.radius,self.color)\n",
    "        \n",
    "fan = Fan()\n",
    "fan.dakai(3,10.0,True,'yellow')\n",
    "fan.guanbi()\n",
    "fan.dakai(2,5.0,False,'blue')\n",
    "fan.guanbi()"
   ]
  },
  {
   "cell_type": "code",
   "execution_count": 12,
   "metadata": {},
   "outputs": [
    {
     "name": "stdout",
     "output_type": "stream",
     "text": [
      "40\n",
      "123.10734148701015\n"
     ]
    }
   ],
   "source": [
    "\"\"\"\n",
    "4.正n边型的周长和面积\n",
    "\"\"\"\n",
    "import math\n",
    "class RegularPolyon(object):\n",
    "    def __init__(self,n=3,side=1,x=0,y=0):\n",
    "        self.__n = n\n",
    "        self.__side = side\n",
    "        self.__x = x\n",
    "        self.__y = y\n",
    "    def getPerimenter(self):\n",
    "        print(self.__n * self.__side)\n",
    "    def getArea(self):\n",
    "        Area = self.__n * self.__side * self.__side / (4 * math.tan(math.pi / self.__n))\n",
    "        print(Area)\n",
    "\n",
    "regularPolyon = RegularPolyon(10,4,5.6,7.8)\n",
    "regularPolyon.getPerimenter()\n",
    "regularPolyon.getArea()"
   ]
  },
  {
   "cell_type": "code",
   "execution_count": 15,
   "metadata": {},
   "outputs": [
    {
     "name": "stdout",
     "output_type": "stream",
     "text": [
      "这个方程式无解\n",
      "这个方程式无解\n"
     ]
    }
   ],
   "source": [
    "# 5.2 * 2线性方程\n",
    "class LinearEquation(object):\n",
    "    def __init__(self,a,b,c,d,e,f):\n",
    "        self.a = a\n",
    "        self.b = b\n",
    "        self.c = c\n",
    "        self.d = d\n",
    "        self.e = e\n",
    "        self.f = f \n",
    "        self.x = 0\n",
    "        self.y = 0\n",
    "        self.g = 0\n",
    "    def isSolvable(self):\n",
    "        g=self.a * self.d - self.b * self.c\n",
    "        if g != 0:\n",
    "            self.g=True\n",
    "        else:\n",
    "            print('这个方程式无解')\n",
    "    def get (self):\n",
    "        self.x=(self.e*self.d-self.b*self.f)/(self.a*self.d-self.b*self.c)\n",
    "        self.y=(self.a*self.f-self.e*self.c)/(self.a*self.d-self.b*self.c) \n",
    "    def getX(self):\n",
    "        self.isSolvable()\n",
    "        if self.g==True:\n",
    "            self.get()\n",
    "            print(self.x)\n",
    "        else:\n",
    "            pass\n",
    "    def getY(self):\n",
    "        self.isSolvable()\n",
    "        if self.g==True:\n",
    "            self.get()\n",
    "            print(self.y)\n",
    "        else:\n",
    "            pass \n",
    "        \n",
    "linearEquation=LinearEquation(3,4,6,8,2,6)\n",
    "linearEquation.getX()\n",
    "linearEquation.getY()"
   ]
  },
  {
   "cell_type": "code",
   "execution_count": 8,
   "metadata": {},
   "outputs": [
    {
     "ename": "SyntaxError",
     "evalue": "unexpected EOF while parsing (<ipython-input-8-290c8c54b645>, line 6)",
     "output_type": "error",
     "traceback": [
      "\u001b[1;36m  File \u001b[1;32m\"<ipython-input-8-290c8c54b645>\"\u001b[1;36m, line \u001b[1;32m6\u001b[0m\n\u001b[1;33m    \u001b[0m\n\u001b[1;37m    ^\u001b[0m\n\u001b[1;31mSyntaxError\u001b[0m\u001b[1;31m:\u001b[0m unexpected EOF while parsing\n"
     ]
    }
   ],
   "source": [
    "# 6.\n",
    "class LinearEquation(object):\n",
    "    def __init__(self):\n",
    "        pass\n",
    "    def point1(self,x1,y1):\n",
    "        "
   ]
  },
  {
   "cell_type": "code",
   "execution_count": 17,
   "metadata": {},
   "outputs": [
    {
     "name": "stdout",
     "output_type": "stream",
     "text": [
      "-2.0\n",
      "2.0\n"
     ]
    }
   ],
   "source": [
    "# 7.2 * 2线性方程\n",
    "class LinearEquation(object):\n",
    "    def __init__(self,a,b,c,d,e,f):\n",
    "        self.a = a\n",
    "        self.b = b\n",
    "        self.c = c\n",
    "        self.d = d\n",
    "        self.e = e\n",
    "        self.f = f \n",
    "        self.x = 0\n",
    "        self.y = 0\n",
    "        self.g = 0\n",
    "    def isSolvable(self):\n",
    "        g=self.a * self.d - self.b * self.c\n",
    "        if g != 0:\n",
    "            self.g=True\n",
    "        else:\n",
    "            print('这个方程式无解')\n",
    "    def get (self):\n",
    "        self.x=(self.e*self.d-self.b*self.f)/(self.a*self.d-self.b*self.c)\n",
    "        self.y=(self.a*self.f-self.e*self.c)/(self.a*self.d-self.b*self.c) \n",
    "    def getX(self):\n",
    "        self.isSolvable()\n",
    "        if self.g==True:\n",
    "            self.get()\n",
    "            print(self.x)\n",
    "        else:\n",
    "            pass\n",
    "    def getY(self):\n",
    "        self.isSolvable()\n",
    "        if self.g==True:\n",
    "            self.get()\n",
    "            print(self.y)\n",
    "        else:\n",
    "            pass \n",
    "        \n",
    "linearEquation=LinearEquation(3,4,5,8,2,6)\n",
    "linearEquation.getX()\n",
    "linearEquation.getY()"
   ]
  },
  {
   "cell_type": "code",
   "execution_count": null,
   "metadata": {},
   "outputs": [],
   "source": []
  },
  {
   "cell_type": "code",
   "execution_count": null,
   "metadata": {},
   "outputs": [],
   "source": []
  },
  {
   "cell_type": "code",
   "execution_count": null,
   "metadata": {},
   "outputs": [],
   "source": []
  },
  {
   "cell_type": "code",
   "execution_count": null,
   "metadata": {},
   "outputs": [],
   "source": []
  },
  {
   "cell_type": "code",
   "execution_count": null,
   "metadata": {},
   "outputs": [],
   "source": []
  },
  {
   "cell_type": "code",
   "execution_count": null,
   "metadata": {},
   "outputs": [],
   "source": []
  },
  {
   "cell_type": "code",
   "execution_count": null,
   "metadata": {},
   "outputs": [],
   "source": []
  },
  {
   "cell_type": "code",
   "execution_count": null,
   "metadata": {},
   "outputs": [],
   "source": []
  },
  {
   "cell_type": "code",
   "execution_count": null,
   "metadata": {},
   "outputs": [],
   "source": []
  },
  {
   "cell_type": "code",
   "execution_count": null,
   "metadata": {},
   "outputs": [],
   "source": []
  },
  {
   "cell_type": "code",
   "execution_count": null,
   "metadata": {},
   "outputs": [],
   "source": []
  },
  {
   "cell_type": "code",
   "execution_count": null,
   "metadata": {},
   "outputs": [],
   "source": []
  },
  {
   "cell_type": "code",
   "execution_count": null,
   "metadata": {},
   "outputs": [],
   "source": []
  },
  {
   "cell_type": "code",
   "execution_count": null,
   "metadata": {},
   "outputs": [],
   "source": []
  }
 ],
 "metadata": {
  "kernelspec": {
   "display_name": "Python 3",
   "language": "python",
   "name": "python3"
  },
  "language_info": {
   "codemirror_mode": {
    "name": "ipython",
    "version": 3
   },
   "file_extension": ".py",
   "mimetype": "text/x-python",
   "name": "python",
   "nbconvert_exporter": "python",
   "pygments_lexer": "ipython3",
   "version": "3.7.3"
  }
 },
 "nbformat": 4,
 "nbformat_minor": 2
}
