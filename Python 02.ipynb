{
 "cells": [
  {
   "cell_type": "code",
   "execution_count": 1,
   "metadata": {
    "scrolled": true
   },
   "outputs": [
    {
     "name": "stdout",
     "output_type": "stream",
     "text": [
      "1000\n",
      "1000\n",
      "1000\n",
      "None\n",
      "['B', '_A__a', '_A__c', '__class__', '__delattr__', '__dict__', '__dir__', '__doc__', '__eq__', '__format__', '__ge__', '__getattribute__', '__gt__', '__hash__', '__init__', '__init_subclass__', '__le__', '__lt__', '__module__', '__ne__', '__new__', '__reduce__', '__reduce_ex__', '__repr__', '__setattr__', '__sizeof__', '__str__', '__subclasshook__', '__weakref__', '_b']\n"
     ]
    }
   ],
   "source": [
    "class A(object):\n",
    "    def __init__(self):\n",
    "        # 私有 在变量名称前加上‘_ _’\n",
    "        # 私有 不可继承，不可在外部调用\n",
    "        # 但是可以在内部调用\n",
    "        self.__a = 1000\n",
    "        # 约定使用“_”来表示私有\n",
    "        self._b = 100\n",
    "    def B(self):\n",
    "        print(self.__a)\n",
    "        self.__c()\n",
    "    def __c(self):\n",
    "        print(self.__a)\n",
    "        \n",
    "A_ = A( )\n",
    "print(A_._A__a)\n",
    "print(A_.B())\n",
    "print(dir(A_)) # 查看该实例所有的方法和属性"
   ]
  },
  {
   "cell_type": "markdown",
   "metadata": {},
   "source": [
    "## @property装饰器\n",
    "    之前我们讨论过Python中属性和方法访问权限的问题，我们不建议将属性设置为私有的，而是将属性命名以单下划线开头，通过这种方式来暗示属性是受保护的，不建议外界直接访问，那么如果想访问属性可以通过属性的getter（访问器）和setter（修改器）方法进行对应的操作，这是就考虑使用@property包装器来包装getter和setter方法。\n",
    "    使用装饰器的时候，需要注意:\n",
    "    1.装饰器名、函数名需一致\n",
    "    2.property需要先声明，再写setter,顺序不能倒过来\n",
    "    3.如果某个变量只允许被访问不允许被修改，就可以使用访问器@property\n",
    "    4.如果需要修改访问器中的变量，可以搭建一个修改器，或者删除访问器"
   ]
  },
  {
   "cell_type": "code",
   "execution_count": 1,
   "metadata": {},
   "outputs": [
    {
     "name": "stdout",
     "output_type": "stream",
     "text": [
      "104\n"
     ]
    }
   ],
   "source": [
    "# 输入三个数字（私有）,求三个数字的和，尝试更改其中两个数字\n",
    "class A(object):\n",
    "    def __init__(self,a,b,c):\n",
    "        self.__a=a\n",
    "        self.__b=b\n",
    "        self.__c=c\n",
    "    @property\n",
    "    def B(self):\n",
    "        print(self.__a)\n",
    "    @B.setter\n",
    "    def B(self,num):\n",
    "        self.__a=num\n",
    "    def sum(self):\n",
    "        print(self.__a+self.__b+self.__c)\n",
    "a=A(12,1,4)\n",
    "a.B=99\n",
    "a.sum()   "
   ]
  },
  {
   "cell_type": "code",
   "execution_count": 2,
   "metadata": {},
   "outputs": [],
   "source": [
    "class Number(object):\n",
    "    def __init__(self,num1,num2,num3):\n",
    "        self.__num1 = num1\n",
    "        self.__num2 = num2\n",
    "        self.__num3 = num3\n",
    "        \n",
    "        @property\n",
    "        def num_1(self):\n",
    "            print(self.__num1)\n",
    "            \n",
    "        @num_1.setter\n",
    "        def num_1(self,num):\n",
    "            self.__num1 = num\n",
    "                 \n",
    "        def Sum(self):\n",
    "            print(self.__num1 + self.__num2 + self.__num3)\n",
    "        \n",
    "number = Number(1,2,3)\n",
    "number.num1 = 22\n",
    "number.Sum = 33 "
   ]
  },
  {
   "cell_type": "code",
   "execution_count": 14,
   "metadata": {},
   "outputs": [],
   "source": [
    "class Kongjian(object):\n",
    "    def __init__(self):\n",
    "        self._wenjian='重要文件，不可修改'\n",
    "    @property\n",
    "    def wenjian(self):\n",
    "        return self._wenjian\n",
    "    @wenjian.setter\n",
    "    def wenjian(self,str_):\n",
    "        self._wenjian=str_\n",
    "        \n",
    "    def look(self):\n",
    "        kongjian = Kongjian()\n",
    "        print(kongjian.wenjian)\n",
    "        \n",
    "    def change(password,str_):\n",
    "        if password == '123456':\n",
    "            kongjian = Kongjian\n",
    "            kongjian.wenjian = 'hahahaha'\n",
    "            print(kongjian.wenjian)\n",
    "        else:\n",
    "            print('密码错误')\n",
    "        "
   ]
  },
  {
   "cell_type": "code",
   "execution_count": 19,
   "metadata": {},
   "outputs": [
    {
     "name": "stdout",
     "output_type": "stream",
     "text": [
      "重要文件，不可修改\n",
      "密码错误\n"
     ]
    }
   ],
   "source": [
    "kongjian = Kongjian()\n",
    "kongjian.look()\n",
    "kongjian.change('123')"
   ]
  },
  {
   "cell_type": "markdown",
   "metadata": {},
   "source": [
    "## python是一门动态语言\n",
    "动态语言允许我们在程序运行时给对象绑定新的属性或方法，当然也可以对已经绑定的属性和方法进行解绑定"
   ]
  },
  {
   "cell_type": "code",
   "execution_count": 36,
   "metadata": {},
   "outputs": [
    {
     "name": "stdout",
     "output_type": "stream",
     "text": [
      "100000\n",
      "100000\n"
     ]
    }
   ],
   "source": [
    "class Num(object):\n",
    "    def __ini__(self):\n",
    "        self.a = 1000\n",
    "    \n",
    "    def A(self):\n",
    "        print(self.b)\n",
    "        \n",
    "num = Num()\n",
    "num.b =100000\n",
    "#print(num.a)\n",
    "print(num.b)\n",
    "num.A()"
   ]
  },
  {
   "cell_type": "markdown",
   "metadata": {},
   "source": [
    "## __slots__魔法\n",
    "    在类中定义__slots___变量来限定自定义类型的对象只能绑定某些属性\n",
    "    需要注意的是\\_\\_slots\\_\\_的限定只对当前类的对象生效，对子类并不起任何作用    "
   ]
  },
  {
   "cell_type": "code",
   "execution_count": 2,
   "metadata": {},
   "outputs": [
    {
     "name": "stdout",
     "output_type": "stream",
     "text": [
      "10000\n"
     ]
    },
    {
     "ename": "AttributeError",
     "evalue": "'Num' object has no attribute 'c'",
     "output_type": "error",
     "traceback": [
      "\u001b[1;31m---------------------------------------------------------------------------\u001b[0m",
      "\u001b[1;31mAttributeError\u001b[0m                            Traceback (most recent call last)",
      "\u001b[1;32m<ipython-input-2-913c99565e5c>\u001b[0m in \u001b[0;36m<module>\u001b[1;34m\u001b[0m\n\u001b[0;32m      7\u001b[0m \u001b[0mnum\u001b[0m\u001b[1;33m.\u001b[0m\u001b[0mb\u001b[0m \u001b[1;33m=\u001b[0m \u001b[1;36m10000\u001b[0m\u001b[1;33m\u001b[0m\u001b[1;33m\u001b[0m\u001b[0m\n\u001b[0;32m      8\u001b[0m \u001b[0mprint\u001b[0m\u001b[1;33m(\u001b[0m\u001b[0mnum\u001b[0m\u001b[1;33m.\u001b[0m\u001b[0mb\u001b[0m\u001b[1;33m)\u001b[0m\u001b[1;33m\u001b[0m\u001b[1;33m\u001b[0m\u001b[0m\n\u001b[1;32m----> 9\u001b[1;33m \u001b[0mnum\u001b[0m\u001b[1;33m.\u001b[0m\u001b[0mc\u001b[0m \u001b[1;33m=\u001b[0m \u001b[1;36m123\u001b[0m\u001b[1;33m\u001b[0m\u001b[1;33m\u001b[0m\u001b[0m\n\u001b[0m\u001b[0;32m     10\u001b[0m \u001b[0mprint\u001b[0m\u001b[1;33m(\u001b[0m\u001b[0mnum\u001b[0m\u001b[1;33m.\u001b[0m\u001b[0mc\u001b[0m\u001b[1;33m)\u001b[0m\u001b[1;33m\u001b[0m\u001b[1;33m\u001b[0m\u001b[0m\n",
      "\u001b[1;31mAttributeError\u001b[0m: 'Num' object has no attribute 'c'"
     ]
    }
   ],
   "source": [
    "class Num(object):\n",
    "    __slots__ = ('a','b')\n",
    "    def __init__(self):\n",
    "        self.a = 1000\n",
    "        \n",
    "num = Num()\n",
    "num.b = 10000\n",
    "print(num.b)\n",
    "num.c = 123\n",
    "print(num.c)"
   ]
  },
  {
   "cell_type": "code",
   "execution_count": 1,
   "metadata": {},
   "outputs": [],
   "source": [
    "# 输入验证码\n",
    "import random\n",
    "def yanzheng(self):\n",
    "        temp = \" \"\n",
    "        for i  in range(4):\n",
    "            num_yanzheng = random.randrange(0,4)\n",
    "            if num_yanzheng == 3 or num_yanzheng == 1:\n",
    "                rad2 = random.randrange(0,10)\n",
    "                temp = temp + str(rad2)\n",
    "            else :\n",
    "                rad1 = random.randrange(65, 91)\n",
    "                c1 = chr(rad1)\n",
    "                temp = temp + c1\n",
    "        print(temp)\n",
    "        shuru = input(\"请输入验证码：\")\n",
    "        print(shuru)\n",
    "        if shuru != temp:\n",
    "            print(\"验证码不正确\")\n",
    "        else:\n",
    "            print()"
   ]
  },
  {
   "cell_type": "code",
   "execution_count": 31,
   "metadata": {},
   "outputs": [
    {
     "name": "stdout",
     "output_type": "stream",
     "text": [
      " 0C21\n",
      "请输入验证码：1234\n",
      "1234\n",
      "验证码不正确\n"
     ]
    }
   ],
   "source": [
    "yanzheng(0)"
   ]
  },
  {
   "cell_type": "code",
   "execution_count": null,
   "metadata": {},
   "outputs": [],
   "source": []
  },
  {
   "cell_type": "code",
   "execution_count": null,
   "metadata": {},
   "outputs": [],
   "source": []
  },
  {
   "cell_type": "code",
   "execution_count": null,
   "metadata": {},
   "outputs": [],
   "source": []
  },
  {
   "cell_type": "code",
   "execution_count": null,
   "metadata": {},
   "outputs": [],
   "source": []
  },
  {
   "cell_type": "code",
   "execution_count": null,
   "metadata": {},
   "outputs": [],
   "source": []
  },
  {
   "cell_type": "code",
   "execution_count": null,
   "metadata": {},
   "outputs": [],
   "source": []
  },
  {
   "cell_type": "code",
   "execution_count": null,
   "metadata": {},
   "outputs": [],
   "source": []
  },
  {
   "cell_type": "code",
   "execution_count": null,
   "metadata": {},
   "outputs": [],
   "source": []
  },
  {
   "cell_type": "code",
   "execution_count": null,
   "metadata": {},
   "outputs": [],
   "source": []
  },
  {
   "cell_type": "code",
   "execution_count": null,
   "metadata": {},
   "outputs": [],
   "source": []
  }
 ],
 "metadata": {
  "kernelspec": {
   "display_name": "Python 3",
   "language": "python",
   "name": "python3"
  },
  "language_info": {
   "codemirror_mode": {
    "name": "ipython",
    "version": 3
   },
   "file_extension": ".py",
   "mimetype": "text/x-python",
   "name": "python",
   "nbconvert_exporter": "python",
   "pygments_lexer": "ipython3",
   "version": "3.7.3"
  }
 },
 "nbformat": 4,
 "nbformat_minor": 2
}
