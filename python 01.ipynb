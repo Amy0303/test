{
 "cells": [
  {
   "cell_type": "markdown",
   "metadata": {},
   "source": [
    "## 函数的写法\n",
    "    标识   函数的名字（）：\n",
    "        有冒号就要缩进一个tab\n",
    "    在Python中所有的函数都有返回值,如果你没有给予return则默认返回出None,如果你给予了,则返回你给予的值\n",
    "    def    funcName():\n",
    "    .....\n",
    "    return ....\n",
    "    \n",
    "    标识    类名      ()     :\n",
    "        有冒号就要缩进一个tab\n",
    "    class  className(object):\n",
    "    ........\n",
    "    1.导入库, import 库名\n",
    "    2. for 循环,如果计数的情况则使用\n",
    "        开始  结束  步长\n",
    "    range的区间是一个前闭后开.\n",
    "    range(start,end,[step])\n",
    "    3. 格式化输出\n",
    "    3.1 %-->%(),%d后接整型,%f后接浮点,%s后接字符串.\n",
    "    3.2 {}-->format(),它可以直接传入任何类型,然后格式化输出.\n",
    "\n",
    "    4.print 控制台(terminal)打印\n",
    "    4.1 end 以什么方式结尾,默认以换行符\"\\n\"\n",
    "    4.2 flush 刷新缓冲区."
   ]
  },
  {
   "cell_type": "code",
   "execution_count": 1,
   "metadata": {},
   "outputs": [
    {
     "name": "stdout",
     "output_type": "stream",
     "text": [
      "10\n",
      "10\n"
     ]
    }
   ],
   "source": [
    "#类中的函数可以有自己的参数\n",
    "#当你想共享这个参数的时候,那么就打上\"self\"的印记.\n",
    "class A(object):\n",
    "    def __init__(self,d):\n",
    "        self.d = d\n",
    "    def B(self,b):\n",
    "        self.b = b\n",
    "        print(b)\n",
    "    def C(self):\n",
    "        print(self.b)\n",
    "        \n",
    "\n",
    "\n",
    "a = A(100)\n",
    "a.B(10)\n",
    "a.C()"
   ]
  },
  {
   "cell_type": "code",
   "execution_count": 1,
   "metadata": {},
   "outputs": [
    {
     "name": "stdout",
     "output_type": "stream",
     "text": [
      "####################################################################################################100%\r"
     ]
    }
   ],
   "source": [
    "import time\n",
    "def s():\n",
    "    for i in range(1,101):\n",
    "        time.sleep(1)\n",
    "        #格式化输出\n",
    "         # \\r 回到顶点\n",
    "        print('%s%d%%\\r'%('#'*i,i),end=\"\",flush='true')\n",
    "s()"
   ]
  },
  {
   "cell_type": "code",
   "execution_count": 2,
   "metadata": {},
   "outputs": [
    {
     "name": "stdout",
     "output_type": "stream",
     "text": [
      "14:21:43 \r"
     ]
    },
    {
     "ename": "KeyboardInterrupt",
     "evalue": "",
     "output_type": "error",
     "traceback": [
      "\u001b[1;31m---------------------------------------------------------------------------\u001b[0m",
      "\u001b[1;31mKeyboardInterrupt\u001b[0m                         Traceback (most recent call last)",
      "\u001b[1;32m<ipython-input-2-7136f4b81879>\u001b[0m in \u001b[0;36m<module>\u001b[1;34m\u001b[0m\n\u001b[0;32m     17\u001b[0m \u001b[1;31m#time=Time()\u001b[0m\u001b[1;33m\u001b[0m\u001b[1;33m\u001b[0m\u001b[1;33m\u001b[0m\u001b[0m\n\u001b[0;32m     18\u001b[0m \u001b[1;31m#time.shuzi()\u001b[0m\u001b[1;33m\u001b[0m\u001b[1;33m\u001b[0m\u001b[1;33m\u001b[0m\u001b[0m\n\u001b[1;32m---> 19\u001b[1;33m \u001b[0mTime\u001b[0m\u001b[1;33m(\u001b[0m\u001b[1;33m)\u001b[0m\u001b[1;33m.\u001b[0m\u001b[0mshuzi\u001b[0m\u001b[1;33m(\u001b[0m\u001b[1;33m)\u001b[0m\u001b[1;33m\u001b[0m\u001b[1;33m\u001b[0m\u001b[0m\n\u001b[0m",
      "\u001b[1;32m<ipython-input-2-7136f4b81879>\u001b[0m in \u001b[0;36mshuzi\u001b[1;34m(self)\u001b[0m\n\u001b[0;32m      7\u001b[0m             \u001b[0mi\u001b[0m\u001b[1;33m=\u001b[0m\u001b[0mi\u001b[0m\u001b[1;33m+\u001b[0m\u001b[1;36m1\u001b[0m\u001b[1;33m\u001b[0m\u001b[1;33m\u001b[0m\u001b[0m\n\u001b[0;32m      8\u001b[0m             \u001b[1;32mif\u001b[0m \u001b[0mi\u001b[0m\u001b[1;33m<\u001b[0m\u001b[1;36m100\u001b[0m\u001b[1;33m:\u001b[0m\u001b[1;33m\u001b[0m\u001b[1;33m\u001b[0m\u001b[0m\n\u001b[1;32m----> 9\u001b[1;33m                 \u001b[0mtime\u001b[0m\u001b[1;33m.\u001b[0m\u001b[0msleep\u001b[0m\u001b[1;33m(\u001b[0m\u001b[1;36m1\u001b[0m\u001b[1;33m)\u001b[0m\u001b[1;33m\u001b[0m\u001b[1;33m\u001b[0m\u001b[0m\n\u001b[0m\u001b[0;32m     10\u001b[0m                 \u001b[0mnow\u001b[0m \u001b[1;33m=\u001b[0m \u001b[0mtime\u001b[0m\u001b[1;33m.\u001b[0m\u001b[0mlocaltime\u001b[0m\u001b[1;33m(\u001b[0m\u001b[1;33m)\u001b[0m  \u001b[1;31m# 返回服务器时间\u001b[0m\u001b[1;33m\u001b[0m\u001b[1;33m\u001b[0m\u001b[0m\n\u001b[0;32m     11\u001b[0m                 \u001b[0mprint\u001b[0m\u001b[1;33m(\u001b[0m\u001b[0mtime\u001b[0m\u001b[1;33m.\u001b[0m\u001b[0mstrftime\u001b[0m\u001b[1;33m(\u001b[0m\u001b[1;34m\"%H:%M:%S \\r\"\u001b[0m\u001b[1;33m,\u001b[0m \u001b[0mnow\u001b[0m\u001b[1;33m)\u001b[0m\u001b[1;33m,\u001b[0m\u001b[0mend\u001b[0m\u001b[1;33m=\u001b[0m\u001b[1;34m\"\"\u001b[0m\u001b[1;33m,\u001b[0m\u001b[0mflush\u001b[0m\u001b[1;33m=\u001b[0m\u001b[1;32mTrue\u001b[0m\u001b[1;33m)\u001b[0m\u001b[1;33m\u001b[0m\u001b[1;33m\u001b[0m\u001b[0m\n",
      "\u001b[1;31mKeyboardInterrupt\u001b[0m: "
     ]
    }
   ],
   "source": [
    "import time\n",
    "class Time(object):\n",
    "    def __init__(self):\n",
    "        self.time=time\n",
    "    def shuzi(self):\n",
    "        for i in range(1,100):\n",
    "            i=i+1\n",
    "            if i<100:\n",
    "                time.sleep(1)\n",
    "                now = time.localtime()  # 返回服务器时间\n",
    "                print(time.strftime(\"%H:%M:%S \\r\", now),end=\"\",flush=True)\n",
    "                if time.strftime(\"%H:%M:%S\", now)=='17:55:00':\n",
    "                    print(\"闹钟响了！！! \")\n",
    "                else:\n",
    "                    pass\n",
    "                \n",
    "#time=Time()\n",
    "#time.shuzi()\n",
    "Time().shuzi()"
   ]
  },
  {
   "cell_type": "markdown",
   "metadata": {},
   "source": [
    "## 定义类\n",
    "    定义类只有两步:\n",
    "    1. 使用标识符class ClassName(object):\n",
    "    2. 重写__init__函数,但是需要记住,一定要打上一个\"self\"的标记.因为后面会学到继承,当在继承的时候可能就会有函数名相撞的情况.或者说,类中会含有多个变量,多个函数,那么就需要使用\"self\"手段去区分.\n",
    "    3. 类的传参是在__init__函数中的.需要注意的是,如果你的参数可能被多个函数都使用,那么你才在__init__函数中去定义参数\n",
    "    "
   ]
  },
  {
   "cell_type": "code",
   "execution_count": 3,
   "metadata": {},
   "outputs": [
    {
     "name": "stdout",
     "output_type": "stream",
     "text": [
      "100\n"
     ]
    },
    {
     "data": {
      "text/plain": [
       "<__main__.Student at 0x20858998c50>"
      ]
     },
     "execution_count": 3,
     "metadata": {},
     "output_type": "execute_result"
    }
   ],
   "source": [
    "# bject 不是一个参数\n",
    "class Student(object):\n",
    "    def __init__(self,name):\n",
    "        print(name)\n",
    "\n",
    "Student(100)"
   ]
  },
  {
   "cell_type": "code",
   "execution_count": 4,
   "metadata": {},
   "outputs": [
    {
     "name": "stdout",
     "output_type": "stream",
     "text": [
      "9 13 22 5.5 5 1\n"
     ]
    },
    {
     "data": {
      "text/plain": [
       "<__main__.Number at 0x20858a110f0>"
      ]
     },
     "execution_count": 4,
     "metadata": {},
     "output_type": "execute_result"
    }
   ],
   "source": [
    "# 输入两个数字,打印这两个数的\n",
    "# 差，和、乘、除、整除、取余、\n",
    "class Number(object):\n",
    "    def __init__(self,a,b):\n",
    "        # 多个打印用逗号\",\"进行分隔.\n",
    "        print(a-b,a+b,a*b,a/b,a//b,a%b)\n",
    "\n",
    "Number(11,2)"
   ]
  },
  {
   "cell_type": "code",
   "execution_count": 5,
   "metadata": {},
   "outputs": [],
   "source": [
    "\"\"\"\n",
    "for xxx:\n",
    "    ....\n",
    "else:\n",
    "    ....\n",
    "当for循环能够顺利执行完毕,也就是说没有brek,则走else\n",
    "否则else不走\n",
    "\n",
    "for i in range(10):\n",
    "    print(i)\n",
    "else:\n",
    "    print('hahah')\n",
    "\"\"\"\n",
    "class Number(object):\n",
    "    # 判断一个数字是否是素数\n",
    "    def __init__(self,num):\n",
    "        # num: int类型的数字\n",
    "        self.num = num\n",
    "    def Check(self):\n",
    "        for i in range(2,self.num):\n",
    "            if self.num % i == 0:\n",
    "                print('不是素数')\n",
    "                #print(i)\n",
    "                break\n",
    "        else:\n",
    "            print('是素数')"
   ]
  },
  {
   "cell_type": "code",
   "execution_count": 6,
   "metadata": {},
   "outputs": [
    {
     "name": "stdout",
     "output_type": "stream",
     "text": [
      "不是素数\n"
     ]
    }
   ],
   "source": [
    "number = Number(10)\n",
    "number.Check()"
   ]
  },
  {
   "cell_type": "code",
   "execution_count": 7,
   "metadata": {},
   "outputs": [],
   "source": [
    "class Name(object):\n",
    "    def __init__(self,age,gener):\n",
    "        self.age = age\n",
    "        self.gener = gener\n",
    "    def Age(self):\n",
    "        if self.age < 18:\n",
    "            print ('年轻')\n",
    "        elif 18 < self.age <40:\n",
    "            print('中年')\n",
    "        else:\n",
    "            print('老年')\n",
    "    def Gener(self):\n",
    "        if self.gener == 0:\n",
    "            prin ('男')\n",
    "        elif self.gener == 1:\n",
    "            print('女')\n",
    "        else:\n",
    "            print('未知')"
   ]
  },
  {
   "cell_type": "code",
   "execution_count": 8,
   "metadata": {},
   "outputs": [
    {
     "name": "stdout",
     "output_type": "stream",
     "text": [
      "年轻\n",
      "女\n"
     ]
    }
   ],
   "source": [
    "name = Name(12,1)\n",
    "name.Age()\n",
    "name.Gener()"
   ]
  },
  {
   "cell_type": "code",
   "execution_count": null,
   "metadata": {},
   "outputs": [],
   "source": []
  }
 ],
 "metadata": {
  "kernelspec": {
   "display_name": "Python 3",
   "language": "python",
   "name": "python3"
  },
  "language_info": {
   "codemirror_mode": {
    "name": "ipython",
    "version": 3
   },
   "file_extension": ".py",
   "mimetype": "text/x-python",
   "name": "python",
   "nbconvert_exporter": "python",
   "pygments_lexer": "ipython3",
   "version": "3.7.3"
  }
 },
 "nbformat": 4,
 "nbformat_minor": 2
}
