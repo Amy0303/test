{
 "cells": [
  {
   "cell_type": "markdown",
   "metadata": {},
   "source": [
    "# 匹配模式 "
   ]
  },
  {
   "cell_type": "code",
   "execution_count": 3,
   "metadata": {},
   "outputs": [
    {
     "data": {
      "text/plain": [
       "<_sre.SRE_Match object; span=(0, 37), match='Hello 1234567  World_This\\nis a Regex '>"
      ]
     },
     "execution_count": 3,
     "metadata": {},
     "output_type": "execute_result"
    }
   ],
   "source": [
    "import re\n",
    "content = '''Hello 1234567  World_This\n",
    "is a Regex '''\n",
    "re.match('^H.*',content,re.S)"
   ]
  },
  {
   "cell_type": "markdown",
   "metadata": {},
   "source": [
    "# 转义字符"
   ]
  },
  {
   "cell_type": "code",
   "execution_count": 13,
   "metadata": {},
   "outputs": [
    {
     "data": {
      "text/plain": [
       "'5.00'"
      ]
     },
     "execution_count": 13,
     "metadata": {},
     "output_type": "execute_result"
    }
   ],
   "source": [
    "import re\n",
    "content = 'price is $5.00'\n",
    "re.match('price is \\$(\\d+\\.\\d+)',content).group(1)"
   ]
  },
  {
   "cell_type": "markdown",
   "metadata": {},
   "source": [
    "# re.search\n",
    "re.search扫描整个字符串，并返回第一个匹配成功的匹配"
   ]
  },
  {
   "cell_type": "code",
   "execution_count": 12,
   "metadata": {},
   "outputs": [
    {
     "data": {
      "text/plain": [
       "'Extra stings Hello 1234567  World_This is a Regex '"
      ]
     },
     "execution_count": 12,
     "metadata": {},
     "output_type": "execute_result"
    }
   ],
   "source": [
    "import re\n",
    "content = 'Extra stings Hello 1234567  World_This is a Regex '\n",
    "re.search('.*',content).group()"
   ]
  },
  {
   "cell_type": "code",
   "execution_count": 11,
   "metadata": {},
   "outputs": [
    {
     "name": "stdout",
     "output_type": "stream",
     "text": [
      "1234567\n"
     ]
    }
   ],
   "source": [
    "import re\n",
    "content = 'Hello 1234567  World_This is a Regex '\n",
    "res = re.search('\\d+',content)\n",
    "print(res.group())"
   ]
  },
  {
   "cell_type": "markdown",
   "metadata": {},
   "source": [
    "# 匹配演练"
   ]
  },
  {
   "cell_type": "code",
   "execution_count": 25,
   "metadata": {},
   "outputs": [
    {
     "name": "stdout",
     "output_type": "stream",
     "text": [
      "('手机百度', '快人一步', '百度糯米', '我的生活')\n"
     ]
    }
   ],
   "source": [
    "import re\n",
    "html = '''\n",
    "</textarea></div><div id=bottom_container class=s-bottom-ctner>\n",
    "<div class=\"ftCon-Wrapper\"> <div class=qrcode-layer>\n",
    "<div class=\"qrcode-item qrcode-item-1\">\n",
    "<div class=qrcode-img></div><div class=qrcode-text>\n",
    "<p><b>手机百度</b></p ><p><span>快人一步</span></p >\n",
    "</div> </div><div class=\"qrcode-item qrcode-item-2\">\n",
    "<div class=qrcode-img></div><div class=qrcode-text>\n",
    "<p><b>百度糯米</b></p ><p><span>我的生活</span></p >\n",
    "</div> </div> </div> <div class=no-qrcode-layer>\n",
    "<div>\n",
    "<p class=lh>\n",
    "<a class=sethome href= > 设为首页 </ a></p >\n",
    "<span class=copyright-text><span>&#169;2018&nbsp;Baidu&nbsp;</span>< a href=//www.baidu.com/duty/ target=_blank>\n",
    "使用百度前必读</ a>&nbsp;\n",
    "'''\n",
    "res = re.search('.*<b>(\\w{4}).*<span>(\\w{4}).*<b>(\\w{4}).*<span>(\\w{4})',html,re.S)\n",
    "print(res.groups())"
   ]
  },
  {
   "cell_type": "code",
   "execution_count": 48,
   "metadata": {},
   "outputs": [
    {
     "name": "stdout",
     "output_type": "stream",
     "text": [
      "//www.baidu.com/duty/\n"
     ]
    }
   ],
   "source": [
    "import re\n",
    "html = '''\n",
    "</textarea></div><div id=bottom_container class=s-bottom-ctner>\n",
    "<div class=\"ftCon-Wrapper\"> <div class=qrcode-layer>\n",
    "<div class=\"qrcode-item qrcode-item-1\">\n",
    "<div class=qrcode-img></div><div class=qrcode-text>\n",
    "<p><b>手机百度</b></p ><p><span>快人一步</span></p >\n",
    "</div> </div><div class=\"qrcode-item qrcode-item-2\">\n",
    "<div class=qrcode-img></div><div class=qrcode-text>\n",
    "<p><b>百度糯米</b></p ><p><span>我的生活</span></p >\n",
    "</div> </div> </div> <div class=no-qrcode-layer>\n",
    "<div>\n",
    "<p class=lh>\n",
    "<a class=sethome href= > 设为首页 </ a></p >\n",
    "<span class=copyright-text><span>&#169;2018&nbsp;Baidu&nbsp;</span>< a href=//www.baidu.com/duty/ target=_blank>\n",
    "使用百度前必读</ a>&nbsp;\n",
    "'''\n",
    "res = re.search('.*href=(.*?)\\s',html,re.S)\n",
    "print(res.group(1))"
   ]
  },
  {
   "cell_type": "code",
   "execution_count": 50,
   "metadata": {},
   "outputs": [
    {
     "name": "stdout",
     "output_type": "stream",
     "text": [
      "//www.baidu.com/duty/\n"
     ]
    }
   ],
   "source": [
    "import re\n",
    "html = '''\n",
    "</textarea></div><div id=bottom_container class=s-bottom-ctner>\n",
    "<div class=\"ftCon-Wrapper\"> <div class=qrcode-layer>\n",
    "<div class=\"qrcode-item qrcode-item-1\">\n",
    "<div class=qrcode-img></div><div class=qrcode-text>\n",
    "<p><b>手机百度</b></p ><p><span>快人一步</span></p >\n",
    "</div> </div><div class=\"qrcode-item qrcode-item-2\">\n",
    "<div class=qrcode-img></div><div class=qrcode-text>\n",
    "<p><b>百度糯米</b></p ><p><span>我的生活</span></p >\n",
    "</div> </div> </div> <div class=no-qrcode-layer>\n",
    "<div>\n",
    "<p class=lh>\n",
    "<a class=sethome href= > 设为首页 </ a></p >\n",
    "<span class=copyright-text><span>&#169;2018&nbsp;Baidu&nbsp;</span>< a href=//www.baidu.com/duty/ target=_blank>\n",
    "使用百度前必读</ a>&nbsp;\n",
    "'''\n",
    "res = re.search('.*?a href=(\\D{21})',html,re.S)\n",
    "print(res.group(1))"
   ]
  },
  {
   "cell_type": "markdown",
   "metadata": {},
   "source": [
    "# re.findall\n",
    "搜索字符串，以列表形式返回全部能够匹配的字符"
   ]
  },
  {
   "cell_type": "code",
   "execution_count": 52,
   "metadata": {},
   "outputs": [
    {
     "name": "stdout",
     "output_type": "stream",
     "text": [
      "[('手机百度', '快人一步', '百度糯米', '我的生活')]\n"
     ]
    }
   ],
   "source": [
    "import re\n",
    "html = '''\n",
    "</textarea></div><div id=bottom_container class=s-bottom-ctner>\n",
    "<div class=\"ftCon-Wrapper\"> <div class=qrcode-layer>\n",
    "<div class=\"qrcode-item qrcode-item-1\">\n",
    "<div class=qrcode-img></div><div class=qrcode-text>\n",
    "<p><b>手机百度</b></p ><p><span>快人一步</span></p >\n",
    "</div> </div><div class=\"qrcode-item qrcode-item-2\">\n",
    "<div class=qrcode-img></div><div class=qrcode-text>\n",
    "<p><b>百度糯米</b></p ><p><span>我的生活</span></p >\n",
    "</div> </div> </div> <div class=no-qrcode-layer>\n",
    "<div>\n",
    "<p class=lh>\n",
    "<a class=sethome href= > 设为首页 </ a></p >\n",
    "<span class=copyright-text><span>&#169;2018&nbsp;Baidu&nbsp;</span>< a href=//www.baidu.com/duty/ target=_blank>\n",
    "使用百度前必读</ a>&nbsp;\n",
    "'''\n",
    "res = re.findall('.*<b>(\\w{4}).*<span>(\\w{4}).*<b>(\\w{4}).*<span>(\\w{4})',html,re.S)\n",
    "print(res)"
   ]
  },
  {
   "cell_type": "markdown",
   "metadata": {},
   "source": [
    "# 总结：尽量使用泛匹配+非贪婪模式，使用括号得到匹配目标，有换行符就用re.S\n",
    "# re.compile\n",
    "将正则字符串编译成对象，适用于文本较为复杂的情况"
   ]
  },
  {
   "cell_type": "code",
   "execution_count": 93,
   "metadata": {},
   "outputs": [],
   "source": [
    "import re\n",
    "html = '''\n",
    "</textarea></div><div id=bottom_container class=s-bottom-ctner>\n",
    "<div class=\"ftCon-Wrapper\"> <div class=qrcode-layer>\n",
    "<div class=\"qrcode-item qrcode-item-1\">\n",
    "<div class=qrcode-img></div><div class=qrcode-text>\n",
    "<p><b>手机百度</b></p><p><span>快人一步</span></p >\n",
    "</div> </div><div class=\"qrcode-item qrcode-item-2\">\n",
    "<div class=qrcode-img></div><div class=qrcode-text>\n",
    "<p><b>百度糯米</b></p><p><span>我的生活</span></p >\n",
    "</div> </div> </div> <div class=no-qrcode-layer>\n",
    "<div>\n",
    "<p class=lh>\n",
    "<a class=sethome href= > 设为首页 </ a></p >\n",
    "<span class=copyright-text><span>&#169;2018&nbsp;Baidu&nbsp;</span>< a href=//www.baidu.com/duty/ target=_blank>\n",
    "使用百度前必读</ a>&nbsp;\n",
    "'''"
   ]
  },
  {
   "cell_type": "code",
   "execution_count": 94,
   "metadata": {},
   "outputs": [],
   "source": [
    "import re\n",
    "regex = re.compile('<p><b>(.*?)</b></p><p><span>(.*?)</span></p><p><b>(.*?)</b></p><p><span>(.*?)</span></p>',re.S)\n",
    "result = re.findall(regex,html)\n",
    "if result:\n",
    "    print(result)"
   ]
  },
  {
   "cell_type": "code",
   "execution_count": 82,
   "metadata": {},
   "outputs": [
    {
     "name": "stdout",
     "output_type": "stream",
     "text": [
      "[('/latest?icn=index-latestbook-all', '情书'), ('https://book.douban.com/subject/30230525/?icn=index-editionrecommend', '情书'), ('https://book.douban.com/subject/30210250/?icn=index-editionrecommend', '谁杀了她'), ('https://book.douban.com/subject/30212306/?icn=index-editionrecommend', '隔间'), ('https://book.douban.com/subject/30156001/?icn=index-editionrecommend', '我知道你们又来这一套！'), ('https://book.douban.com/subject/30220058/?icn=index-editionrecommend', '未来版图'), ('https://book.douban.com/subject/27204808/?icn=index-latestbook-subject', '酒徒'), ('https://book.douban.com/subject/30217910/?icn=index-latestbook-subject', '反智时代'), ('https://book.douban.com/subject/27111572/?icn=index-latestbook-subject', '人类之子'), ('https://book.douban.com/subject/27093044/?icn=index-latestbook-subject', '破壁书：网络文化关键词'), ('https://book.douban.com/subject/30204837/?icn=index-latestbook-subject', '傀儡城之荆轲刺秦'), ('https://book.douban.com/subject/27091776/?icn=index-latestbook-subject', '文学讲稿'), ('https://book.douban.com/subject/30190319/?icn=index-latestbook-subject', '望花'), ('https://book.douban.com/subject/27617139/?icn=index-latestbook-subject', '绘画、权力与赞助机制'), ('https://book.douban.com/subject/30234130/?icn=index-latestbook-subject', '芬兰人的噩梦'), ('https://book.douban.com/subject/30180835/?icn=index-latestbook-subject', '松子落'), ('https://book.douban.com/subject/30210732/?icn=index-latestbook-subject', '神奇女侠'), ('https://book.douban.com/subject/27667773/?icn=index-latestbook-subject', '大英烦事多'), ('https://book.douban.com/subject/30135485/?icn=index-latestbook-subject', '蓝山'), ('https://book.douban.com/subject/30211002/?icn=index-latestbook-subject', '我们一起拍片！'), ('https://book.douban.com/subject/30161866/?icn=index-latestbook-subject', '太年轻'), ('https://book.douban.com/subject/30203912/?icn=index-latestbook-subject', '如何听爵士'), ('https://book.douban.com/subject/27197828/?icn=index-latestbook-subject', '死亡间歇'), ('https://book.douban.com/subject/28867623/?icn=index-latestbook-subject', '暮色将至'), ('https://book.douban.com/subject/30182605/?icn=index-latestbook-subject', '山椒鱼'), ('https://book.douban.com/subject/30143236/?icn=index-latestbook-subject', '文凭社会'), ('https://book.douban.com/subject/30147047/?icn=index-latestbook-subject', '母狮的忏悔'), ('https://book.douban.com/subject/30198500/?icn=index-latestbook-subject', '京都好物'), ('https://book.douban.com/subject/30204893/?icn=index-latestbook-subject', '沼泽怪物'), ('https://book.douban.com/subject/30232097/?icn=index-latestbook-subject', '打造消费天堂'), ('https://book.douban.com/subject/27176954/?icn=index-latestbook-subject', '罗特小说集1'), ('https://book.douban.com/subject/30195116/?icn=index-latestbook-subject', '欲望的治疗'), ('https://book.douban.com/subject/27204778/?icn=index-latestbook-subject', '寺内'), ('https://book.douban.com/subject/27058743/?icn=index-latestbook-subject', '刺桐城'), ('https://book.douban.com/subject/27602608/?icn=index-latestbook-subject', '光年'), ('https://book.douban.com/subject/30141453/?icn=index-latestbook-subject', '1962-1991 私人文学史'), ('https://book.douban.com/subject/27604676/?icn=index-latestbook-subject', '群'), ('https://book.douban.com/subject/30242736/?icn=index-latestbook-subject', '取瑟而歌'), ('https://book.douban.com/subject/30218923/?icn=index-latestbook-subject', '失踪的总统'), ('https://book.douban.com/subject/30231509/?icn=index-latestbook-subject', '人的困境'), ('https://book.douban.com/subject/30172069/?icn=index-latestbook-subject', '失踪的孩子')]\n"
     ]
    }
   ],
   "source": [
    "import requests\n",
    "import re\n",
    "header = {'User-Agent': 'Mozilla/5.0 (Windows NT 6.1; Win64; x64) AppleWebKit/537.36 (KHTML, like Gecko) Chrome/66.0.3359.181 Safari/537.36'}\n",
    "content = requests.get('https://book.douban.com/',headers=header).text\n",
    "regex = re.compile('<a\\sclass=\"\"\\shref=\"(.*?)\".*?title=\"(.*?)\">',re.S)\n",
    "res = re.findall(regex,content)\n",
    "print(res)\n",
    "\n",
    "\n"
   ]
  },
  {
   "cell_type": "code",
   "execution_count": 73,
   "metadata": {},
   "outputs": [],
   "source": [
    "import requests\n",
    "import re\n",
    "    a = ['http://zhuanti.17k.com/subject/2018/newbooks/juewangliming/pc/','http://zhuanti.17k.com/subject/2018/wusong/pc/']\n",
    "    header = {'User-Agent': 'Mozilla/5.0 (Windows NT 6.1; Win64; x64) AppleWebKit/537.36 (KHTML, like Gecko) Chrome/66.0.3359.181 Safari/537.36'}\n",
    "    for i in range(2):\n",
    "        url = a[i]\n",
    "        response = requests.get(url,headers=header)\n",
    "        file = 'C:\\\\Users\\\\Administrator\\\\Desktop\\\\e'+str(i)+'.html'\n",
    "        with open(file,'w',encoding='utf-8')as f:\n",
    "            f.write(response.text)\n",
    "        print(i)"
   ]
  },
  {
   "cell_type": "code",
   "execution_count": 114,
   "metadata": {},
   "outputs": [],
   "source": [
    "import requests\n",
    "from lxml import etree\n",
    "html = requests.get('http://www.17k.com/list/2819974.html').text\n",
    "#print(html)\n",
    "tree = etree.HTML(html)#这一步将网页源代码转换成xpath\n",
    "a = tree.xpath('//div[@class=\"Main List\"]/dl[@class=\"Volume\"][2]/dd/a')\n",
    "#print(a)\n",
    "for i in a:#循环这个a列表\n",
    "    href = i.xpath('./@href')[0]\n",
    "    #print(href)\n",
    "    wanzheng__href = 'http://www.17k.com'+href\n",
    "    #print(wanzheng__href)\n",
    "    res = requests.get(wanzheng__href).text\n",
    "    tree2 = etree.HTML(res)\n",
    "    #print(res)\n",
    "    p = tree2.xpath('//div[@class=\"area\"]/div[@class=\"read\"]/div[@class=\"readArea\"]/div[@class=\"readAreaBox content\"]/div[@class=\"p\"]/text()')\n",
    "    #print(p)\n",
    "    with open('C:\\\\Users\\\\Administrator\\\\Desktop\\\\book','a',encoding='utf-8')as f:\n",
    "    #f.write(p[0])\n",
    "        f.write(str(p))\n",
    "    "
   ]
  },
  {
   "cell_type": "code",
   "execution_count": 19,
   "metadata": {},
   "outputs": [
    {
     "name": "stdout",
     "output_type": "stream",
     "text": [
      "['/chapter/2819974/35004076.html', '/chapter/2819974/35124035.html', '/chapter/2819974/34992861.html', '/chapter/2819974/34998966.html', '/chapter/2819974/35003885.html', '/chapter/2819974/35010799.html', '/chapter/2819974/35020514.html', '/chapter/2819974/35026716.html', '/chapter/2819974/35028478.html', '/chapter/2819974/35033500.html', '/chapter/2819974/35033521.html', '/chapter/2819974/35039389.html', '/chapter/2819974/35039403.html', '/chapter/2819974/35075434.html', '/chapter/2819974/35044483.html', '/chapter/2819974/35049717.html', '/chapter/2819974/35056314.html', '/chapter/2819974/35061185.html', '/chapter/2819974/35076354.html', '/chapter/2819974/35067231.html', '/chapter/2819974/35078389.html', '/chapter/2819974/35088202.html', '/chapter/2819974/35092974.html', '/chapter/2819974/35092975.html', '/chapter/2819974/35099227.html', '/chapter/2819974/35103153.html', '/chapter/2819974/35110154.html', '/chapter/2819974/35113331.html', '/chapter/2819974/35118574.html', '/chapter/2819974/35124377.html', '/chapter/2819974/35132105.html', '/chapter/2819974/35136351.html', '/chapter/2819974/35140456.html', '/chapter/2819974/35147094.html', '/chapter/2819974/35152685.html', '/chapter/2819974/35159411.html', '/chapter/2819974/35162498.html', '/chapter/2819974/35165037.html', '/chapter/2819974/35168672.html', '/chapter/2819974/35173849.html', '/chapter/2819974/35178630.html', '/chapter/2819974/35181184.html', '/chapter/2819974/35186502.html', '/chapter/2819974/35189510.html', '/chapter/2819974/35194373.html', '/chapter/2819974/35200037.html', '/chapter/2819974/35205661.html', '/chapter/2819974/35211236.html', '/chapter/2819974/35215903.html', '/chapter/2819974/35221640.html', '/chapter/2819974/35227080.html', '/chapter/2819974/35236085.html', '/chapter/2819974/35237666.html', '/chapter/2819974/35244997.html', '/chapter/2819974/35250583.html', '/chapter/2819974/35250612.html', '/chapter/2819974/35256905.html']\n",
      "[]\n",
      "\n"
     ]
    }
   ],
   "source": [
    "import requests\n",
    "import re\n",
    "html = requests.get('http://www.17k.com/list/2819974.html').text\n",
    "#print(html)\n",
    "regex = re.compile('.*<a target=\"_blank\" href=\"(.*?)\" title=\".*?\">')\n",
    "result = re.findall(regex,html)\n",
    "print(result)\n",
    "for i in result:\n",
    "    url = 'http://www.17k.com'+ i\n",
    "    res = requests.get(url).text\n",
    "    regex2 = re.compile('.*?#12288;&#12288;(.*?)<br/><br/>')\n",
    "    result2 = re.findall(regex2,res)\n",
    "    print(result2)\n",
    "    haha = ''.join(result2)\n",
    "    print(haha)\n",
    "    break"
   ]
  },
  {
   "cell_type": "code",
   "execution_count": null,
   "metadata": {},
   "outputs": [],
   "source": []
  },
  {
   "cell_type": "code",
   "execution_count": null,
   "metadata": {},
   "outputs": [],
   "source": [
    "import requests\n",
    "res = requests.get('http://op.hanhande.com/shtml/meitu.shtml')\n",
    "res.encoding='gbk'\n",
    "html = res.text\n",
    "from lxml import etree\n",
    "tree = etree.HTML(html)\n",
    "li = tree.xpath('//div[@class=\"content mt10\"]/div[@class=\"show listbox cc\"]/ul[@class=\"spic pic1\"]/li')\n",
    "#print(li)\n",
    "s = 0\n",
    "for i in li:\n",
    "    #i.xpath('./a/img/@src')\n",
    "    #print(i.xpath('./a/img/@src'))\n",
    "    url=i.xpath('./a/img/@src')[0]\n",
    "    name = url.split('/')[-1]\n",
    "    img_content = requests.get(url).content\n",
    "    #print(img_content)\n",
    "    #break\n",
    "    s+=1\n",
    "    with open('C:\\\\Users\\\\Administrator\\\\Desktop\\\\pic\\\\'+str(s)+'.jpg')\n",
    "    #with open('C:\\\\Users\\\\Administrator\\\\Desktop\\\\pic\\\\'+name,'wb')as f:\n",
    "        f.write(img_content)\n",
    "    "
   ]
  },
  {
   "cell_type": "code",
   "execution_count": null,
   "metadata": {},
   "outputs": [],
   "source": [
    "import requests\n",
    "res = requests.get('http://op.hanhande.com/shtml/meitu.shtml')\n",
    "res.encoding='gbk'\n",
    "#print(res)\n",
    "html = res.text\n",
    "from lxml import etree\n",
    "tree = etree.HTML(html)\n",
    "li = tree.xpath('//div[@class=\"content mt10\"]/div[@class=\"show listbox cc\"]/ul[@class=\"spic pic1\"]/li')\n",
    "#print(li)\n",
    "for i in li:\n",
    "    url=i.xpath('./a/img/@src')[0]\n",
    "    #print(url)\n",
    "    name = url.split('/')[-1]\n",
    "    img_content = requests.get(url).content\n",
    "    print(img_content)\n",
    "    #break\n",
    "    with open('C:\\\\Users\\\\Administrator\\\\Desktop\\\\pic\\\\'+name,'wb')as f:\n",
    "        f.write(img_content"
   ]
  },
  {
   "cell_type": "code",
   "execution_count": null,
   "metadata": {},
   "outputs": [],
   "source": []
  },
  {
   "cell_type": "code",
   "execution_count": null,
   "metadata": {
    "scrolled": true
   },
   "outputs": [],
   "source": []
  },
  {
   "cell_type": "code",
   "execution_count": null,
   "metadata": {},
   "outputs": [],
   "source": []
  }
 ],
 "metadata": {
  "kernelspec": {
   "display_name": "Python 3",
   "language": "python",
   "name": "python3"
  },
  "language_info": {
   "codemirror_mode": {
    "name": "ipython",
    "version": 3
   },
   "file_extension": ".py",
   "mimetype": "text/x-python",
   "name": "python",
   "nbconvert_exporter": "python",
   "pygments_lexer": "ipython3",
   "version": "3.6.4"
  }
 },
 "nbformat": 4,
 "nbformat_minor": 2
}
