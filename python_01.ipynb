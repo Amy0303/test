{
 "cells": [
  {
   "cell_type": "markdown",
   "metadata": {},
   "source": [
    "## 函数的写法\n",
    "    标识   函数的名字（）：\n",
    "        有有冒号就要缩进一个tab\n",
    "    在Python中所有的函数都有返回值,如果你没有给予return则默认返回出None,如果你给予了,则返回你给予的值\n",
    "    def    funcName():\n",
    "    .....\n",
    "    return ....\n",
    "    \n",
    "    标识    类名      ()     :\n",
    "    有冒号就要缩进一个tab\n",
    "    class  className(object):\n",
    "    ........\n",
    "    1.导入库, import 库名\n",
    "    2. for 循环,如果计数的情况则使用\n",
    "        开始  结束  步长\n",
    "    range的区间是一个前闭后开.\n",
    "    range(start,end,[step])\n",
    "    3. 格式化输出\n",
    "    3.1 %-->%(),%d后接整型,%f后接浮点,%s后接字符串.\n",
    "    3.2 {}-->format(),它可以直接传入任何类型,然后格式化输出.\n",
    "\n",
    "    4.print 控制台(terminal)打印\n",
    "    4.1 end 以什么方式结尾,默认以换行符\"\\n\"\n",
    "    4.2 flush 刷新缓冲区."
   ]
  },
  {
   "cell_type": "code",
   "execution_count": 11,
   "metadata": {},
   "outputs": [
    {
     "name": "stdout",
     "output_type": "stream",
     "text": [
      "10\n",
      "10\n"
     ]
    }
   ],
   "source": [
    "#类中的函数可以有自己的参数\n",
    "#当你想共享这个参数的时候,那么就打上\"self\"的印记.\n",
    "class A(object):\n",
    "    def __init__(self,a):\n",
    "        self.a = a\n",
    "    def B(self,b):\n",
    "        self.b = b\n",
    "        print(b)\n",
    "    def C(self):\n",
    "        print(self.b)\n",
    "        \n",
    "\n",
    "\n",
    "J = A(1000)\n",
    "J.B(10)\n",
    "J.C()"
   ]
  },
  {
   "cell_type": "code",
   "execution_count": 12,
   "metadata": {},
   "outputs": [
    {
     "name": "stdout",
     "output_type": "stream",
     "text": [
      "####################################################################################################100%\r"
     ]
    }
   ],
   "source": [
    "import time\n",
    "def s():\n",
    "    for i in range(1,101):\n",
    "        time.sleep(1)\n",
    "        #格式化输出\n",
    "         # \\r 回到顶点\n",
    "        print('%s%d%%\\r'%('#'*i,i),end=\"\",flush='true')\n",
    "s()"
   ]
  },
  {
   "cell_type": "markdown",
   "metadata": {},
   "source": [
    "## 定义类\n",
    "    定义类只有两步:\n",
    "    1. 使用标识符class ClassName(object):\n",
    "    2. 重写__init__函数,但是需要记住,一定要打上一个\"self\"的标记.因为后面会学到继承,当在继承的时候可能就会有函数名相撞的情况.或者说,类中会含有多个变量,多个函数,那么就需要使用\"self\"手段去区分.\n",
    "    3. 类的传参是在__init__函数中的.需要注意的是,如果你的参数可能被多个函数都使用,那么你才在__init__函数中去定义参数\n",
    "    "
   ]
  },
  {
   "cell_type": "code",
   "execution_count": 13,
   "metadata": {},
   "outputs": [
    {
     "name": "stdout",
     "output_type": "stream",
     "text": [
      "100\n"
     ]
    },
    {
     "data": {
      "text/plain": [
       "<__main__.Student at 0x197138bb3c8>"
      ]
     },
     "execution_count": 13,
     "metadata": {},
     "output_type": "execute_result"
    }
   ],
   "source": [
    "# bject 不是一个参数\n",
    "class Student(object):\n",
    "    def __init__(self,name):\n",
    "        # 多个打印用\",\"进行分隔.\n",
    "        print(name)\n",
    "\n",
    "\n",
    "Student(100)"
   ]
  },
  {
   "cell_type": "code",
   "execution_count": 14,
   "metadata": {},
   "outputs": [
    {
     "name": "stdout",
     "output_type": "stream",
     "text": [
      "13 9 22 5.5 5 1\n"
     ]
    },
    {
     "data": {
      "text/plain": [
       "<__main__.Number at 0x19713824da0>"
      ]
     },
     "execution_count": 14,
     "metadata": {},
     "output_type": "execute_result"
    }
   ],
   "source": [
    "# 输入两个数字,打印这两个数的\n",
    "# 差，和、乘、除、整除、取余、平方\n",
    "class Number(object):\n",
    "    def __init__(self,a,b):\n",
    "        print(a+b,a-b,a*b,a/b,a//b,a%b)\n",
    "\n",
    "Number(11,2)"
   ]
  },
  {
   "cell_type": "code",
   "execution_count": 15,
   "metadata": {},
   "outputs": [],
   "source": [
    "\"\"\"\n",
    "for xxx:\n",
    "    ....\n",
    "else:\n",
    "    ....\n",
    "当for循环能够顺利执行完毕,也就是说没有brek,则走else\n",
    "否则else不走\n",
    "\n",
    "for i in range(10):\n",
    "    print(i)\n",
    "else:\n",
    "    print('hahah')\n",
    "\"\"\"\n",
    "class number(object):\n",
    "    # 判断一个数字是否是素数\n",
    "    def __init__(self,num):\n",
    "        # num: int类型的数字\n",
    "        self.num = num\n",
    "    def Check(self):\n",
    "        for i in range(2,self.num):\n",
    "            if self.num % i == 0:\n",
    "                print('不是素数')\n",
    "                break\n",
    "        else:\n",
    "            print('是素数')"
   ]
  },
  {
   "cell_type": "code",
   "execution_count": 16,
   "metadata": {},
   "outputs": [
    {
     "name": "stdout",
     "output_type": "stream",
     "text": [
      "不是素数\n"
     ]
    }
   ],
   "source": [
    "name = number(10)\n",
    "name.Check()"
   ]
  },
  {
   "cell_type": "code",
   "execution_count": 17,
   "metadata": {},
   "outputs": [],
   "source": [
    "class Name(object):\n",
    "    def __init__(self,age,gener):\n",
    "        self.age = age\n",
    "        self.gener = gener\n",
    "    def Age(self):\n",
    "        if self.age < 18:\n",
    "            print ('年轻')\n",
    "        elif 18 < self.age <40:\n",
    "            print('中年')\n",
    "        else:\n",
    "            print('老年')\n",
    "    def Gener(self):\n",
    "        if self.gener == 0:\n",
    "            prin ('男')\n",
    "        elif self.gener == 1:\n",
    "            print('女')\n",
    "        else:\n",
    "            print('未知')"
   ]
  },
  {
   "cell_type": "code",
   "execution_count": 18,
   "metadata": {},
   "outputs": [
    {
     "name": "stdout",
     "output_type": "stream",
     "text": [
      "年轻\n",
      "女\n"
     ]
    }
   ],
   "source": [
    "Lyc = Name(12,1)\n",
    "Lyc.Age()\n",
    "Lyc.Gener()"
   ]
  },
  {
   "cell_type": "code",
   "execution_count": null,
   "metadata": {},
   "outputs": [],
   "source": []
  },
  {
   "cell_type": "code",
   "execution_count": 19,
   "metadata": {},
   "outputs": [
    {
     "name": "stdout",
     "output_type": "stream",
     "text": [
      "输入数字：345\n",
      "12\n"
     ]
    }
   ],
   "source": [
    "# 输入三个数求和\n",
    "def sumDigits():\n",
    "    # 输入任意数字并赋值给input_num\n",
    "    input_num = input('输入数字：')\n",
    "    # 声明一个变量用于存放相加计算后的数字，初始值设定为0\n",
    "    sum_num = 0\n",
    "    # 判断输入的内容是否为数字\n",
    "    if input_num.isdigit():\n",
    "        # 循环input_num字符长度次，其中range()为python中生成数字序列的函数，len()为python获取字符串长度的函数\n",
    "        for i in range(len(input_num)):\n",
    "            # python中截取字符串中某一位的字符，方法为str[0:2](即：截取出名称为str的字符串的第0位到第2位之间的字符)\n",
    "            # 此处的意思是，截取输入的字符中第i个到第i+1个字符之间的字符，并赋值给cut_num\n",
    "            cut_num = input_num[i:i + 1]\n",
    "            # 重新给变量sum_num赋值为sum_num+截取到的数字的和\n",
    "            sum_num = sum_num + int(cut_num)\n",
    "            a = sum_num\n",
    "        # 打印（即：在控制台输出）输入的数字中各个数位数字相加的总和\n",
    "        print(a)\n",
    "    else:\n",
    "        print('你输入的不是数字，我不能计算，再见')\n",
    "    \n",
    "sumDigits()"
   ]
  },
  {
   "cell_type": "markdown",
   "metadata": {},
   "source": [
    "# Homework"
   ]
  },
  {
   "cell_type": "code",
   "execution_count": 10,
   "metadata": {},
   "outputs": [],
   "source": [
    "\"\"\"\n",
    " 王者农药\n",
    " 人机对战\n",
    " 1.点击人机对战的按钮(输入)\n",
    " 2.挑选人物(典韦,赵云,鲁班)\n",
    " 3.显示战力,技能,防御\n",
    " 4.人物确定,随机出1个人机，包括战力,名字...等信息显示\n",
    " 5.点击开始按钮..\n",
    " 6.进入加载页面...\n",
    "\"\"\"\n",
    "import numpy as np\n",
    "class wangzhe(object):\n",
    "    def duizhan(self):\n",
    "        choose = input('请选择对战模式：人机 or 多人')\n",
    "        print(choose)\n",
    "    def tiaoxuan(self):\n",
    "        a = input('请选择人物：典韦，赵云，鲁班')\n",
    "        if a == '典韦':\n",
    "            print(a ,\":战力--1500，防御--1647\")\n",
    "        elif a == '赵云':\n",
    "            print(a , \":战力--1700，防御--1541\")\n",
    "        else:\n",
    "            print(a , \":战力--2453，防御--876\")\n",
    "    def renwu(self):\n",
    "        res = np.random.choice(['典韦','赵云','鲁班'])\n",
    "        if res == '典韦':\n",
    "            print(res,\":战力--1500，防御--1647\")\n",
    "        elif res == '赵云':\n",
    "            print(res , \":战力--1700，防御--1541\")\n",
    "        else:\n",
    "            print(res , \":战力--2453，防御--876\")\n",
    "    def start(self):\n",
    "        b = input('请输入开始:')\n",
    "        print(b,\"进入加载项......\")"
   ]
  },
  {
   "cell_type": "code",
   "execution_count": 11,
   "metadata": {},
   "outputs": [
    {
     "name": "stdout",
     "output_type": "stream",
     "text": [
      "请选择对战模式：人机 or 多人人机\n",
      "人机\n",
      "请选择人物：典韦，赵云，鲁班赵云\n",
      "赵云 :战力--1700，防御--1541\n",
      "鲁班 :战力--2453，防御--876\n",
      "请输入开始:11\n",
      "11 进入加载项......\n"
     ]
    }
   ],
   "source": [
    "a = wangzhe()\n",
    "a.duizhan()\n",
    "a.tiaoxuan()\n",
    "a.renwu()\n",
    "a.start()"
   ]
  },
  {
   "cell_type": "markdown",
   "metadata": {},
   "source": [
    "## 1.一个五角数被定义为n(3n-1)/2,编写一个测试程序使用这个函数显示前100个五角数，每行显示10个"
   ]
  },
  {
   "cell_type": "code",
   "execution_count": 6,
   "metadata": {},
   "outputs": [
    {
     "name": "stdout",
     "output_type": "stream",
     "text": [
      "1\t5\t12\t22\t35\t51\t70\t92\t117\t145\t\n",
      "176\t210\t247\t287\t330\t376\t425\t477\t532\t590\t\n",
      "651\t715\t782\t852\t925\t1001\t1080\t1162\t1247\t1335\t\n",
      "1426\t1520\t1617\t1717\t1820\t1926\t2035\t2147\t2262\t2380\t\n",
      "2501\t2625\t2752\t2882\t3015\t3151\t3290\t3432\t3577\t3725\t\n",
      "3876\t4030\t4187\t4347\t4510\t4676\t4845\t5017\t5192\t5370\t\n",
      "5551\t5735\t5922\t6112\t6305\t6501\t6700\t6902\t7107\t7315\t\n",
      "7526\t7740\t7957\t8177\t8400\t8626\t8855\t9087\t9322\t9560\t\n",
      "9801\t10045\t10292\t10542\t10795\t11051\t11310\t11572\t11837\t12105\t\n",
      "12376\t12650\t12927\t13207\t13490\t13776\t14065\t14357\t14652\t14950\t\n"
     ]
    }
   ],
   "source": [
    "def getPentagonalNumber(n):\n",
    "    c = int(n * (3 * n - 1) / 2)\n",
    "    print(c,end = '\\t')\n",
    "    if n % 10 == 0:\n",
    "        print() \n",
    "\n",
    "for i in range(1,101):\n",
    "    getPentagonalNumber(i)"
   ]
  },
  {
   "cell_type": "markdown",
   "metadata": {},
   "source": [
    "## 2.计算一个整数各个数字的和"
   ]
  },
  {
   "cell_type": "code",
   "execution_count": 8,
   "metadata": {},
   "outputs": [
    {
     "name": "stdout",
     "output_type": "stream",
     "text": [
      "12\n"
     ]
    }
   ],
   "source": [
    "def sumDigits(n):\n",
    "    #str 将括号中的内容强制转换诶字符串\n",
    "    str_ = str(n)\n",
    "    int_ = 0\n",
    "    for i in str_:\n",
    "        int_ += int(i)\n",
    "    print(int_)\n",
    "\n",
    "sumDigits(345)"
   ]
  },
  {
   "cell_type": "markdown",
   "metadata": {},
   "source": [
    "## 3. 提醒用户输入三个整数，然后调用函数按升序显示三个数"
   ]
  },
  {
   "cell_type": "code",
   "execution_count": 5,
   "metadata": {},
   "outputs": [
    {
     "name": "stdout",
     "output_type": "stream",
     "text": [
      "请输入第一个整数：12\n",
      "请输入第二个整数：25\n",
      "请输入第三个整数：10\n",
      "10 12 25\n"
     ]
    }
   ],
   "source": [
    "a = int(input('请输入第一个整数：'))\n",
    "b = int(input('请输入第二个整数：'))\n",
    "c = int(input('请输入第三个整数：'))\n",
    "if a >  b > c:\n",
    "    print(c,b,a)\n",
    "elif a > c > b:\n",
    "    print(b, c, a)\n",
    "elif b > a > c:\n",
    "    print(c, a, b)\n",
    "elif b > c > a:\n",
    "    print(a, c, b)\n",
    "elif c > a > b:\n",
    "    print(b, a, c)\n",
    "else:\n",
    "    print(a, b, c)"
   ]
  },
  {
   "cell_type": "code",
   "execution_count": 9,
   "metadata": {},
   "outputs": [
    {
     "name": "stdout",
     "output_type": "stream",
     "text": [
      "[1, 2, 3]\n"
     ]
    }
   ],
   "source": [
    "def displaySortedNumbers(num1,num2,num3):\n",
    "    res = [num1,num2,num3]\n",
    "    res.sort()\n",
    "    print(res)\n",
    "\n",
    "displaySortedNumbers(3,2,1)"
   ]
  },
  {
   "cell_type": "markdown",
   "metadata": {},
   "source": [
    "## 4.编写一个程序提示用户输入投资额和百分比格式的年利率，然后输出一份表格显示年份从1到30年的未来值。"
   ]
  },
  {
   "cell_type": "code",
   "execution_count": 12,
   "metadata": {},
   "outputs": [
    {
     "name": "stdout",
     "output_type": "stream",
     "text": [
      "1 1050.0\t2 1050.0\t3 1050.0\t4 1050.0\t5 1050.0\t6 1050.0\t7 1050.0\t8 1050.0\t9 1050.0\t10 1050.0\t11 1050.0\t12 1050.0\t13 1050.0\t14 1050.0\t15 1050.0\t16 1050.0\t17 1050.0\t18 1050.0\t19 1050.0\t20 1050.0\t21 1050.0\t22 1050.0\t23 1050.0\t24 1050.0\t25 1050.0\t26 1050.0\t27 1050.0\t28 1050.0\t29 1050.0\t30 1050.0\t"
     ]
    }
   ],
   "source": [
    "def futureInvestmentValue(investmentAmount,monthlyInterestRate,years):\n",
    "    years = years + 1\n",
    "    for i in range(1,years):\n",
    "        value = investmentAmount + investmentAmount * monthlyInterestRate\n",
    "        print (i,value,end='\\t')\n",
    "\n",
    "futureInvestmentValue(1000,0.05,30)"
   ]
  },
  {
   "cell_type": "markdown",
   "metadata": {},
   "source": [
    "## 5.打印ch1到ch2之间的字符，按每行指定某个数来打印。编写一个测试程序，打印“1”到“Z”的字符，每行打印10个"
   ]
  },
  {
   "cell_type": "code",
   "execution_count": 33,
   "metadata": {},
   "outputs": [],
   "source": [
    "def printChar(ch1,ch2):\n",
    "    count = 0\n",
    "    #print(ord(\"1\"),ord(\"Z\"))\n",
    "    for i in range(49,91):\n",
    "        count += 1\n",
    "        if count % 10 != 0:\n",
    "            print(chr(i),end = '\\t')\n",
    "        else:\n",
    "            print(chr(i))"
   ]
  },
  {
   "cell_type": "code",
   "execution_count": 34,
   "metadata": {},
   "outputs": [
    {
     "name": "stdout",
     "output_type": "stream",
     "text": [
      "1\t2\t3\t4\t5\t6\t7\t8\t9\t:\n",
      ";\t<\t=\t>\t?\t@\tA\tB\tC\tD\n",
      "E\tF\tG\tH\tI\tJ\tK\tL\tM\tN\n",
      "O\tP\tQ\tR\tS\tT\tU\tV\tW\tX\n",
      "Y\tZ\t"
     ]
    }
   ],
   "source": [
    "printChar(1,2)"
   ]
  },
  {
   "cell_type": "markdown",
   "metadata": {},
   "source": [
    "## 编写一个程序测试，显示从2010年到2020年每年的天数"
   ]
  },
  {
   "cell_type": "code",
   "execution_count": 61,
   "metadata": {},
   "outputs": [],
   "source": [
    "# 6.显示从2010年到2020年每年的天数\n",
    "def numberOfDaysInAYear():\n",
    "    for i in range(2010,2021):\n",
    "        if i % 4 == 0 and i%100 != 0:\n",
    "            print(i , '年',':366天')\n",
    "        else:\n",
    "            print(i , '年',':365天')"
   ]
  },
  {
   "cell_type": "code",
   "execution_count": 62,
   "metadata": {},
   "outputs": [
    {
     "name": "stdout",
     "output_type": "stream",
     "text": [
      "2010 年 :365天\n",
      "2011 年 :365天\n",
      "2012 年 :366天\n",
      "2013 年 :365天\n",
      "2014 年 :365天\n",
      "2015 年 :365天\n",
      "2016 年 :366天\n",
      "2017 年 :365天\n",
      "2018 年 :365天\n",
      "2019 年 :365天\n",
      "2020 年 :366天\n"
     ]
    }
   ],
   "source": [
    "numberOfDaysInAYear()"
   ]
  },
  {
   "cell_type": "markdown",
   "metadata": {},
   "source": [
    "## 7.计算两点间距离"
   ]
  },
  {
   "cell_type": "code",
   "execution_count": 39,
   "metadata": {},
   "outputs": [
    {
     "name": "stdout",
     "output_type": "stream",
     "text": [
      "(3, 5)\n",
      "(2, 4)\n",
      "1.4142135623730951\n"
     ]
    }
   ],
   "source": [
    "from math import sqrt\n",
    "class Point(object):\n",
    "    def __init__(self, x=0, y=0):\n",
    "        \"\"\"\n",
    "        初始化方法\n",
    "        :param x: 横坐标\n",
    "        :param y: 纵坐标\n",
    "        \"\"\"\n",
    "        self.x = x\n",
    "        self.y = y\n",
    "    def distance_to(self, other):\n",
    "        \"\"\"\n",
    "        计算与另一个点的距离\n",
    "        :param other: 另一个点\n",
    "        \"\"\"\n",
    "        dx = self.x - other.x\n",
    "        dy = self.y - other.y\n",
    "        return sqrt(dx ** 2 + dy ** 2)\n",
    "    def __str__(self):\n",
    "        return '(%s, %s)' % (str(self.x), str(self.y))\n",
    "    \n",
    "p1 = Point(3,5)\n",
    "p2 = Point(2,4)\n",
    "print(p1)\n",
    "print(p2)\n",
    "print(p1.distance_to(p2))"
   ]
  },
  {
   "cell_type": "markdown",
   "metadata": {},
   "source": [
    "## 8.如果一个素数可以写成2**（P-1）的形式，其中p是某个正整数，那么这个数就被称作梅森素数。编写程序找出p<=31的梅森素数。"
   ]
  },
  {
   "cell_type": "code",
   "execution_count": 40,
   "metadata": {},
   "outputs": [
    {
     "name": "stdout",
     "output_type": "stream",
     "text": [
      "2 3\n",
      "3 7\n",
      "5 31\n",
      "7 127\n",
      "11 2047\n",
      "13 8191\n",
      "17 131071\n",
      "19 524287\n",
      "23 8388607\n",
      "29 536870911\n",
      "31 2147483647\n"
     ]
    }
   ],
   "source": [
    "def meisen(p):\n",
    "    q=pow(2,p)-1\n",
    "    m=2\n",
    "    if p==2:\n",
    "        print(p,q)\n",
    "    for i in range(2,p):\n",
    "        m=m+1\n",
    "        if p%i==0:\n",
    "            break\n",
    "        if m == p:\n",
    "            print(p,q)\n",
    "            \n",
    "for p in range(1,32):\n",
    "    meisen(p)"
   ]
  },
  {
   "cell_type": "markdown",
   "metadata": {},
   "source": [
    "## 9.调用time.time()返回1970年1月1日0点开始的毫秒数。"
   ]
  },
  {
   "cell_type": "code",
   "execution_count": 5,
   "metadata": {},
   "outputs": [
    {
     "name": "stdout",
     "output_type": "stream",
     "text": [
      "1565176503.8460948\n",
      "时间： 2019 年 8 月 7 日 19 : 15 : 3\n"
     ]
    }
   ],
   "source": [
    "import time\n",
    "print(time.time())\n",
    "\"\"\"\n",
    " time.localtime(time.time())输出结果为\n",
    " time.struct_time(tm_year=2019, tm_mon=8, \n",
    " tm_mday=6, tm_hour=19, tm_min=21, tm_sec=46, \n",
    " tm_wday=1, tm_yday=218, tm_isdst=0)\n",
    "\"\"\"\n",
    "time = time.localtime(time.time())\n",
    "print('时间：',time.tm_year,'年',time.tm_mon,'月',time.tm_mday,'日',time.tm_hour,':',time.tm_min,':',time.tm_sec)"
   ]
  },
  {
   "cell_type": "markdown",
   "metadata": {},
   "source": [
    "## 10.投色子"
   ]
  },
  {
   "cell_type": "code",
   "execution_count": 41,
   "metadata": {},
   "outputs": [
    {
     "name": "stdout",
     "output_type": "stream",
     "text": [
      "您第一次抛出的点数为: 5\n",
      "您第二次抛出的点数为: 6\n",
      "您抛出的两次点数之和为： 11\n",
      "你赢了！！！\n"
     ]
    }
   ],
   "source": [
    "import numpy as np\n",
    "def dianshu():\n",
    "    res1 = np.random.choice([1,2,3,4,5,6])\n",
    "    print(\"您第一次抛出的点数为:\",res1)\n",
    "    res2 = np.random.choice([1,2,3,4,5,6])\n",
    "    print(\"您第二次抛出的点数为:\",res2)\n",
    "    res = res1 + res2\n",
    "    print(\"您抛出的两次点数之和为：\",res)\n",
    "    return res\n",
    "res = dianshu()\n",
    "if res==2 or res==3 or res==12:\n",
    "    print(\"你输了！！！\")\n",
    "elif res==7 or res==11:\n",
    "    print(\"你赢了！！！\")\n",
    "else:\n",
    "    res3 = res\n",
    "    res = dianshu()\n",
    "    if res ==7 or res == res3:\n",
    "        print(\"你赢了！！！\")\n",
    "    else:\n",
    "        print(\"请开始下一局！\")"
   ]
  },
  {
   "cell_type": "code",
   "execution_count": null,
   "metadata": {},
   "outputs": [],
   "source": []
  }
 ],
 "metadata": {
  "kernelspec": {
   "display_name": "Python 3",
   "language": "python",
   "name": "python3"
  },
  "language_info": {
   "codemirror_mode": {
    "name": "ipython",
    "version": 3
   },
   "file_extension": ".py",
   "mimetype": "text/x-python",
   "name": "python",
   "nbconvert_exporter": "python",
   "pygments_lexer": "ipython3",
   "version": "3.7.3"
  }
 },
 "nbformat": 4,
 "nbformat_minor": 2
}
