{
 "cells": [
  {
   "cell_type": "markdown",
   "metadata": {},
   "source": [
    "## 静态方法\n",
    "如果类中需要非该类成员存在,则可以使用静态调用的方法@staticmethod"
   ]
  },
  {
   "cell_type": "code",
   "execution_count": 1,
   "metadata": {},
   "outputs": [],
   "source": [
    "\"\"\"\n",
    "输入四边形判断它是否是一个正方形\n",
    "如果是：计算面积\n",
    "@staticmethod\n",
    "\"\"\"\n",
    "class Square(object) :\n",
    "    def __init__(self,a,b,c,d):\n",
    "        self.a = a\n",
    "        self.b = b\n",
    "        self.c = c\n",
    "        self.d = d\n",
    "    @staticmethod\n",
    "    def is_valid(a,b,c,d):\n",
    "        for i in [b,c,d]:\n",
    "            if i !=a:\n",
    "                return False\n",
    "        else:\n",
    "            return True\n",
    "        \n",
    "    def area(self):\n",
    "        if res == True:\n",
    "            area_ = self.a * self.b\n",
    "            return area_\n",
    "            print(area_)\n",
    "        \n",
    "square = Square(3,3,3,3)\n",
    "res = square.is_valid(3,3,3,3)\n",
    "if res == True:\n",
    "    square.area()"
   ]
  },
  {
   "cell_type": "markdown",
   "metadata": {},
   "source": [
    "## 类\n",
    "@classmethod:获取自身类(cls)中的属性,并且可以更改.\n",
    "classmethod 修饰符对应的函数不需要实例化，不需要 self 参数，但第一个参数需要是表示自身类的 cls 参数，可以来调用类的属性，类的方法，实例化对象等"
   ]
  },
  {
   "cell_type": "code",
   "execution_count": 47,
   "metadata": {},
   "outputs": [
    {
     "name": "stdout",
     "output_type": "stream",
     "text": [
      "38\n"
     ]
    }
   ],
   "source": [
    "from time import time, localtime, sleep\n",
    "\n",
    "\n",
    "class Clock(object):\n",
    "    \"\"\"数字时钟\"\"\"\n",
    "\n",
    "    def __init__(self, hour=0, minute=0, second=0):\n",
    "        self._hour = hour\n",
    "        self._minute = minute\n",
    "        self._second = second\n",
    "\n",
    "    @classmethod\n",
    "    def now(cls):\n",
    "        ctime = localtime(time())\n",
    "        return cls(ctime.tm_hour, ctime.tm_min, ctime.tm_sec)\n",
    "    def show(self):\n",
    "        \"\"\"显示时间\"\"\"\n",
    "        return '%02d:%02d:%02d' % \\\n",
    "               (self._hour, self._minute, self._second)\n",
    "http://localhost:8888/notebooks/Desktop/python_%E8%BF%9B%E9%98%B6/python%2003.ipynb#%E7%BB%A7%E6%89%BF\n",
    "\n",
    "clock = Clock.now()\n",
    "print(clock._second)"
   ]
  },
  {
   "cell_type": "markdown",
   "metadata": {},
   "source": [
    "## 继承\n",
    "    私有变量不可以被继承\n",
    "    函数不可以被继承"
   ]
  },
  {
   "cell_type": "code",
   "execution_count": 44,
   "metadata": {},
   "outputs": [
    {
     "name": "stdout",
     "output_type": "stream",
     "text": [
      "300\n"
     ]
    }
   ],
   "source": [
    "class A(object):\n",
    "    def __init__(self):\n",
    "        self.a = 100\n",
    "        self.b = 200\n",
    "    def sum(self):\n",
    "        sum = self.a + self.b\n",
    "        return sum\n",
    "#在类名中写上继承的类\n",
    "class B(A):\n",
    "    # 这个init是B自身的\n",
    "    def __init__(self):\n",
    "        A.__init__(self) #super(A,self).__init()\n",
    "    def Print(self):\n",
    "        res = self.sum()\n",
    "        print(res)\n",
    "\n",
    "\n",
    "b_ = B()\n",
    "b_.Print()        "
   ]
  },
  {
   "cell_type": "markdown",
   "metadata": {},
   "source": [
    "## 创建python 的虚拟环境\n",
    "    1.conda create --name env_name python=3.7\n",
    "    2.conda activate env_name   进入\n",
    "    3.conda deactivate   退出\n",
    "    4.conda env list   查看虚拟环境\n",
    "    5.conda remove --name env_name 删除虚拟环境\n",
    "    6.pip freeze  查看当前环境自己的安装包"
   ]
  },
  {
   "cell_type": "markdown",
   "metadata": {},
   "source": [
    "\n",
    "# 列表生成式\n",
    "\n",
    "    a = [x for x in range(100000000000) if x % 2== 0]\n",
    "    优点: 计算速度快,因为一次性已经全部加载到内存中了\n",
    "    适合数据量不是太大的情况10000- 2000-\n",
    "    缺点: 占用内存\n",
    "\n",
    "# 列表生成器\n",
    "\n",
    "    a = (x for x in range(100000000000) if x % 2== 0)\n",
    "    优点: 节约内存空间\n",
    "    缺点: 计算速度慢,因为要生成."
   ]
  },
  {
   "cell_type": "code",
   "execution_count": 56,
   "metadata": {},
   "outputs": [
    {
     "name": "stdout",
     "output_type": "stream",
     "text": [
      "[0, 1, 2, 3, 4, 5, 6, 7, 8, 9]\n"
     ]
    }
   ],
   "source": [
    "# 列表生成式\n",
    "a = [x for x in range(10)]\n",
    "print(a)"
   ]
  },
  {
   "cell_type": "code",
   "execution_count": 58,
   "metadata": {},
   "outputs": [
    {
     "name": "stdout",
     "output_type": "stream",
     "text": [
      "0\n"
     ]
    }
   ],
   "source": [
    "# 列表生成器\n",
    "a = (x for x in range(10))\n",
    "print(next(a))"
   ]
  },
  {
   "cell_type": "markdown",
   "metadata": {},
   "source": [
    "## 装饰器"
   ]
  },
  {
   "cell_type": "code",
   "execution_count": 48,
   "metadata": {},
   "outputs": [
    {
     "name": "stdout",
     "output_type": "stream",
     "text": [
      "num1+num2= 3\n",
      "1 2\n"
     ]
    }
   ],
   "source": [
    "\"\"\"\n",
    "创建一个装饰器，三个函数（两个参数），\n",
    "装饰器处理这两个参数的和\n",
    "每个函数打印这两个数字\n",
    "\"\"\"\n",
    "def deco(func):\n",
    "    def warp(num1,num2):\n",
    "        print('num1+num2=',num1+num2)\n",
    "        return func(num1,num2)\n",
    "    return warp\n",
    "\n",
    "@deco\n",
    "def sum(num1,num2):\n",
    "    print(num1,num2)\n",
    "    \n",
    "sum(1,2)"
   ]
  },
  {
   "cell_type": "code",
   "execution_count": 55,
   "metadata": {},
   "outputs": [
    {
     "name": "stdout",
     "output_type": "stream",
     "text": [
      "9\n"
     ]
    }
   ],
   "source": [
    "\"\"\"\n",
    "装饰器将前面两个数字求和，函数本身第三个参数乘上这个和\n",
    "\"\"\"\n",
    "def deco(func):\n",
    "    def warp(num1,num2,num3):\n",
    "        num = num1 + num2\n",
    "        return func(0,num,num3)\n",
    "    return warp\n",
    "\n",
    "@deco\n",
    "def sum(num1,num2,num3):\n",
    "    print(num2 * num3)\n",
    "    \n",
    "sum(1,2,3)\n",
    "\n"
   ]
  },
  {
   "cell_type": "markdown",
   "metadata": {},
   "source": [
    "## 迭代器（生成器）"
   ]
  },
  {
   "cell_type": "code",
   "execution_count": 36,
   "metadata": {},
   "outputs": [
    {
     "name": "stdout",
     "output_type": "stream",
     "text": [
      "0\n",
      "1\n",
      "2\n",
      "3\n",
      "4\n",
      "\n",
      "Hello world\n"
     ]
    }
   ],
   "source": [
    "def A():\n",
    "    for i in range(5):\n",
    "        yield i # 将函数变成一个迭代器（生成器）\n",
    "        #print('hahaha')\n",
    "# 尝试执行try 中的代码，如果有错，则被except捕获，但是整个程序不会崩溃\n",
    "try:\n",
    "    a = A()\n",
    "    print(next(a))\n",
    "    print(next(a))\n",
    "    print(next(a))\n",
    "    print(next(a))\n",
    "    print(next(a))\n",
    "    print(next(a))\n",
    "except Exception as e:\n",
    "    print(e)\n",
    "print('Hello world')\n",
    "\n"
   ]
  },
  {
   "cell_type": "markdown",
   "metadata": {},
   "source": [
    "## 装饰器"
   ]
  },
  {
   "cell_type": "code",
   "execution_count": 33,
   "metadata": {},
   "outputs": [
    {
     "name": "stdout",
     "output_type": "stream",
     "text": [
      "warp\n",
      "hhh\n"
     ]
    }
   ],
   "source": [
    "def deco(func):\n",
    "    def warp(name1):\n",
    "        print('warp')\n",
    "        return func(name1) # joker(name1)\n",
    "    return warp\n",
    "\n",
    "@deco\n",
    "def joker(name):\n",
    "    print(name)\n",
    "    \n",
    "joker('hhh')"
   ]
  },
  {
   "cell_type": "code",
   "execution_count": 5,
   "metadata": {},
   "outputs": [
    {
     "name": "stdout",
     "output_type": "stream",
     "text": [
      "(1,)\n"
     ]
    }
   ],
   "source": [
    "# 不定长参数\n",
    "# *args\n",
    "# 位置传参\n",
    "def haha(*args):\n",
    "    print(args)\n",
    "    \n",
    "haha(1)"
   ]
  },
  {
   "cell_type": "code",
   "execution_count": 7,
   "metadata": {},
   "outputs": [
    {
     "name": "stdout",
     "output_type": "stream",
     "text": [
      "{'a': 1, 'b': 2, 'c': 3}\n"
     ]
    }
   ],
   "source": [
    "# 不定长参数\n",
    "# **args\n",
    "# 带参数名称传参\n",
    "def lala(**kwargs):\n",
    "    print(kwargs)\n",
    "    \n",
    "lala(a=1,b=2,c=3)"
   ]
  },
  {
   "cell_type": "code",
   "execution_count": 8,
   "metadata": {},
   "outputs": [
    {
     "name": "stdout",
     "output_type": "stream",
     "text": [
      "(1, 2, 3)\n",
      "{}\n",
      "()\n",
      "{'a': 1, 'b': 2, 'c': 3}\n"
     ]
    }
   ],
   "source": [
    "# *args 一定放在前面\n",
    "def lala(*args,**kwargs):\n",
    "    print(args)\n",
    "    print(kwargs)\n",
    "lala(1,2,3)    \n",
    "lala(a=1,b=2,c=3)"
   ]
  },
  {
   "cell_type": "code",
   "execution_count": 30,
   "metadata": {},
   "outputs": [
    {
     "name": "stdout",
     "output_type": "stream",
     "text": [
      "()\n",
      "{'name2': 'hahahaha'}\n",
      "10000\n",
      "(1,)\n",
      "{'name2': 100}\n",
      "今天天气真好\n",
      "1 10000\n"
     ]
    }
   ],
   "source": [
    "# 不带参数的装饰器\n",
    "def deco(func):\n",
    "    def warp(*args,**kwargs):\n",
    "        print(args)\n",
    "        print(kwargs)\n",
    "        kwargs['name2'] = 10000\n",
    "        return func(*args,**kwargs)\n",
    "    return warp\n",
    "\n",
    "@deco\n",
    "def joker(name2):\n",
    "    print(name2)\n",
    "\n",
    "joker(name2='hahahaha')\n",
    "\n",
    "@deco\n",
    "def joker2(name1,name2):\n",
    "    print('今天天气真好')\n",
    "    print(name1,name2)\n",
    "    \n",
    "joker2(1,name2=100)\n"
   ]
  },
  {
   "cell_type": "code",
   "execution_count": 29,
   "metadata": {},
   "outputs": [
    {
     "name": "stdout",
     "output_type": "stream",
     "text": [
      "1000\n",
      "()\n",
      "{'name2': 'hahahaha'}\n",
      "10000\n",
      "(1,)\n",
      "{'name2': 100}\n",
      "今天天气真好\n",
      "1 10000\n"
     ]
    }
   ],
   "source": [
    "# 带参数的装饰器\n",
    "def deco2(param):\n",
    "    print(param)\n",
    "    def deco(func):\n",
    "        def warp(*args,**kwargs):\n",
    "            print(args)\n",
    "            print(kwargs)\n",
    "            kwargs['name2'] = 10000\n",
    "            return func(*args,**kwargs)\n",
    "        return warp\n",
    "    return deco\n",
    "\n",
    "@deco2(1000)\n",
    "def joker(name2):\n",
    "    print(name2)\n",
    "\n",
    "joker(name2='hahahaha')\n",
    "\n",
    "@deco\n",
    "def joker2(name1,name2):\n",
    "    print('今天天气真好')\n",
    "    print(name1,name2)\n",
    "    \n",
    "joker2(1,name2=100)"
   ]
  },
  {
   "cell_type": "code",
   "execution_count": 37,
   "metadata": {},
   "outputs": [
    {
     "name": "stdout",
     "output_type": "stream",
     "text": [
      "页面详情\n",
      "页面详情\n",
      "页面详情\n",
      "页面详情\n",
      "页面详情\n",
      "404\n",
      "404\n",
      "404\n"
     ]
    }
   ],
   "source": [
    "\"\"\"\n",
    "钩子\n",
    "写三个页面：A,B,C\n",
    "去检测ip是否频繁访问，如果是则不予访问返回404.\n",
    "5秒钟之内访问十次\n",
    "####  全局变量\n",
    "\"\"\"\n",
    "def count(func):\n",
    "    def warp(*args,**kwargs):\n",
    "        num = kwargs['num']\n",
    "        if num > 4:\n",
    "            print('404')\n",
    "        else:\n",
    "            return func(*args,**kwargs)\n",
    "    return warp\n",
    "\n",
    "# from test1 import count\n",
    "\n",
    "@count\n",
    "def page_1(num):\n",
    "    print('页面详情')\n",
    "    #print('404')\n",
    "    \n",
    "if __name__ == '__main__':\n",
    "    for i in range(8):\n",
    "        page_1(num=i)"
   ]
  },
  {
   "cell_type": "code",
   "execution_count": null,
   "metadata": {},
   "outputs": [],
   "source": []
  },
  {
   "cell_type": "code",
   "execution_count": 4,
   "metadata": {},
   "outputs": [
    {
     "name": "stdout",
     "output_type": "stream",
     "text": [
      "0.15059757232666016\n"
     ]
    }
   ],
   "source": [
    "# 多进程的库\n",
    "from multiprocessing import Process\n",
    "from random import randint\n",
    "from time import time, sleep\n",
    "import os\n",
    "\n",
    "\n",
    "def download_task(filename):\n",
    "    print('开始下载%s' % filename)\n",
    "    time_to_download = randint(5, 10)\n",
    "    sleep(time_to_download)\n",
    "    print('%s 下载完成,经过%d秒' % (filename, time_to_download))\n",
    "\n",
    "\n",
    "def main():\n",
    "\n",
    "    start = time()\n",
    "    # 开启两个多进程，     函数名              传递的参数,需要注意的是,它接受的是一个元组(tuple)\n",
    "    p1 = Process(target=download_task, args=('论朱慧.mp4', ))\n",
    "    p2 = Process(target=download_task, args=('论计欣茹.mp5', ))\n",
    "    # 获取进程号\n",
    "\n",
    "    # 启动进程\n",
    "    p1.start()\n",
    "    p2.start()\n",
    "\n",
    "    ##############\n",
    "    # 进程阻塞.\n",
    "    p1.join()\n",
    "    p2.join()\n",
    "    ##############\n",
    "    end = time()\n",
    "    print(end - start)\n",
    "\n",
    "\n",
    "if __name__ == '__main__':\n",
    "    main()"
   ]
  },
  {
   "cell_type": "code",
   "execution_count": 2,
   "metadata": {},
   "outputs": [
    {
     "name": "stdout",
     "output_type": "stream",
     "text": [
      "<!DOCTYPE html PUBLIC \"-//W3C//DTD XHTML 1.0 Transitional//EN\" \"http://www.w3.org/TR/xhtml1/DTD/xhtml1-transitional.dtd\">\r\n",
      "<html xmlns=\"http://www.w3.org/1999/xhtml\">\r\n",
      "<head>\r\n",
      "<meta http-equiv=\"Cache-Control\" content=\"no-transform\"> \r\n",
      "<meta name=\"applicable-device\" content=\"pc\"> \r\n",
      "<meta http-equiv=\"Cache-Control\" content=\"no-siteapp\" />\r\n",
      "<meta http-equiv=\"Content-Type\" content=\"text/html; charset=gb2312\" />\r\n",
      "<title>海贼王美图_海贼王壁纸_海贼王中文网</title>\r\n",
      "<base href=\"http://op.hanhande.net/\"/>\r\n",
      "<meta name=\"description\" content=\"海贼王相关最全最新的网站，提供海贼王美图是全球最大的海贼王漫画中文网站\">\r\n",
      "<meta name=\"keywords\" content=\"海贼王美图,海贼王图片,海贼王壁纸\" />\r\n",
      "<meta name=\"author\" content=\"hanhande\" />\r\n",
      "<meta name=\"Copyright\" content=\"www.hanhande.net\" />\r\n",
      "<script language=\"javascript\" src=\"http://m.hanhande.net/files/js/jquery-1.4.2.min.js\"></script>\r\n",
      "<link rel=\"stylesheet\" href=\"opfiles/css/index.css\" type=\"text/css\" media=\"screen\" />\r\n",
      "</head>\r\n",
      "<body>\r\n",
      "<!--网站通用顶部-->\r\n",
      "<link rel=\"stylesheet\" href=\"/style/daohang/css/base.css\" type=\"text/css\" />\r\n",
      "<!--<script language=\"javascript\" src=\"http://sishen.hanhande.net/style/jquery-1.11.0.min.js\"></script>-->\r\n",
      "<script language=\"javascript\">\r\n",
      "$(function(){\r\n",
      "\t$('#barbox li').hover(function(){\r\n",
      "\t\tvar index=$(this).index()+1;\r\n",
      "\t\t$(this).children('div').show();\r\n",
      "\t\t$(this).children('code').children('a').addClass('daoh_no'+index);\r\n",
      "\t},function(){\r\n",
      "\t\tvar index=$(this).index()+1;\r\n",
      "\t\t$(this).children('div').hide();\r\n",
      "\t\t$(this).children('code').children('a').removeClass();\t\r\n",
      "\t});\r\n",
      "\tsetTimeout(function(){\r\n",
      "\tif($('em.uc_uname').width()>120){$('em.uc_uname').width(120);}\r\n",
      "\t},2000);\r\n",
      "})\r\n",
      "</script>\r\n",
      "\r\n",
      "<!--网站通用顶部-->\r\n",
      "<div id=\"newbarbox\">\r\n",
      "\t<div id=\"newbar\">\r\n",
      "\t\t<div id=\"barbox\">\r\n",
      "    \t\t<h3><a href=\"http://www.hanhande.net/\" target=\"_blank\">动画片大全</a></h3>\r\n",
      "            <span><a href=\"http://huoying.hanhande.net/\" target=\"_blank\">火影忍者</a>  <a href=\"http://op.hanhande.net/\" target=\"_blank\">海贼王</a><a href=\"http://www.hanhande.net/donghua-6-0-0-0-0-0-0-0-1.shtml\" target=\"_blank\">好看的电影</a><a href=\"http://www.hanhande.net/donghua-7-0-0-0-0-0-0-0-1.shtml\" target=\"_blank\">好看的电视剧</a></a> <a href=\"http://www.hanhande.net/taglist/feedback.php\" target=\"_blank\"><strong><font color=\"#FF0000\">建议/求片</font></strong></a></span>\r\n",
      " \t\t\t<!--<ul>\r\n",
      "           <li class=\"no1\">\r\n",
      "            <code><a href=\"http://www.hanhande.net/\" target=\"_blank\">更多动漫</a></code>\r\n",
      "            <div id=\"barbox_no1\">\r\n",
      "    \t<a href=\"http://comic.hanhande.net/\" target=\"_blank\">动漫频道</a>\r\n",
      "      \t<a href=\"http://sishen.hanhande.net/\" target=\"_blank\">死神</a>\r\n",
      "           \t<a href=\"http://ft.hanhande.net/\" target=\"_blank\">妖精的尾巴</a>\r\n",
      "\t\t\t<a href=\"http://ms.hanhande.net/\" target=\"_blank\">美食的俘虏</a>\r\n",
      "\t\t\t\r\n",
      "                        <a href=\"http://lz.hanhande.net/\" target=\"_blank\">龙珠超</a>\r\n",
      "\t\t\t<a href=\"http://heizi.hanhande.net/\" target=\"_blank\">黑子的篮球</a>\r\n",
      "\t\t\t<a href=\"http://yinhun.hanhande.net/\" target=\"_blank\">银魂</a>\r\n",
      "\t\t\t<a href=\"http://conan.hanhande.net/\" target=\"_blank\">名侦探柯南</a>\r\n",
      "<a href=\"http://glgs.hanhande.net/\" target=\"_blank\">灌篮高手</a>\r\n",
      "<a href=\"http://yinzhishi.hanhande.net/\" target=\"_blank\">银之匙</a>\r\n",
      "<a href=\"http://wqwz.hanhande.net/\" target=\"_blank\">网球王子</a>\r\n",
      "<a href=\"http://pqsn.hanhande.net/\" target=\"_blank\">排球少年</a>\r\n",
      "<a href=\"http://sdsxs.hanhande.net/\" target=\"_blank\">圣斗士星矢</a>\r\n",
      "<a href=\"http://magi.hanhande.net/\" target=\"_blank\">魔笛magi</a>\r\n",
      "<a href=\"http://bz.hanhande.net/\" target=\"_blank\">恶魔奶爸</a>\r\n",
      "\r\n",
      "            </div>\r\n",
      "            </li>\r\n",
      "            </ul>-->\r\n",
      "    \t</div>\r\n",
      "    </div>\r\n",
      "</div>\r\n",
      "<!--网站通用结束-->\r\n",
      "<!--APP推广-->\r\n",
      "<a href=\"https://bengou.app/\" target=\"_blank\" id=\"down_app\" style=\"font-size:41.4px;margin-bottom: 60px;\">   <img data-src=\"/style/files/pic/bg_web_banner.png\" src=\"/style/files/pic/bg_web_banner.png\" style=\"width: 100%\">    </a>\r\n",
      "<!--网站通用结束-->\r\n",
      "<div class=\"warp\" style=\"position:relative; z-index:11\">\r\n",
      "<a href=\"#\" target=\"_blank\" id=\"bg_link\"></a>\r\n",
      " \r\n",
      "\r\n",
      "<div class=\"wrap\" style=\"position: relative; z-index:999;\">\r\n",
      "<div id=\"header\">\r\n",
      "   \t<div class=\"headbox\">\r\n",
      "<div style=\"display:none\"><a style=\"color:#f00\" target=\"_blank\" href=\"http://op.hanhande.net/\">海贼王漫画中文网，海贼王爱好者交流乐园！</a></div>\r\n",
      "    \t<div class=\"newstop\">\r\n",
      "<a href=\"http://www.hanhande.net/donghua/\" target=\"_blank\" rel=\"nofollow\">动画大全</a> | <a href=\"http://huoying.hanhande.net/\" target=\"_blank\" rel=\"nofollow\">火影忍者</a> | <a href=\"http://www.hanhande.net/donghua/jinjidejurener/\" target=\"_blank\" rel=\"nofollow\">进击的巨人第二季</a> | <a href=\"http://op.hanhande.net/\" target=\"_blank\">海贼王</a> | <a href=\"http://sishen.hanhande.net/\" target=\"_blank\" rel=\"nofollow\">死神</a>  | <a href=\"http://heizi.hanhande.net/\" target=\"_blank\" rel=\"nofollow\">黑子的篮球</a> | <a href=\"http://www.hanhande.net/donghua/anshajiaoshier/\" target=\"_blank\" rel=\"nofollow\">暗杀教室第二季</a> | <a href=\"http://www.hanhande.net/donghua/wodeyingxiongxueyuan/\" target=\"_blank\" rel=\"nofollow\">我的英雄学院第二季</a> | <a href=\"http://www.hanhande.net/donghua/quanzhigaoshou/\" target=\"_blank\" rel=\"nofollow\">全职高手</a>|<a href=\"http://ms.hanhande.net/\" target=\"_blank\" rel=\"nofollow\">美食的俘虏</a>\r\n",
      "\r\n",
      "</div>\r\n",
      "    \t<div class=\"top_nav\"></div>\r\n",
      "    </div>\r\n",
      "    <div><img src=\"opfiles/images/head2.jpg\" /></div>\r\n",
      "    <div><img src=\"opfiles/images/head3.jpg\" /></div>\r\n",
      "\r\n",
      "\r\n",
      "     <ul class=\"menu\">\r\n",
      "    \t<li><a href=\"http://op.hanhande.net/\" target=\"_blank\">海贼王中文网</a></li>\r\n",
      "        <li><a href=\"http://www.hanhande.net/donghua/op/\" target=\"_blank\">海贼王全集</a></li>\r\n",
      "<li><a href=\"http://www.hanhande.net/manhua/op/\" target=\"_blank\">海贼王漫画</a></li>\r\n",
      "        <li><a href=\"http://op.hanhande.net/shtml/20131017/5752912.shtml\" target=\"_blank\" >海贼王动画下载</a></li>\r\n",
      "        <li><a href=\"http://www.hanhande.net/donghua/donghua_10938/\" target=\"_blank\" rel=\"nofollow\">剧场版</a></li>\r\n",
      "        <li><a href=\"http://op.hanhande.net/ziliao/\" target=\"_blank\">资料</a></li>\r\n",
      "        <li><a href=\"http://op.hanhande.net/shtml/meitu.shtml\" target=\"_blank\">图片</a></li>\r\n",
      "        <li><a href=\"http://op.hanhande.net/shtml/qingbao.shtml\" target=\"_blank\">情报</a></li> \r\n",
      " \r\n",
      "               <li><a href=\"http://op.hanhande.net/shtml/fenxi.shtml\" target=\"_blank\" >分析</a></li>\r\n",
      " <li><a href=\"http://op.hanhande.net/zt/\" target=\"_blank\" >专题</a></li>\r\n",
      "       <li><a href=\"http://www.hanhande.net/donghua-7-0-0-0-0-0-0-0-1.shtml\" target=\"_blank\" rel=\"nofollow\"><font color=\"#0000\">电视剧</font></a></li>\r\n",
      " <li><a href=\"http://www.hanhande.net/donghua/\" target=\"_blank\" rel=\"nofollow\" >动画片大全</a></li>\r\n",
      "    </ul>\r\n",
      "    <div class=\"nav cc\">\r\n",
      "    \t<dl>\r\n",
      "        \t<dt>\r\n",
      "            \t<ul>\r\n",
      "                \t<li><a href=\"http://www.hanhande.net/donghua/xblzqkp/\" target=\"_blank\">雄兵连乾坤篇</a>全集观看</li>\r\n",
      "                    <li> <a href=\"http://www.hanhande.net/donghua/douluodalu/\" target=\"_blank\" rel=\"nofollow\">斗罗大陆</a>免费在线观看</li>\r\n",
      "                   <li><a href=\"http://www.hanhande.net/donghua/wugengjier/\" target=\"_blank\" rel=\"nofollow\">武庚纪第二季</a>第16集</li>\r\n",
      "                    <li>  <a href=\"http://www.hanhande.net/donghua/lingqier/\" target=\"_blank\" rel=\"nofollow\">灵契黄泉之契</a>最新更新</li>\r\n",
      "                    <li>  <a href=\"http://www.hanhande.net/donghua/mingyunzhimen0/\" target=\"_blank\">命运石之门0</a>免费观看</li>\r\n",
      "                    <li> <a href=\"http://www.hanhande.net/donghua/wdyxxydsj/\" target=\"_blank\" rel=\"nofollow\">我的英雄学院第三季</a>在线观看</li>\r\n",
      "                    <li>  <a href=\"http://www.hanhande.net/donghua/zuirenyulong/\" target=\"_blank\" rel=\"nofollow\">罪人与龙共舞</a>免费在线</li>\r\n",
      "                    <li><a href=\"http://www.hanhande.net/donghua/djsywz/\" target=\"_blank\" rel=\"nofollow\">刀剑神域外传</a></li>\r\n",
      "                    \r\n",
      "                </ul>\r\n",
      "            </dt>\r\n",
      "            <dd class=\"search\">\r\n",
      "            \t<div class=\"tips\">\r\n",
      "                \t<a href=\"http://www.hanhande.net/taglist/feedback.php\" class=\"tips1\" rel=\"nofollow\">留言你想看的内容</a>\r\n",
      "                    <a href=\"http://op.hanhande.net/zx/qun/\" class=\"tips2\" rel=\"nofollow\">海贼王QQ群</a>\r\n",
      "                   <!-- <a href=\"http://t.qq.com/ai52pk\" class=\"tips3\" rel=\"nofollow\">收听海贼王</a>\r\n",
      "               --> </div>\r\n",
      "<form action=\"http://so.hanhande.net/cse/search\" method=\"get\" target=\"_blank\" >\r\n",
      "    <input type=\"hidden\" name=\"s\" value=\"8566205600331331389\">\r\n",
      "    <input type=\"hidden\" name=\"ie\" value=\"gbk\">\r\n",
      "    <input class=\"input1\" type=\"text\" name=\"q\">\r\n",
      "    <input type=\"submit\" class=\"btn1\" name=\"searchsubmit\" value=\"\">\r\n",
      "</form>\r\n",
      "</dd>\r\n",
      "        </dl>\r\n",
      "        <div><img src=\"opfiles/images/bt3.jpg\" /></div>\r\n",
      "        <div class=\"cl\"></div>\r\n",
      "        <div class=\"label\">\r\n",
      "        \t<div class=\"\"><img src=\"opfiles/images/top2.jpg\" /></div>\r\n",
      "            <div class=\"labelbox\">\r\n",
      "        \t<b>热门标签：</b>\r\n",
      "            <a href=\"http://op.hanhande.net/ziliao/349214.shtml\" target=\"_blank\">海贼王</a> \r\n",
      "            <a href=\"http://op.hanhande.net/shtml/20180402/7068887.shtml\" target=\"_blank\">海贼王831集更新 </a>  <a href=\"http://www.hanhande.net/manhua/op/1157980.shtml\" target=\"_blank\">海贼王第900话</a>  <a href=\"http://www.hanhande.net/donghua/op/\" target=\"_blank\" rel=\"nofollow\">海贼王动画</a>  <a href=\"http://www.hanhande.net/donghua/donghua_10938/\" target=\"_blank\" rel=\"nofollow\">海贼王剧场版</a>  <a href=\"http://www.hanhande.net/tv/7068112.shtml\" target=\"_blank\" rel=\"nofollow\">2018年4月新番合集</a> <a href=\"http://op.hanhande.net/zt/\" target=\"_blank\" >海贼王专题</a>  <a href=\"http://op.hanhande.net/shtml/qingbao.shtml\" target=\"_blank\">海贼王最新情报分析</a> <a href=\"http://op.hanhande.net/\" target=\"_blank\">海贼王全集</a></div>\r\n",
      "            <div class=\"lt\"><img src=\"opfiles/images/bt3.jpg\" /></div>\r\n",
      "        </div>\r\n",
      "    </div>\r\n",
      "</div>\r\n",
      "<div class=\"cl\"></div>\r\n",
      "<div id=\"main\" class=\"cc\">\r\n",
      "\t<div style=\"margin-top:10px;\">\r\n",
      "<script language=\"javascript\" src=\"http://www.hanhande.net/style/m1.js\"></script>\r\n",
      "</div>\r\n",
      "        <div class=\"content mt10\">\r\n",
      "        \t<div class=\"tt2\"><span><a href=\"http://op.hanhande.net/\" target=\"_blank\">+更多</a></span><a href='http://op.hanhande.net/'>海贼王</a> > <a href='http://op.hanhande.net/shtml/op_wz.shtml'>文章</a> > <a href='http://op.hanhande.net/shtml/meitu.shtml'>美图</a> > </div>\r\n",
      "            <div class=\"show listbox cc\">\r\n",
      "            \t<div><h2>海贼王  /  文章  /  美图</h2></div>\r\n",
      "                <ul class=\"spic pic1\">\r\n",
      "                \t\r\n",
      "                    <li><a href='http://op.hanhande.net/shtml/20170203/7037217.shtml' title='海贼王东京OP塔官网宣传图'><img src='http://www.hanhande.net/upload/litimg/170203/11102T1R5915645.png' border='0' width='120px' height='100px' alt='海贼王东京OP塔官网宣传图'></a><p><a href='http://op.hanhande.net/shtml/20170203/7037217.shtml' title='海贼王东京OP塔官网宣传图' target='_blank'>海贼王东京OP塔官网宣传图</a></p></li><li><a href='http://op.hanhande.net/shtml/20170201/7037168.shtml' title='海贼王写实版无水印头像'><img src='http://www.hanhande.net/upload/litimg/170201/09132541R591N29.png' border='0' width='120px' height='100px' alt='海贼王写实版无水印头像'></a><p><a href='http://op.hanhande.net/shtml/20170201/7037168.shtml' title='海贼王写实版无水印头像' target='_blank'>海贼王写实版无水印头像</a></p></li><li><a href='http://op.hanhande.net/shtml/20170201/7037167.shtml' title='海贼王宽屏桌面壁纸'><img src='http://www.hanhande.net/upload/litimg/170201/09112141R5916319.png' border='0' width='120px' height='100px' alt='海贼王宽屏桌面壁纸'></a><p><a href='http://op.hanhande.net/shtml/20170201/7037167.shtml' title='海贼王宽屏桌面壁纸' target='_blank'>海贼王宽屏桌面壁纸</a></p></li><li><a href='http://op.hanhande.net/shtml/20170131/7037149.shtml' title='罗小黑cos草帽一伙'><img src='http://www.hanhande.net/upload/litimg/170131/193Z941R6021b6.jpg' border='0' width='120px' height='100px' alt='罗小黑cos草帽一伙'></a><p><a href='http://op.hanhande.net/shtml/20170131/7037149.shtml' title='罗小黑cos草帽一伙' target='_blank'>罗小黑cos草帽一伙</a></p></li><li><a href='http://op.hanhande.net/shtml/20170130/7037136.shtml' title='有一种兄弟叫艾斯同人图集'><img src='http://www.hanhande.net/upload/litimg/170130/22332141R6024X0.jpg' border='0' width='120px' height='100px' alt='有一种兄弟叫艾斯同人图集'></a><p><a href='http://op.hanhande.net/shtml/20170130/7037136.shtml' title='有一种兄弟叫艾斯同人图集' target='_blank'>有一种兄弟叫艾斯同人图集</a></p></li><li><a href='http://op.hanhande.net/shtml/20170130/7037135.shtml' title='海贼王一组黑白头像手机壁纸'><img src='http://www.hanhande.net/upload/litimg/170130/22294541R6029149.jpg' border='0' width='120px' height='100px' alt='海贼王一组黑白头像手机壁纸'></a><p><a href='http://op.hanhande.net/shtml/20170130/7037135.shtml' title='海贼王一组黑白头像手机壁纸' target='_blank'>海贼王一组黑白头像手机壁纸</a></p></li><li><a href='http://op.hanhande.net/shtml/20170125/7037062.shtml' title='Thousand Storm游戏图鉴里的一组娜美'><img src='http://www.hanhande.net/upload/litimg/170125/091J212S5D4632.png' border='0' width='120px' height='100px' alt='Thousand Storm游戏图鉴里的一组娜美'></a><p><a href='http://op.hanhande.net/shtml/20170125/7037062.shtml' title='Thousand Storm游戏图鉴里的一组娜美' target='_blank'>Thousand Storm游戏图鉴里的一组娜美</a></p></li><li><a href='http://op.hanhande.net/shtml/20170125/7037061.shtml' title='日本东京塔海贼王主题乐园'><img src='http://www.hanhande.net/upload/litimg/170125/09140312S5D1624.png' border='0' width='120px' height='100px' alt='日本东京塔海贼王主题乐园'></a><p><a href='http://op.hanhande.net/shtml/20170125/7037061.shtml' title='日本东京塔海贼王主题乐园' target='_blank'>日本东京塔海贼王主题乐园</a></p></li><li><a href='http://op.hanhande.net/shtml/20170124/7036959.shtml' title='汤主yuushishio创作的海贼20周年人物像'><img src='http://www.hanhande.net/upload/litimg/170124/101QG2S5D94H.png' border='0' width='120px' height='100px' alt='汤主yuushishio创作的海贼20周年人物像'></a><p><a href='http://op.hanhande.net/shtml/20170124/7036959.shtml' title='汤主yuushishio创作的海贼20周年人物像' target='_blank'>汤主yuushishio创作的海贼20周年人物像</a></p></li><li><a href='http://op.hanhande.net/shtml/20170122/7036666.shtml' title='人的梦想永远不会结束'><img src='http://www.hanhande.net/upload/litimg/170122/104P012S5D3221.png' border='0' width='120px' height='100px' alt='人的梦想永远不会结束'></a><p><a href='http://op.hanhande.net/shtml/20170122/7036666.shtml' title='人的梦想永远不会结束' target='_blank'>人的梦想永远不会结束</a></p></li><li><a href='http://op.hanhande.net/shtml/20170120/7036579.shtml' title='好温情的三人行'><img src='http://www.hanhande.net/upload/litimg/170120/094SG2S5DA28.png' border='0' width='120px' height='100px' alt='好温情的三人行'></a><p><a href='http://op.hanhande.net/shtml/20170120/7036579.shtml' title='好温情的三人行' target='_blank'>好温情的三人行</a></p></li><li><a href='http://op.hanhande.net/shtml/20170119/7036424.shtml' title='草帽海贼团幼年向'><img src='http://www.hanhande.net/upload/litimg/170119/09463212S5D5423.png' border='0' width='120px' height='100px' alt='草帽海贼团幼年向'></a><p><a href='http://op.hanhande.net/shtml/20170119/7036424.shtml' title='草帽海贼团幼年向' target='_blank'>草帽海贼团幼年向</a></p></li><li><a href='http://op.hanhande.net/shtml/20170118/7036285.shtml' title='海贼王官网情报之女帝汉库克美图'><img src='http://www.hanhande.net/upload/litimg/170118/10344112S5D3549.png' border='0' width='120px' height='100px' alt='海贼王官网情报之女帝汉库克美图'></a><p><a href='http://op.hanhande.net/shtml/20170118/7036285.shtml' title='海贼王官网情报之女帝汉库克美图' target='_blank'>海贼王官网情报之女帝汉库克美图</a></p></li><li><a href='http://op.hanhande.net/shtml/20170118/7036275.shtml' title='海贼王动漫人物漫画创意桌面壁纸'><img src='http://www.hanhande.net/upload/litimg/170118/101R112S5D6203.png' border='0' width='120px' height='100px' alt='海贼王动漫人物漫画创意桌面壁纸'></a><p><a href='http://op.hanhande.net/shtml/20170118/7036275.shtml' title='海贼王动漫人物漫画创意桌面壁纸' target='_blank'>海贼王动漫人物漫画创意桌面壁纸</a></p></li><li><a href='http://op.hanhande.net/shtml/20170117/7036127.shtml' title='海贼王悬赏金创意3D画'><img src='http://www.hanhande.net/upload/litimg/170117/10254212S5D1X9.png' border='0' width='120px' height='100px' alt='海贼王悬赏金创意3D画'></a><p><a href='http://op.hanhande.net/shtml/20170117/7036127.shtml' title='海贼王悬赏金创意3D画' target='_blank'>海贼王悬赏金创意3D画</a></p></li><li><a href='http://op.hanhande.net/shtml/20170112/7035674.shtml' title='海贼王这系列太毒了'><img src='http://www.hanhande.net/upload/litimg/170112/10531112S5D6153.png' border='0' width='120px' height='100px' alt='海贼王这系列太毒了'></a><p><a href='http://op.hanhande.net/shtml/20170112/7035674.shtml' title='海贼王这系列太毒了' target='_blank'>海贼王这系列太毒了</a></p></li><li><a href='http://op.hanhande.net/shtml/20170110/7035339.shtml' title='这暧昧的感觉是什么鬼'><img src='http://www.hanhande.net/upload/litimg/170110/10502112S5DI96.png' border='0' width='120px' height='100px' alt='这暧昧的感觉是什么鬼'></a><p><a href='http://op.hanhande.net/shtml/20170110/7035339.shtml' title='这暧昧的感觉是什么鬼' target='_blank'>这暧昧的感觉是什么鬼</a></p></li><li><a href='http://op.hanhande.net/shtml/20170105/7034862.shtml' title='日站onep的画师anecan创作出《ONEPIECE FILM Z》'><img src='http://www.hanhande.net/upload/litimg/170105/10351512S5D9258.png' border='0' width='120px' height='100px' alt='日站onep的画师anecan创作出《ONEPIECE FILM Z》'></a><p><a href='http://op.hanhande.net/shtml/20170105/7034862.shtml' title='日站onep的画师anecan创作出《ONEPIECE FILM Z》' target='_blank'>日站onep的画师anecan创作出《ONEPIECE FILM Z》</a></p></li><li><a href='http://op.hanhande.net/shtml/20170103/7034514.shtml' title='海贼王2017年彩页日历'><img src='http://www.hanhande.net/upload/litimg/170103/103Q412S5DGH.png' border='0' width='120px' height='100px' alt='海贼王2017年彩页日历'></a><p><a href='http://op.hanhande.net/shtml/20170103/7034514.shtml' title='海贼王2017年彩页日历' target='_blank'>海贼王2017年彩页日历</a></p></li><li><a href='http://op.hanhande.net/shtml/20161226/7033615.shtml' title='我是要成为鸟贼王的男人！'><img src='http://www.hanhande.net/upload/litimg/161226/10320G2S5DYW.png' border='0' width='120px' height='100px' alt='我是要成为鸟贼王的男人！'></a><p><a href='http://op.hanhande.net/shtml/20161226/7033615.shtml' title='我是要成为鸟贼王的男人！' target='_blank'>我是要成为鸟贼王的男人！</a></p></li><li><a href='http://op.hanhande.net/shtml/20161222/7033312.shtml' title='one piece film gold 文件夹'><img src='http://www.hanhande.net/upload/litimg/161222/10514112S5DT10.png' border='0' width='120px' height='100px' alt='one piece film gold 文件夹'></a><p><a href='http://op.hanhande.net/shtml/20161222/7033312.shtml' title='one piece film gold 文件夹' target='_blank'>one piece film gold 文件夹</a></p></li><li><a href='http://op.hanhande.net/shtml/20161222/7033311.shtml' title='海贼王官图分享'><img src='http://www.hanhande.net/upload/litimg/161222/10464412S5D9595.png' border='0' width='120px' height='100px' alt='海贼王官图分享'></a><p><a href='http://op.hanhande.net/shtml/20161222/7033311.shtml' title='海贼王官图分享' target='_blank'>海贼王官图分享</a></p></li><li><a href='http://op.hanhande.net/shtml/20161216/7032706.shtml' title='海贼王精美壁纸分享'><img src='http://www.hanhande.net/upload/litimg/161216/11263312S5D24a.png' border='0' width='120px' height='100px' alt='海贼王精美壁纸分享'></a><p><a href='http://op.hanhande.net/shtml/20161216/7032706.shtml' title='海贼王精美壁纸分享' target='_blank'>海贼王精美壁纸分享</a></p></li><li><a href='http://op.hanhande.net/shtml/20161215/7032510.shtml' title='海贼王豪华圣诞套餐'><img src='http://www.hanhande.net/upload/litimg/161215/09541412S5DT37.png' border='0' width='120px' height='100px' alt='海贼王豪华圣诞套餐'></a><p><a href='http://op.hanhande.net/shtml/20161215/7032510.shtml' title='海贼王豪华圣诞套餐' target='_blank'>海贼王豪华圣诞套餐</a></p></li><li><a href='http://op.hanhande.net/shtml/20161212/7032001.shtml' title='海贼王极恶的世代-麦わら海賊団'><img src='http://www.hanhande.net/upload/litimg/161212/09161Q2S5D1035.png' border='0' width='120px' height='100px' alt='海贼王极恶的世代-麦わら海賊団'></a><p><a href='http://op.hanhande.net/shtml/20161212/7032001.shtml' title='海贼王极恶的世代-麦わら海賊団' target='_blank'>海贼王极恶的世代-麦わら海賊団</a></p></li><li><a href='http://op.hanhande.net/shtml/20161209/7031878.shtml' title='草帽九人前篇过场动态图'><img src='http://www.hanhande.net/upload/litimg/161209/10210912S5DQC.gif' border='0' width='120px' height='100px' alt='草帽九人前篇过场动态图'></a><p><a href='http://op.hanhande.net/shtml/20161209/7031878.shtml' title='草帽九人前篇过场动态图' target='_blank'>草帽九人前篇过场动态图</a></p></li><li><a href='http://op.hanhande.net/shtml/20161208/7031749.shtml' title='可达鸭版海贼王'><img src='http://www.hanhande.net/upload/litimg/161208/102FG2S5D2436.png' border='0' width='120px' height='100px' alt='可达鸭版海贼王'></a><p><a href='http://op.hanhande.net/shtml/20161208/7031749.shtml' title='可达鸭版海贼王' target='_blank'>可达鸭版海贼王</a></p></li><li><a href='http://op.hanhande.net/shtml/20161130/7031306.shtml' title='草帽海贼团套图鉴赏'><img src='http://www.hanhande.net/upload/litimg/161130/11242Q2S5DQ05.png' border='0' width='120px' height='100px' alt='草帽海贼团套图鉴赏'></a><p><a href='http://op.hanhande.net/shtml/20161130/7031306.shtml' title='草帽海贼团套图鉴赏' target='_blank'>草帽海贼团套图鉴赏</a></p></li><li><a href='http://op.hanhande.net/shtml/20161129/7031230.shtml' title='海贼王角色性转收集'><img src='http://www.hanhande.net/upload/litimg/161129/11102Q2S5D1124.png' border='0' width='120px' height='100px' alt='海贼王角色性转收集'></a><p><a href='http://op.hanhande.net/shtml/20161129/7031230.shtml' title='海贼王角色性转收集' target='_blank'>海贼王角色性转收集</a></p></li><li><a href='http://op.hanhande.net/shtml/20161129/7031226.shtml' title='王下七武海3d立体美图'><img src='http://www.hanhande.net/upload/litimg/161129/11044212S5D3239.gif' border='0' width='120px' height='100px' alt='王下七武海3d立体美图'></a><p><a href='http://op.hanhande.net/shtml/20161129/7031226.shtml' title='王下七武海3d立体美图' target='_blank'>王下七武海3d立体美图</a></p></li><li><a href='http://op.hanhande.net/shtml/20161121/7030804.shtml' title='海贼三兄弟性转美图壁纸'><img src='http://www.hanhande.net/upload/litimg/161121/10155212S5D5N5.png' border='0' width='120px' height='100px' alt='海贼三兄弟性转美图壁纸'></a><p><a href='http://op.hanhande.net/shtml/20161121/7030804.shtml' title='海贼三兄弟性转美图壁纸' target='_blank'>海贼三兄弟性转美图壁纸</a></p></li><li><a href='http://op.hanhande.net/shtml/20161117/7030664.shtml' title='海贼王onepiece原创手绘壁纸'><img src='http://www.hanhande.net/upload/litimg/161117/13441Q2S5D6140.png' border='0' width='120px' height='100px' alt='海贼王onepiece原创手绘壁纸'></a><p><a href='http://op.hanhande.net/shtml/20161117/7030664.shtml' title='海贼王onepiece原创手绘壁纸' target='_blank'>海贼王onepiece原创手绘壁纸</a></p></li><li><a href='http://op.hanhande.net/shtml/20161116/7030576.shtml' title='圣诞节海贼王壁纸'><img src='http://www.hanhande.net/upload/litimg/161116/11093G2S5D4016.png' border='0' width='120px' height='100px' alt='圣诞节海贼王壁纸'></a><p><a href='http://op.hanhande.net/shtml/20161116/7030576.shtml' title='圣诞节海贼王壁纸' target='_blank'>圣诞节海贼王壁纸</a></p></li><li><a href='http://op.hanhande.net/shtml/20161116/7030567.shtml' title='海贼帅哥比心壁纸'><img src='http://www.hanhande.net/upload/litimg/161116/10531212S5DO47.png' border='0' width='120px' height='100px' alt='海贼帅哥比心壁纸'></a><p><a href='http://op.hanhande.net/shtml/20161116/7030567.shtml' title='海贼帅哥比心壁纸' target='_blank'>海贼帅哥比心壁纸</a></p></li><li><a href='http://op.hanhande.net/shtml/20161111/7030316.shtml' title='海贼王ipod风格桌面'><img src='http://www.hanhande.net/upload/litimg/161111/10413312S5DL63.jpg' border='0' width='120px' height='100px' alt='海贼王ipod风格桌面'></a><p><a href='http://op.hanhande.net/shtml/20161111/7030316.shtml' title='海贼王ipod风格桌面' target='_blank'>海贼王ipod风格桌面</a></p></li><li><a href='http://op.hanhande.net/shtml/20161111/7030305.shtml' title='海贼王 One piece 简笔画'><img src='http://www.hanhande.net/upload/litimg/161111/101P512S5D9305.jpg' border='0' width='120px' height='100px' alt='海贼王 One piece 简笔画'></a><p><a href='http://op.hanhande.net/shtml/20161111/7030305.shtml' title='海贼王 One piece 简笔画' target='_blank'>海贼王 One piece 简笔画</a></p></li><li><a href='http://op.hanhande.net/shtml/20161101/7029631.shtml' title='海贼王南瓜头像'><img src='http://www.hanhande.net/upload/litimg/161101/10594912S5D10Q.jpg' border='0' width='120px' height='100px' alt='海贼王南瓜头像'></a><p><a href='http://op.hanhande.net/shtml/20161101/7029631.shtml' title='海贼王南瓜头像' target='_blank'>海贼王南瓜头像</a></p></li><li><a href='http://op.hanhande.net/shtml/20161028/7029451.shtml' title='土土驴COS万圣节草帽团'><img src='http://www.hanhande.net/upload/litimg/161028/10462912S5D1416.jpg' border='0' width='120px' height='100px' alt='土土驴COS万圣节草帽团'></a><p><a href='http://op.hanhande.net/shtml/20161028/7029451.shtml' title='土土驴COS万圣节草帽团' target='_blank'>土土驴COS万圣节草帽团</a></p></li><li><a href='http://op.hanhande.net/shtml/20161027/7029352.shtml' title='海贼王中的那些情侣们'><img src='http://www.hanhande.net/upload/litimg/161027/10342512S5Dc13.jpg' border='0' width='120px' height='100px' alt='海贼王中的那些情侣们'></a><p><a href='http://op.hanhande.net/shtml/20161027/7029352.shtml' title='海贼王中的那些情侣们' target='_blank'>海贼王中的那些情侣们</a></p></li><li><a href='http://op.hanhande.net/shtml/20161020/7028924.shtml' title='GOLD剧场版草帽团壁纸'><img src='http://www.hanhande.net/upload/litimg/161020/110S012S5DT18.jpg' border='0' width='120px' height='100px' alt='GOLD剧场版草帽团壁纸'></a><p><a href='http://op.hanhande.net/shtml/20161020/7028924.shtml' title='GOLD剧场版草帽团壁纸' target='_blank'>GOLD剧场版草帽团壁纸</a></p></li>\r\n",
      "                </ul>\r\n",
      "                <div class=\"cl\"></div>\r\n",
      "            <!-- 列表页分页 start -->\r\n",
      "                               <div class=\"page\">\r\n",
      "\t\t\t\t\r\n",
      "\t\t\t\t\t<a href=\"http://op.hanhande.net/shtml/op_wz/list_2602_1.shtml\">首页</a> <a href=\"http://op.hanhande.net/shtml/op_wz/list_2602_1.shtml\" >上一页</a> | 2/27 | <a href=\"http://op.hanhande.net/shtml/op_wz/list_2602_3.shtml\">下一页</a> <a href=\"http://op.hanhande.net/shtml/op_wz/list_2602_27.shtml\">末页</a> <input name=\"jumpnum\" id=\"jumpnum\" type=\"text\" class=\"pageinput1\" value=\"2\"><input name=\"pagerule\" id=\"pagerule\" type=\"hidden\" value=\"http://op.hanhande.net/shtml/op_wz/list_2602_{page}.shtml\" /><input name=\"totalpage\" id=\"totalpage\" type=\"hidden\" value=\"27\" /><a onclick=\"jump()\" id=\"testImageValu\" style=\"cursor:pointer\">跳转</a>\r\n",
      "\t\t\t\t\r\n",
      "                                </div>\r\n",
      "\t\t\t\t <script language=\"javascript\"> \r\n",
      "\t\t\t\tfunction jump()\r\n",
      "\t\t\t\t{ \r\n",
      "\t\t\t\t\tvar jumpnum   = parseInt(document.getElementById(\"jumpnum\").value); //输入框中跳转的页数\r\n",
      "\t\t\t\t\tvar totalpage = parseInt(document.getElementById(\"totalpage\").value); //总页数 \r\n",
      "\t\t\t\t\tif (jumpnum <= 0) {\r\n",
      "\t\t\t\t\t\tjumpnum = 1; // 小于0时设为1\r\n",
      "\t\t\t\t\t} else if (jumpnum > totalpage) {\r\n",
      "\t\t\t\t\t\tjumpnum = totalpage; //大与总页数时，设为总页数\r\n",
      "\t\t\t\t\t}\r\n",
      "\t\t\t\t\tvar pageurl = document.getElementById(\"pagerule\").value; //分页规则 \r\n",
      "\t\t\t\t\twindow.location.href = pageurl.replace(\"{page}\",jumpnum);//跳转 \r\n",
      "\t\t\t\t} \r\n",
      "\t\t\t\t</script>\r\n",
      "\t\t\t\t<!-- 列表页分页 end --> \r\n",
      "            </div>\r\n",
      "\t\t<div class=\"cl\"></div>\r\n",
      "        </div>\r\n",
      "        <div class=\"sidebar\">\r\n",
      "        \t<!-- 56808530：海贼王专区内页一屏画中画 类型：固定 尺寸：300x300-->\r\n",
      "<script type=\"text/javascript\">\r\n",
      "_acM({aid:\"mm_115930194_14338992_56808530\",format:1,mode:1,gid:1,serverbaseurl:\"afpeng.alimama.com/\"});\r\n",
      "</script>\r\n",
      "\r\n",
      "<!--\r\n",
      "<h3 class=\"t1 t15 mt10\"><span><a href=\"http://comic.hanhande.net/sige/\" target=\"_blank\" rel=\"nofollow\">更多</a></span><a href=\"http://comic.hanhande.net/sige/\" target=\"_blank\">邪恶漫画</a></h3>\r\n",
      "        <ul class=\"spic listbox cc\">\r\n",
      "        \t<li><a href='http://comic.hanhande.net/sige/nh/201703/7041964.shtml' title=\"内涵漫画：海边预备物品\" target=\"_blank\"  ><img src='http://www.hanhande.net/upload/litimg/170331/1A01441R6029217.jpg' border='0' width='120px' height='100px' alt='内涵漫画：海边预备物品'></a><p><a href='http://comic.hanhande.net/sige/nh/201703/7041964.shtml' title=\"内涵漫画：海边预备物品\" target='_blank'  >内涵漫画：海边预备物品</a></p></li>\r\n",
      "<li><a href='http://comic.hanhande.net/sige/nh/201703/7041962.shtml' title=\"内涵漫画：拿香水的男的人\" target=\"_blank\"  ><img src='http://www.hanhande.net/upload/litimg/170331/164I341R60221S.jpg' border='0' width='120px' height='100px' alt='内涵漫画：拿香水的男的人'></a><p><a href='http://comic.hanhande.net/sige/nh/201703/7041962.shtml' title=\"内涵漫画：拿香水的男的人\" target='_blank'  >内涵漫画：拿香水的男的人</a></p></li>\r\n",
      "<li><a href='http://comic.hanhande.net/sige/nh/201703/7041739.shtml' title=\"内涵漫画：努力空中悬浮\" target=\"_blank\"  ><img src='http://www.hanhande.net/upload/litimg/170329/13393941R6022431.jpg' border='0' width='120px' height='100px' alt='内涵漫画：努力空中悬浮'></a><p><a href='http://comic.hanhande.net/sige/nh/201703/7041739.shtml' title=\"内涵漫画：努力空中悬浮\" target='_blank'  >内涵漫画：努力空中悬浮</a></p></li>\r\n",
      "<li><a href='http://comic.hanhande.net/sige/nh/201703/7041628.shtml' title=\"内涵漫画：醉酒的习惯\" target=\"_blank\"  ><img src='http://www.hanhande.net/upload/litimg/170328/10512041R6024D5.jpg' border='0' width='120px' height='100px' alt='内涵漫画：醉酒的习惯'></a><p><a href='http://comic.hanhande.net/sige/nh/201703/7041628.shtml' title=\"内涵漫画：醉酒的习惯\" target='_blank'  >内涵漫画：醉酒的习惯</a></p></li>\r\n",
      "\r\n",
      "        </ul>-->\r\n",
      "<h3 class=\"t1 t15 mt10\"><span><a href=\"http://op.hanhande.net/zt/\" target=\"_blank\" rel=\"nofollow\">更多</a></span><a href=\"http://op.hanhande.net/zt/\" target=\"_blank\">专题</a></h3>\r\n",
      "            <ul class=\"nypic listbox cc\">\r\n",
      "            <li><a href='http://op.hanhande.net/zhuanti/hzw900/' title=\"海贼王900话专题：BADEND MUSICAL\" target=\"_blank\"  ><img src='http://www.hanhande.net/upload/litimg/180403/15160112S5J9420.jpg' border='0' width='210px' height='120px' alt='海贼王900话专题：BADEND MUSICAL'></a><p><a href='http://op.hanhande.net/zhuanti/hzw900/' title=\"海贼王900话专题：BADEND MUSICAL\" target='_blank'  >海贼王900话专题：BADEND MUSICAL</a></p></li>\r\n",
      "<li><a href='http://op.hanhande.net/zhuanti/hzw898/' title=\"海贼王898话专题：一定会回来\" target=\"_blank\"  ><img src='http://www.hanhande.net/upload/litimg/180319/16103612S5J4127.jpg' border='0' width='210px' height='120px' alt='海贼王898话专题：一定会回来'></a><p><a href='http://op.hanhande.net/zhuanti/hzw898/' title=\"海贼王898话专题：一定会回来\" target='_blank'  >海贼王898话专题：一定会回来</a></p></li>\r\n",
      "\r\n",
      "        </ul>\r\n",
      "        \r\n",
      "        <h3 class=\"t1 t15 mt10\"><span></span>热门内容排行榜</h3>\r\n",
      "        <ul class=\"rank listbox cc\">\r\n",
      "       \t    <li class=\"top3\"><code>1</code><a href=\"http://op.hanhande.net/shtml/20190313/7073803.shtml\" target=\"_blank\" >《海贼王》中的男神美图,赶紧收图的啦</a></li><li class=\"top3\"><code>2</code><a href=\"http://op.hanhande.net/shtml/20120418/5285775.shtml\" target=\"_blank\" >卖萌的女帝汉库克</a></li><li class=\"top3\"><code>3</code><a href=\"http://op.hanhande.net/shtml/20120326/1908923.shtml\" target=\"_blank\" >各种娜美罗宾汉库克性感照</a></li><li class=\"\"><code>4</code><a href=\"http://op.hanhande.net/shtml/20110830/1752060.shtml\" target=\"_blank\" >海贼宣传海报</a></li><li class=\"\"><code>5</code><a href=\"http://op.hanhande.net/shtml/20110817/1733876.shtml\" target=\"_blank\" >海贼王Q图</a></li><li class=\"\"><code>6</code><a href=\"http://op.hanhande.net/shtml/20120509/5300127.shtml\" target=\"_blank\" >草帽海贼王的专属文身</a></li><li class=\"\"><code>7</code><a href=\"http://op.hanhande.net/shtml/20120322/1907499.shtml\" target=\"_blank\" >海贼王卖萌图</a></li><li class=\"\"><code>8</code><a href=\"http://op.hanhande.net/shtml/20150305/6348664.shtml\" target=\"_blank\" >One Piece Treasure Cruise角色图鉴</a></li><li class=\"\"><code>9</code><a href=\"http://op.hanhande.net/shtml/20120425/5291945.shtml\" target=\"_blank\" >可爱Q版草帽团员</a></li><li class=\"\"><code>10</code><a href=\"http://op.hanhande.net/shtml/20120201/1882721.shtml\" target=\"_blank\" >海贼王2012年历V2.0版</a></li>\r\n",
      "        </ul>\r\n",
      "        <h3 class=\"t1 t15 mt10\"><span><a href=\"http://op.hanhande.net/shtml/meitu.shtml\" target=\"_blank\" rel=\"nofollow\">更多</a></span> <a href=\"http://op.hanhande.net/shtml/meitu.shtml\" target=\"_blank\">海贼王图片</a></h3>\r\n",
      "        <ul class=\"spic listbox cc\">\r\n",
      "        <li><a href='http://op.hanhande.net/shtml/20190313/7073803.shtml' title=\"《海贼王》中的男神美图,赶紧收图的啦\" target=\"_blank\"  ><img src='http://www.hanhande.net/upload/allimg/190313/1_043R34225.jpg' border='0' width='120px' height='100px' alt='《海贼王》中的男神美图,赶紧收图的啦'></a><p><a href='http://op.hanhande.net/shtml/20190313/7073803.shtml' title=\"《海贼王》中的男神美图,赶紧收图的啦\" target='_blank'  >《海贼王》中的男神美图,赶紧收图的啦</a></p></li>\r\n",
      "<li><a href='http://op.hanhande.net/shtml/20180117/7064142.shtml' title=\"海贼王2017Body Calendar挂历版壁纸\" target=\"_blank\"  ><img src='http://www.hanhande.net/upload/litimg/180117/091P612S5DDT.jpg' border='0' width='120px' height='100px' alt='海贼王2017Body Calendar挂历版壁纸'></a><p><a href='http://op.hanhande.net/shtml/20180117/7064142.shtml' title=\"海贼王2017Body Calendar挂历版壁纸\" target='_blank'  >海贼王2017Body Calendar挂历版壁纸</a></p></li>\r\n",
      "<li><a href='http://op.hanhande.net/shtml/20180112/7063896.shtml' title=\"路飞和海贼王的日常铅笔画\" target=\"_blank\"  ><img src='http://www.hanhande.net/upload/litimg/180112/09541112S5D3919.jpg' border='0' width='120px' height='100px' alt='路飞和海贼王的日常铅笔画'></a><p><a href='http://op.hanhande.net/shtml/20180112/7063896.shtml' title=\"路飞和海贼王的日常铅笔画\" target='_blank'  >路飞和海贼王的日常铅笔画</a></p></li>\r\n",
      "<li><a href='http://op.hanhande.net/shtml/20180105/7063361.shtml' title=\"《海贼王》典藏级木版画\" target=\"_blank\"  ><img src='http://www.hanhande.net/upload/litimg/180105/09160112S5D4239.jpg' border='0' width='120px' height='100px' alt='《海贼王》典藏级木版画'></a><p><a href='http://op.hanhande.net/shtml/20180105/7063361.shtml' title=\"《海贼王》典藏级木版画\" target='_blank'  >《海贼王》典藏级木版画</a></p></li>\r\n",
      "\r\n",
      "        </ul>\r\n",
      "       \r\n",
      "<div class=\"cl\"></div>\r\n",
      "\r\n",
      "<!-- 56810490：海贼王专区内页三屏画中画 类型：固定 尺寸：300x300-->\r\n",
      "<script type=\"text/javascript\">\r\n",
      "_acM({aid:\"mm_115930194_14338992_56810490\",format:1,mode:1,gid:1,serverbaseurl:\"afpeng.alimama.com/\"});\r\n",
      "</script>\r\n",
      "</div>\r\n",
      "  \t\t</div>\r\n",
      "</div>\r\n",
      "<div class=\"cl\"></div>\r\n",
      "<div id=\"footer\">\r\n",
      "    <div class=\"btmenu\">憨憨动漫网所有好看的动漫和好看的动画片均收集自各大视频网站，仅供动漫、动画片、漫画在线试看，不提供动漫、动画片大全、漫画大全下载和资源存储，也不参与动画片视频录制和上传及漫画翻译制作和上传。\r\n",
      "如果喜欢，请支持正版！憨憨动漫网不承担任何由于内容的合法性及健康性所引起的争议和法律责任。欢迎大家对本站的不合法或不健康动画片及漫画进行监督举报。 联系方式：willsmith_happy#163.com 有问题请联系邮箱，有事好沟通。\r\n",
      "@2017 憨憨动漫\r\n",
      "<script src=\"https://s13.cnzz.com/z_stat.php?id=1274948804&web_id=1274948804\" language=\"JavaScript\"></script>\r\n",
      "</div>\r\n",
      "</div>\r\n",
      "</div>\r\n",
      "</div>\r\n",
      "<script language=\"javascript\" src=\"opfiles/js.js\"></script> \r\n",
      "\r\n",
      "\r\n",
      "<!-- Baidu Button BEGIN -->\r\n",
      "<script type=\"text/javascript\" id=\"bdshare_js\" data=\"type=slide&mini=1&img=0&pos=left&uid=601772\" ></script>\r\n",
      "<script type=\"text/javascript\" id=\"bdshell_js\"></script>\r\n",
      "<script type=\"text/javascript\">\r\n",
      "var bds_config = {\"bdTop\":330,'snsKey':{'tsina':'2426146717','tqq':'801241468','t163':'W1ETFS1eIJXptwvU'}};\r\n",
      "//在这里定义bds_config\r\n",
      "document.getElementById(\"bdshell_js\").src = \"http://bdimg.share.baidu.com/static/js/shell_v2.js?cdnversion=\" + new Date().getHours();\r\n",
      "</script>\r\n",
      "<!-- Baidu Button END -->\r\n",
      "\r\n",
      "<!--统计-->\r\n",
      "<div style=\"display:none;\"><script>\r\n",
      "(function(){\r\n",
      "    var bp = document.createElement('script');\r\n",
      "    var curProtocol = window.location.protocol.split(':')[0];\r\n",
      "    if (curProtocol === 'https') {\r\n",
      "        bp.src = 'https://zz.bdstatic.com/linksubmit/push.js';        \r\n",
      "    }\r\n",
      "    else {\r\n",
      "        bp.src = 'http://push.zhanzhang.baidu.com/push.js';\r\n",
      "    }\r\n",
      "    var s = document.getElementsByTagName(\"script\")[0];\r\n",
      "    s.parentNode.insertBefore(bp, s);\r\n",
      "})();\r\n",
      "</script>\r\n",
      "\r\n",
      "\r\n",
      "\r\n",
      "<!-- 360自动收录 -->\r\n",
      "<script>\r\n",
      "(function(){\r\n",
      "   var src = (document.location.protocol == \"http:\") ? \"http://js.passport.qihucdn.com/11.0.1.js?d5fe0f8fdca28aeea5126ed7c104d31a\":\"https://jspassport.ssl.qhimg.com/11.0.1.js?d5fe0f8fdca28aeea5126ed7c104d31a\";\r\n",
      "   document.write('<script src=\"' + src + '\" id=\"sozz\"><\\/script>');\r\n",
      "})();\r\n",
      "</script>\r\n",
      " <!--分享-->\r\n",
      "<!-- Baidu Button BEGIN -->\r\n",
      "<script type=\"text/javascript\" id=\"bdshare_js\" data=\"type=slide&mini=1&img=6&pos=left&uid=601772\" ></script>\r\n",
      "<script type=\"text/javascript\" id=\"bdshell_js\"></script>\r\n",
      "<script type=\"text/javascript\">\r\n",
      "var bds_config = {\"bdTop\":500};\r\n",
      "//在这里定义bds_config\r\n",
      "document.getElementById(\"bdshell_js\").src = \"http://bdimg.share.baidu.com/static/js/shell_v2.js?cdnversion=\" + new Date().getHours();\r\n",
      "</script>\r\n",
      "<!-- Baidu Button END --> \r\n",
      "</div>\r\n",
      "<!--统计-->\r\n",
      " \r\n",
      "\r\n",
      "<!--弹窗-->\r\n",
      "\r\n",
      "\r\n",
      "</body>\r\n",
      "</html>\n"
     ]
    }
   ],
   "source": [
    "# 爬取网页源代码\n",
    "import requests\n",
    "\n",
    "url = 'http://op.hanhande.net/shtml/op_wz/list_2602_2.shtml'\n",
    "response = requests.get(url)\n",
    "response.encoding = 'gbk'\n",
    "HTML = response.text\n",
    "print(HTML)"
   ]
  },
  {
   "cell_type": "code",
   "execution_count": 18,
   "metadata": {},
   "outputs": [
    {
     "name": "stdout",
     "output_type": "stream",
     "text": [
      "Process-11 will be start...\n",
      "Process-12 will be start...\n",
      "Process-11;Process-12 Over!\n"
     ]
    }
   ],
   "source": [
    "\"\"\"\n",
    "将所有的图片源代码爬下来.\n",
    "\"\"\"\n",
    "import requests\n",
    "from multiprocessing import Process\n",
    "# process 1: 1-15\n",
    "# process 2: 15-27\n",
    "\n",
    "\n",
    "def download_page(start,end):\n",
    "    for i in range(start,end):\n",
    "        url = 'http://op.hanhande.net/shtml/op_wz/list_2602_%d.shtml'%i\n",
    "        response = requests.get(url)\n",
    "        response.encoding = 'gbk'\n",
    "        # HTML = response.text\n",
    "        print(response.status_code)\n",
    "\n",
    "\n",
    "def main():\n",
    "    p1 = Process(target=download_page,args=(1,15))\n",
    "    p2 = Process(target=download_page,args=(15,28))\n",
    "    print('%s will be start...'%p1.name)\n",
    "    print('%s will be start...'%p2.name)\n",
    "\n",
    "    p1.start()\n",
    "    p2.start()\n",
    "\n",
    "    p1.join()\n",
    "    p2.join()\n",
    "\n",
    "    print('%s;%s Over!'%(p1.name,p2.name))\n",
    "\n",
    "if __name__ == \"__main__\":\n",
    "    main()"
   ]
  },
  {
   "cell_type": "markdown",
   "metadata": {},
   "source": [
    "## Homework\n",
    "    下载图片的时候,response.text ==> response.content\n",
    "    with open( mode='wb') == > open(mode='wb')\n",
    "    将所有的图片下载到本地一个文件夹内.\n",
    "    \n",
    "    homework3:\n",
    "    爬取百度搜索关键字,存入本地\n",
    "    ”https://wenku.baidu.com/view/e7a89367d5bbfd0a78567317.html“"
   ]
  },
  {
   "cell_type": "code",
   "execution_count": 16,
   "metadata": {},
   "outputs": [
    {
     "name": "stdout",
     "output_type": "stream",
     "text": [
      "0.19148802757263184\n"
     ]
    }
   ],
   "source": [
    "# 多进程的库\n",
    "\n",
    "from multiprocessing import Process\n",
    "from random import randint\n",
    "from time import time, sleep\n",
    "import os\n",
    "import requests\n",
    "from lxml import etree\n",
    "def baocun(url):#此方法是将图片保存文件到本地 只需要传入图片地址\n",
    "    try:\n",
    "        root = \"F://picture//\"#这是根文件所在\n",
    "        path=root+url.split('/')[-1]#通过’/‘把图片的url分开找到最后的那个就是带.jpg的保存起来\n",
    "\n",
    "        if not os.path.exists(root):\n",
    "            os.mkdir(root)\n",
    "        if not os.path.exists(path):\n",
    "            r = requests.get(url)\n",
    "            r.raise_for_status()\n",
    "            with open(path,'wb') as f:#模式以二进制格式打开一个文件只用于写入。如果该文件已存在则打开文件，并从开头开始编辑，即原有内容会被删除。如果该文件不存在，创建新文件。一般用于非文本文件如图片等\n",
    "                f.write(r.content)#r.content返回二进制，像图片\n",
    "                print('爬取成功')\n",
    "    except Exception as e:\n",
    "        print(e)\n",
    "def download_task(num1,num2):\n",
    "    print(num1,num2)\n",
    "    for i in range(num1,num2+1):\n",
    "        url = 'http://op.hanhande.net/shtml/op_wz/list_2602_'+str(i)+'.shtml'\n",
    "        response = requests.get(url)\n",
    "        response.encoding = 'gbk'\n",
    "        wb_data = response.text\n",
    "        html = etree.HTML(wb_data)\n",
    "        html_data = html.xpath('//*[@id=\"main\"]/div[2]/div[2]/ul/li/a/img/@src')\n",
    "        for i_ in html_data:\n",
    "            print(i_)\n",
    "            baocun(i_)\n",
    "\n",
    "\n",
    "            # q = i_.split('/')[-1]\n",
    "            # w = q.split('.')[0]\n",
    "            # print(w)\n",
    "            # # file = 'D:/PYTHON/%s.txt'%w\n",
    "            # # a = open(file,'w',encoding='gbk')\n",
    "            # # a.close()\n",
    "            \n",
    "\n",
    "def main():\n",
    "\n",
    "    start = time()\n",
    "    # 开启两个多进程，     函数名              传递的参数,需要注意的是,它接受的是一个元组(tuple)\n",
    "    p1 = Process(target=download_task, args=(3,5))\n",
    "    p2 = Process(target=download_task, args=(6,8))\n",
    "    # 获取进程号\n",
    "\n",
    "    # 启动进程\n",
    "    p1.start()\n",
    "    p2.start()\n",
    "\n",
    "    ##############\n",
    "    # 进程阻塞.\n",
    "    p1.join()\n",
    "    p2.join()\n",
    "    ##############\n",
    "    end = time()\n",
    "    print(end - start)\n",
    "\n",
    "\n",
    "if __name__ == '__main__':\n",
    "    main()"
   ]
  },
  {
   "cell_type": "code",
   "execution_count": 2,
   "metadata": {},
   "outputs": [
    {
     "name": "stdout",
     "output_type": "stream",
     "text": [
      "Process-3 will be start...\n",
      "Process-4 will be start...\n",
      "Process-3;Process-4 Over!\n"
     ]
    }
   ],
   "source": [
    "\"\"\"\n",
    "下载图片的时候,response.text ==> response.content\n",
    "with open( mode='wb') == > open(mode='wb')\n",
    "将所有的图片下载到本地一个文件夹内.\n",
    "\"\"\"\n",
    "\n",
    "import requests\n",
    "from multiprocessing import Process\n",
    "# process 1: 1-15\n",
    "# process 2: 15-27\n",
    "\n",
    "\n",
    "\n",
    "#ef download_page(start,end):\n",
    "#   for i in range(start,end):\n",
    "#       url = 'http://op.hanhande.net/shtml/op_wz/list_2602_%d.shtml'%i\n",
    "#       response = requests.get(url)\n",
    "#       response.encoding = 'gbk'\n",
    "#       # HTML = response.text\n",
    "#       print(response.status_code)\n",
    "        \n",
    "def oringin(page,name):\n",
    "    print(name+'正在爬取')\n",
    "    dir = 'F://picture//'\n",
    "    oringin = []\n",
    "    response = requests.get(page,headers=header)\n",
    "    res = re.findall('li.*href=\"(.*)\".*><img.*/li',response.text)\n",
    "    for url in res:\n",
    "        result = re.findall('(.*)\" target', url)\n",
    "        oringin.append(result)\n",
    "    num = len(oringin)\n",
    "    for url in oringin:\n",
    "        count = uuid.uuid1()\n",
    "        res = requests.get(url.pop(), headers=header)\n",
    "        with open(dir+str(count)+'.jpg','wb') as file:\n",
    "            file.write(res.content)    \n",
    "        \n",
    "\n",
    "\n",
    "def main():\n",
    "    p1 = Process(target=oringin,args=(1,15))\n",
    "    p2 = Process(target=oringin,args=(15,28))\n",
    "    print('%s will be start...'%p1.name)\n",
    "    print('%s will be start...'%p2.name)\n",
    "\n",
    "    p1.start()\n",
    "    p2.start()\n",
    "\n",
    "    p1.join()\n",
    "    p2.join()\n",
    "\n",
    "    print('%s;%s Over!'%(p1.name,p2.name))\n",
    "\n",
    "if __name__ == \"__main__\":\n",
    "    main()\n"
   ]
  },
  {
   "cell_type": "code",
   "execution_count": null,
   "metadata": {},
   "outputs": [],
   "source": []
  },
  {
   "cell_type": "code",
   "execution_count": null,
   "metadata": {},
   "outputs": [],
   "source": []
  },
  {
   "cell_type": "code",
   "execution_count": null,
   "metadata": {},
   "outputs": [],
   "source": []
  },
  {
   "cell_type": "code",
   "execution_count": null,
   "metadata": {},
   "outputs": [],
   "source": []
  },
  {
   "cell_type": "code",
   "execution_count": null,
   "metadata": {},
   "outputs": [],
   "source": []
  },
  {
   "cell_type": "code",
   "execution_count": null,
   "metadata": {},
   "outputs": [],
   "source": []
  },
  {
   "cell_type": "code",
   "execution_count": null,
   "metadata": {},
   "outputs": [],
   "source": []
  },
  {
   "cell_type": "code",
   "execution_count": null,
   "metadata": {},
   "outputs": [],
   "source": []
  }
 ],
 "metadata": {
  "kernelspec": {
   "display_name": "Python 3",
   "language": "python",
   "name": "python3"
  },
  "language_info": {
   "codemirror_mode": {
    "name": "ipython",
    "version": 3
   },
   "file_extension": ".py",
   "mimetype": "text/x-python",
   "name": "python",
   "nbconvert_exporter": "python",
   "pygments_lexer": "ipython3",
   "version": "3.7.3"
  }
 },
 "nbformat": 4,
 "nbformat_minor": 2
}
