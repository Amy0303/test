{
 "cells": [
  {
   "cell_type": "code",
   "execution_count": 10,
   "metadata": {},
   "outputs": [],
   "source": [
    "from lxml import etree"
   ]
  },
  {
   "cell_type": "code",
   "execution_count": 91,
   "metadata": {},
   "outputs": [],
   "source": [
    "html = '''\n",
    "<xml version=\"1.0\" encoding=\"ISO-8859-1\">\n",
    "\n",
    "<bookstore>\n",
    "<div class=\"hahaa\">男朋友</div>\n",
    "\n",
    "<book>\n",
    "  <p>啦啦啦</p>\n",
    "  <title lang=\"eng\">早日找到男朋友</title>\n",
    "  <div class=\"hahaa\">男朋友</div>\n",
    "  <price>29.99</price>\n",
    "  <a href=\"www.baidu.com\"></a>\n",
    "</book>\n",
    "\n",
    "<book>\n",
    "  <title lang=\"eng\">Learning XML</title>\n",
    "  <price>39.95</price>\n",
    "</book>\n",
    "\n",
    "</bookstore>\n",
    "\n",
    "'''"
   ]
  },
  {
   "cell_type": "code",
   "execution_count": 92,
   "metadata": {},
   "outputs": [
    {
     "data": {
      "text/plain": [
       "<Element html at 0x7f80808>"
      ]
     },
     "execution_count": 92,
     "metadata": {},
     "output_type": "execute_result"
    }
   ],
   "source": [
    "tree = etree.HTML(html)\n",
    "tree"
   ]
  },
  {
   "cell_type": "markdown",
   "metadata": {},
   "source": [
    "# XPATH语法\n",
    "## 一层一层往下挖模式\n",
    "> - '/'\t从根节点选取\n",
    "- '//'\t从匹配选择的当前节点选择文档中的节点，而不考虑它们的位置 **\n",
    "- '.'\t选取当前节点 **\n",
    "- '..'\t选取当前节点的父节点\n",
    "- '@'   提取属性和控制属性 ** \n",
    "- '[]'  属性容器\n",
    "- '*'\t匹配任何元素节点\n",
    "- text() 以文本的方式返回提取的内容 **"
   ]
  },
  {
   "cell_type": "code",
   "execution_count": 93,
   "metadata": {},
   "outputs": [
    {
     "data": {
      "text/plain": [
       "[]"
      ]
     },
     "execution_count": 93,
     "metadata": {},
     "output_type": "execute_result"
    }
   ],
   "source": [
    "tree.xpath('//book/title[@lang=\"engg\"]/text()')"
   ]
  },
  {
   "cell_type": "code",
   "execution_count": 94,
   "metadata": {},
   "outputs": [
    {
     "data": {
      "text/plain": [
       "[<Element p at 0x7f80708>]"
      ]
     },
     "execution_count": 94,
     "metadata": {},
     "output_type": "execute_result"
    }
   ],
   "source": [
    "tree.xpath('//book/p')"
   ]
  },
  {
   "cell_type": "code",
   "execution_count": 95,
   "metadata": {},
   "outputs": [
    {
     "data": {
      "text/plain": [
       "['男朋友']"
      ]
     },
     "execution_count": 95,
     "metadata": {},
     "output_type": "execute_result"
    }
   ],
   "source": [
    "tree.xpath('//book/div/text()')"
   ]
  },
  {
   "cell_type": "code",
   "execution_count": 96,
   "metadata": {},
   "outputs": [
    {
     "data": {
      "text/plain": [
       "['早日找到男朋友']"
      ]
     },
     "execution_count": 96,
     "metadata": {},
     "output_type": "execute_result"
    }
   ],
   "source": [
    "tree.xpath('//book[1]/title/text()')"
   ]
  },
  {
   "cell_type": "code",
   "execution_count": 97,
   "metadata": {},
   "outputs": [
    {
     "name": "stdout",
     "output_type": "stream",
     "text": [
      "[<Element book at 0x7f804c8>, <Element book at 0x5d8d4c8>]\n",
      "['早日找到男朋友']\n",
      "['Learning XML']\n"
     ]
    }
   ],
   "source": [
    "book = tree.xpath('//book')\n",
    "print(book)\n",
    "for i in book:\n",
    "    print(i.xpath('./title/text()'))"
   ]
  },
  {
   "cell_type": "code",
   "execution_count": 98,
   "metadata": {},
   "outputs": [
    {
     "name": "stdout",
     "output_type": "stream",
     "text": [
      "[<Element book at 0x7f804c8>, <Element book at 0x5d8d4c8>]\n",
      "['男朋友']\n",
      "['男朋友']\n"
     ]
    }
   ],
   "source": [
    "book = tree.xpath('//book')\n",
    "print(book)\n",
    "for i in book:\n",
    "    print(i.xpath('../div/text()'))\n"
   ]
  },
  {
   "cell_type": "code",
   "execution_count": null,
   "metadata": {},
   "outputs": [],
   "source": []
  },
  {
   "cell_type": "code",
   "execution_count": 186,
   "metadata": {},
   "outputs": [
    {
     "name": "stdout",
     "output_type": "stream",
     "text": [
      "[<Element a at 0x8241388>, <Element a at 0x8241c48>, <Element a at 0x8241d48>, <Element a at 0x8241b08>, <Element a at 0x8241a88>, <Element a at 0x8241508>, <Element a at 0x82415c8>, <Element a at 0x82417c8>, <Element a at 0x8241848>, <Element a at 0x8241a48>, <Element a at 0x82418c8>, <Element a at 0x8241948>, <Element a at 0x8241208>]\n"
     ]
    }
   ],
   "source": [
    "import requests\n",
    "b = requests.get('http://www.17k.com/')\n",
    "#print(b.text)\n",
    "from lxml import etree\n",
    "tree = etree.HTML(b.text)\n",
    "c = tree.xpath('//body/div[@class=\"Nav\"]/div/a[@href]')\n",
    "print(c)"
   ]
  },
  {
   "cell_type": "code",
   "execution_count": 100,
   "metadata": {},
   "outputs": [
    {
     "data": {
      "text/plain": [
       "['www.baidu.com']"
      ]
     },
     "execution_count": 100,
     "metadata": {},
     "output_type": "execute_result"
    }
   ],
   "source": [
    "tree.xpath('//book/a[@href]/@href')"
   ]
  },
  {
   "cell_type": "code",
   "execution_count": 109,
   "metadata": {},
   "outputs": [
    {
     "data": {
      "text/plain": [
       "[<Element div at 0x7fac708>]"
      ]
     },
     "execution_count": 109,
     "metadata": {},
     "output_type": "execute_result"
    }
   ],
   "source": [
    "import requests\n",
    "b = requests.get('http://www.17k.com/')\n",
    "tree.xpath('/html/body/div[2]')"
   ]
  },
  {
   "cell_type": "markdown",
   "metadata": {},
   "source": [
    "# 测试正则表达网址\n",
    "#http://tool.oschina.net/regex/"
   ]
  },
  {
   "cell_type": "code",
   "execution_count": 110,
   "metadata": {},
   "outputs": [],
   "source": [
    "import re"
   ]
  },
  {
   "cell_type": "markdown",
   "metadata": {},
   "source": [
    "# re.match\n",
    "re.match 尝试从字符串的起始位置匹配每一个模式，如果不是起始位置匹配成功的话，match()会返回None,不常用\n",
    "# re.match(pattern,string,flags=0)\n",
    "- 第一个参数：正则表达式\n",
    "- 第二个参数：匹配的字符串\n",
    "- 第三个参数：匹配的模式"
   ]
  },
  {
   "cell_type": "markdown",
   "metadata": {},
   "source": [
    "# 最常规匹配"
   ]
  },
  {
   "cell_type": "code",
   "execution_count": 113,
   "metadata": {},
   "outputs": [
    {
     "name": "stdout",
     "output_type": "stream",
     "text": [
      "Hello 123 4567 World_This is a Regex Demo\n"
     ]
    }
   ],
   "source": [
    "import re\n",
    "content = 'Hello 123 4567 World_This is a Regex Demo'\n",
    "res = re.match('^Hello\\s\\d\\d\\d\\s\\d{4}\\s\\w{10}\\s.*',content)\n",
    "print(res.group())"
   ]
  },
  {
   "cell_type": "code",
   "execution_count": 122,
   "metadata": {},
   "outputs": [
    {
     "name": "stdout",
     "output_type": "stream",
     "text": [
      "zhangrui is good man\n"
     ]
    }
   ],
   "source": [
    "import re\n",
    "content = 'zhangrui is good man'\n",
    "res = re.match('^z\\w{7}\\s\\w{2}\\s\\w{4}\\s\\w{3}',content)\n",
    "print(res.group())"
   ]
  },
  {
   "cell_type": "markdown",
   "metadata": {},
   "source": [
    "# 泛匹配 .*"
   ]
  },
  {
   "cell_type": "code",
   "execution_count": 129,
   "metadata": {},
   "outputs": [
    {
     "name": "stdout",
     "output_type": "stream",
     "text": [
      "zhangrui is good man\n"
     ]
    }
   ],
   "source": [
    "import re\n",
    "content = 'zhangrui is good man'\n",
    "res = re.match('^z.*',content)\n",
    "print(res.group())"
   ]
  },
  {
   "cell_type": "markdown",
   "metadata": {},
   "source": [
    "# 匹配目标"
   ]
  },
  {
   "cell_type": "code",
   "execution_count": 125,
   "metadata": {},
   "outputs": [
    {
     "name": "stdout",
     "output_type": "stream",
     "text": [
      "4567\n",
      "World_This\n"
     ]
    }
   ],
   "source": [
    "import re\n",
    "content = 'Hello 123 4567 World_This is a Regex Demo'\n",
    "res = re.match('^Hello\\s\\d{3}\\s(\\d{4})\\s(\\w{10})\\s.*',content)\n",
    "print(res.group(1))\n",
    "print(res.group(2))"
   ]
  },
  {
   "cell_type": "code",
   "execution_count": 139,
   "metadata": {},
   "outputs": [
    {
     "name": "stdout",
     "output_type": "stream",
     "text": [
      "213\n",
      "123\n",
      "haha\n"
     ]
    }
   ],
   "source": [
    "import re\n",
    "content = 'Joker is 213 a bad 123 man and hahah'\n",
    "res = re.match('^Joker\\s\\w{2}\\s(\\d{3})\\s\\w{1}\\s\\w{3}\\s(\\d{3})\\s\\w{3}\\s\\w{3}\\s(\\w{4})',content)\n",
    "print(res.group(1))\n",
    "print(res.group(2))\n",
    "print(res.group(3))"
   ]
  },
  {
   "cell_type": "code",
   "execution_count": 134,
   "metadata": {},
   "outputs": [
    {
     "name": "stdout",
     "output_type": "stream",
     "text": [
      "213\n",
      "123\n",
      "hahah\n"
     ]
    }
   ],
   "source": [
    "import re\n",
    "content = 'Joker is 213 a bad 123 man and hahah'\n",
    "res = re.match('^Joker\\s\\w{2}\\s(\\d{3}).*(\\d{3}).*(\\w{5})',content)\n",
    "print(res.group(1))\n",
    "print(res.group(2))\n",
    "print(res.group(3))"
   ]
  },
  {
   "cell_type": "code",
   "execution_count": 135,
   "metadata": {},
   "outputs": [
    {
     "name": "stdout",
     "output_type": "stream",
     "text": [
      "213\n",
      "123\n",
      "hahah\n"
     ]
    }
   ],
   "source": [
    "import re\n",
    "content = 'Joker is 213 a bad 123 man and hahah'\n",
    "res = re.match('^Joker.*\\s(\\d{3}).*\\s(\\d{3}).*\\s(\\w{5})',content)\n",
    "print(res.group(1))\n",
    "print(res.group(2))\n",
    "print(res.group(3))"
   ]
  },
  {
   "cell_type": "markdown",
   "metadata": {},
   "source": [
    "# 贪婪匹配尽可能匹配多个元素"
   ]
  },
  {
   "cell_type": "code",
   "execution_count": 145,
   "metadata": {},
   "outputs": [
    {
     "name": "stdout",
     "output_type": "stream",
     "text": [
      "7\n"
     ]
    }
   ],
   "source": [
    "import re\n",
    "content = 'Hello 1234567 World_This is a Regex Demo'\n",
    "res = re.match('^Hello\\s.*(\\d+)',content)\n",
    "print(res.group(1))"
   ]
  },
  {
   "cell_type": "code",
   "execution_count": 144,
   "metadata": {},
   "outputs": [
    {
     "name": "stdout",
     "output_type": "stream",
     "text": [
      "1234567\n"
     ]
    }
   ],
   "source": [
    "import re\n",
    "content = 'Hello 1234567 World_This is a Regex Demo'\n",
    "res = re.match('^Hello.*?(\\d+)',content)\n",
    "print(res.group(1))"
   ]
  },
  {
   "cell_type": "markdown",
   "metadata": {},
   "source": [
    "# 非贪婪模式“？”"
   ]
  },
  {
   "cell_type": "markdown",
   "metadata": {},
   "source": [
    "# 作业1"
   ]
  },
  {
   "cell_type": "code",
   "execution_count": 185,
   "metadata": {},
   "outputs": [
    {
     "name": "stdout",
     "output_type": "stream",
     "text": [
      "['http://www.17k.com/', 'http://top.17k.com/', 'http://all.17k.com/lib/book.html', 'http://zhuanti.17k.com/subject/2017dsip/pc/index.html', 'http://www.17k.com/man/', 'http://mm.17k.com/', 'http://www.17k.com/gexing/', 'http://www.17k.com/adaptation/index.html', 'http://www.17k.com/mianfei/', 'http://www.17k.com/quanben/', 'http://bbs.17k.com', 'http://www.17k.com/download/', 'http://wan.17k.com/jump/nyfpl71']\n"
     ]
    }
   ],
   "source": [
    "import requests\n",
    "b = requests.get('http://www.17k.com/')\n",
    "#print(b.text)\n",
    "from lxml import etree\n",
    "tree = etree.HTML(b.text)\n",
    "c = tree.xpath('//body/div[@class=\"Nav\"]/div/a[@href]/@href')\n",
    "print(c)"
   ]
  },
  {
   "cell_type": "markdown",
   "metadata": {},
   "source": [
    "# 作业 2"
   ]
  },
  {
   "cell_type": "code",
   "execution_count": 184,
   "metadata": {},
   "outputs": [
    {
     "name": "stdout",
     "output_type": "stream",
     "text": [
      "4\n",
      "2\n",
      "456\n"
     ]
    }
   ],
   "source": [
    "import re\n",
    "content = 'Hello 1234567 hahaha 123 lalal 456'\n",
    "res = re.match('^Hello.*\\d{3}(\\d)\\d{3}\\s.*\\d(\\d)\\d\\s.*?(\\d+)',content)\n",
    "print(res.group(1))\n",
    "print(res.group(2))\n",
    "print(res.group(3))"
   ]
  }
 ],
 "metadata": {
  "kernelspec": {
   "display_name": "Python 3",
   "language": "python",
   "name": "python3"
  },
  "language_info": {
   "codemirror_mode": {
    "name": "ipython",
    "version": 3
   },
   "file_extension": ".py",
   "mimetype": "text/x-python",
   "name": "python",
   "nbconvert_exporter": "python",
   "pygments_lexer": "ipython3",
   "version": "3.6.4"
  }
 },
 "nbformat": 4,
 "nbformat_minor": 2
}
